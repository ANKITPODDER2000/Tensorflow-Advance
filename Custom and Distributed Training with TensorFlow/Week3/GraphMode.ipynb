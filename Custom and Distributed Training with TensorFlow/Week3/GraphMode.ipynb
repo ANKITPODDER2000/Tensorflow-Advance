{
  "nbformat": 4,
  "nbformat_minor": 0,
  "metadata": {
    "colab": {
      "name": "GraphMode.ipynb",
      "provenance": []
    },
    "kernelspec": {
      "name": "python3",
      "display_name": "Python 3"
    }
  },
  "cells": [
    {
      "cell_type": "code",
      "metadata": {
        "id": "n1DqaFyOwJxE"
      },
      "source": [
        "import tensorflow as tf\n",
        "print(\"Version of tensorflow is : \",tf.__version__)"
      ],
      "execution_count": null,
      "outputs": []
    },
    {
      "cell_type": "code",
      "metadata": {
        "id": "aTPzi8f_wW31"
      },
      "source": [
        "@tf.function\n",
        "def add(x , y):\n",
        "    return x+y"
      ],
      "execution_count": 2,
      "outputs": []
    },
    {
      "cell_type": "code",
      "metadata": {
        "colab": {
          "base_uri": "https://localhost:8080/"
        },
        "id": "UedSlqmbwkHj",
        "outputId": "ed8969a0-de38-4d3e-8c3d-dca8890a3531"
      },
      "source": [
        "a = tf.Variable(1.0)\n",
        "b = tf.Variable(2.0)\n",
        "\n",
        "print(\"Add of a & b is : \",add(a , b))"
      ],
      "execution_count": 4,
      "outputs": [
        {
          "output_type": "stream",
          "text": [
            "Add of a & b is :  tf.Tensor(3.0, shape=(), dtype=float32)\n"
          ],
          "name": "stdout"
        }
      ]
    },
    {
      "cell_type": "code",
      "metadata": {
        "colab": {
          "base_uri": "https://localhost:8080/"
        },
        "id": "bhfDV2_CwubL",
        "outputId": "8dd1f7d6-5a90-4125-d5dc-0dd7d4ef3239"
      },
      "source": [
        "print(\"Function is :\\n==========================================\\n\",tf.autograph.to_code(add.python_function))"
      ],
      "execution_count": 6,
      "outputs": [
        {
          "output_type": "stream",
          "text": [
            "Function is :\n",
            "==========================================\n",
            " def tf__add(x, y):\n",
            "    with ag__.FunctionScope('add', 'fscope', ag__.ConversionOptions(recursive=True, user_requested=True, optional_features=(), internal_convert_user_code=True)) as fscope:\n",
            "        do_return = False\n",
            "        retval_ = ag__.UndefinedReturnValue()\n",
            "        try:\n",
            "            do_return = True\n",
            "            retval_ = (ag__.ld(x) + ag__.ld(y))\n",
            "        except:\n",
            "            do_return = False\n",
            "            raise\n",
            "        return fscope.ret(retval_, do_return)\n",
            "\n"
          ],
          "name": "stdout"
        }
      ]
    },
    {
      "cell_type": "code",
      "metadata": {
        "id": "NhTd_Lflw6a6"
      },
      "source": [
        "@tf.function\n",
        "def relu(x):\n",
        "    return tf.where(x < 0 , 0 , x)"
      ],
      "execution_count": 11,
      "outputs": []
    },
    {
      "cell_type": "code",
      "metadata": {
        "colab": {
          "base_uri": "https://localhost:8080/"
        },
        "id": "ObyRrwhQxMKK",
        "outputId": "cadf3e9f-6b6b-45b6-c508-a160a74b652e"
      },
      "source": [
        "print(\"Relu(5) : \",relu(5))"
      ],
      "execution_count": 12,
      "outputs": [
        {
          "output_type": "stream",
          "text": [
            "Relu(5) :  tf.Tensor(5, shape=(), dtype=int32)\n"
          ],
          "name": "stdout"
        }
      ]
    },
    {
      "cell_type": "code",
      "metadata": {
        "colab": {
          "base_uri": "https://localhost:8080/"
        },
        "id": "UtYe31D9xNvS",
        "outputId": "d04a9bd4-b25f-44ab-c03a-616d3d87e128"
      },
      "source": [
        "print(tf.autograph.to_code(relu.python_function))"
      ],
      "execution_count": 14,
      "outputs": [
        {
          "output_type": "stream",
          "text": [
            "def tf__relu(x):\n",
            "    with ag__.FunctionScope('relu', 'fscope', ag__.ConversionOptions(recursive=True, user_requested=True, optional_features=(), internal_convert_user_code=True)) as fscope:\n",
            "        do_return = False\n",
            "        retval_ = ag__.UndefinedReturnValue()\n",
            "        try:\n",
            "            do_return = True\n",
            "            retval_ = ag__.converted_call(ag__.ld(tf).where, ((ag__.ld(x) < 0), 0, ag__.ld(x)), None, fscope)\n",
            "        except:\n",
            "            do_return = False\n",
            "            raise\n",
            "        return fscope.ret(retval_, do_return)\n",
            "\n"
          ],
          "name": "stdout"
        }
      ]
    },
    {
      "cell_type": "code",
      "metadata": {
        "colab": {
          "base_uri": "https://localhost:8080/"
        },
        "id": "fDJlMBrjxgja",
        "outputId": "b6f67312-bf54-4323-ede6-c29d2b3339cf"
      },
      "source": [
        "a = tf.Variable(1.0)\n",
        "b = tf.Variable(2.0)\n",
        "@tf.function\n",
        "def f(x , y):\n",
        "    a.assign(y * b) # 4\n",
        "    b.assign_add(x * a) #6\n",
        "    return a+b\n",
        "print(f(1.0,2.0))\n",
        "print(tf.autograph.to_code(f.python_function))"
      ],
      "execution_count": 18,
      "outputs": [
        {
          "output_type": "stream",
          "text": [
            "tf.Tensor(10.0, shape=(), dtype=float32)\n",
            "def tf__f(x, y):\n",
            "    with ag__.FunctionScope('f', 'fscope', ag__.ConversionOptions(recursive=True, user_requested=True, optional_features=(), internal_convert_user_code=True)) as fscope:\n",
            "        do_return = False\n",
            "        retval_ = ag__.UndefinedReturnValue()\n",
            "        ag__.converted_call(ag__.ld(a).assign, ((ag__.ld(y) * ag__.ld(b)),), None, fscope)\n",
            "        ag__.converted_call(ag__.ld(b).assign_add, ((ag__.ld(x) * ag__.ld(a)),), None, fscope)\n",
            "        try:\n",
            "            do_return = True\n",
            "            retval_ = (ag__.ld(a) + ag__.ld(b))\n",
            "        except:\n",
            "            do_return = False\n",
            "            raise\n",
            "        return fscope.ret(retval_, do_return)\n",
            "\n"
          ],
          "name": "stdout"
        }
      ]
    },
    {
      "cell_type": "code",
      "metadata": {
        "colab": {
          "base_uri": "https://localhost:8080/"
        },
        "id": "HUTlQQ_T1wmj",
        "outputId": "4ae3c23c-ef28-4a92-89f3-31d17870927d"
      },
      "source": [
        "@tf.function\n",
        "def sign(a):\n",
        "    if a>0:\n",
        "        return \"Pos\"\n",
        "    else:\n",
        "        return \"neg\"\n",
        "\n",
        "print(sign(2))\n",
        "print(sign(-2))\n",
        "\n",
        "print(\"Function is :\\n=============================================\\n\\n\",tf.autograph.to_code(sign.python_function))"
      ],
      "execution_count": 19,
      "outputs": [
        {
          "output_type": "stream",
          "text": [
            "tf.Tensor(b'Pos', shape=(), dtype=string)\n",
            "tf.Tensor(b'neg', shape=(), dtype=string)\n",
            "Function is :\n",
            "=============================================\n",
            "\n",
            " def tf__sign(a):\n",
            "    with ag__.FunctionScope('sign', 'fscope', ag__.ConversionOptions(recursive=True, user_requested=True, optional_features=(), internal_convert_user_code=True)) as fscope:\n",
            "        do_return = False\n",
            "        retval_ = ag__.UndefinedReturnValue()\n",
            "\n",
            "        def get_state():\n",
            "            return (do_return, retval_)\n",
            "\n",
            "        def set_state(vars_):\n",
            "            nonlocal do_return, retval_\n",
            "            (do_return, retval_) = vars_\n",
            "\n",
            "        def if_body():\n",
            "            nonlocal do_return, retval_\n",
            "            try:\n",
            "                do_return = True\n",
            "                retval_ = 'Pos'\n",
            "            except:\n",
            "                do_return = False\n",
            "                raise\n",
            "\n",
            "        def else_body():\n",
            "            nonlocal do_return, retval_\n",
            "            try:\n",
            "                do_return = True\n",
            "                retval_ = 'neg'\n",
            "            except:\n",
            "                do_return = False\n",
            "                raise\n",
            "        ag__.if_stmt((ag__.ld(a) > 0), if_body, else_body, get_state, set_state, ('do_return', 'retval_'), 2)\n",
            "        return fscope.ret(retval_, do_return)\n",
            "\n"
          ],
          "name": "stdout"
        }
      ]
    },
    {
      "cell_type": "code",
      "metadata": {
        "colab": {
          "base_uri": "https://localhost:8080/"
        },
        "id": "zC8F23352894",
        "outputId": "a04fe531-0a55-4959-d8be-520026d1388d"
      },
      "source": [
        "@tf.function\n",
        "def f(x):\n",
        "    while tf.reduce_sum(x) > 1:\n",
        "        tf.print(x)\n",
        "        x = tf.tanh(x)\n",
        "    tf.print(\"DONE :')\")\n",
        "f(tf.random.uniform(([5])))\n",
        "print(\"\\n\\n\\nFunction :\\n\\n\",tf.autograph.to_code(f.python_function))"
      ],
      "execution_count": 23,
      "outputs": [
        {
          "output_type": "stream",
          "text": [
            "[0.286578655 0.157721639 0.848540664 0.269229054 0.112782359]\n",
            "[0.278982759 0.156426683 0.690306365 0.262907296 0.11230658]\n",
            "[0.271963298 0.155163154 0.598178804 0.257012784 0.111836769]\n",
            "[0.265450716 0.1539298 0.535752356 0.251499355 0.111372821]\n",
            "[0.259386659 0.152725443 0.489765912 0.246327549 0.110914595]\n",
            "[0.253721744 0.151548967 0.454030633 0.241463393 0.110461988]\n",
            "[0.24841395 0.150399312 0.425206572 0.236877501 0.110014878]\n",
            "[0.243427172 0.149275452 0.401307583 0.232544243 0.109573156]\n",
            "[0.238730237 0.148176461 0.381067187 0.228441224 0.109136716]\n",
            "[0.234296024 0.147101432 0.363633871 0.224548683 0.108705461]\n",
            "[0.230100885 0.146049485 0.348410845 0.220849171 0.10827928]\n",
            "[0.226124048 0.145019814 0.334965438 0.217327237 0.107858062]\n",
            "[0.222347185 0.144011661 0.322975338 0.213969111 0.107441731]\n",
            "DONE :')\n",
            "\n",
            "\n",
            "\n",
            "Function :\n",
            "\n",
            " def tf__f(x):\n",
            "    with ag__.FunctionScope('f', 'fscope', ag__.ConversionOptions(recursive=True, user_requested=True, optional_features=(), internal_convert_user_code=True)) as fscope:\n",
            "\n",
            "        def get_state():\n",
            "            return (x,)\n",
            "\n",
            "        def set_state(vars_):\n",
            "            nonlocal x\n",
            "            (x,) = vars_\n",
            "\n",
            "        def loop_body():\n",
            "            nonlocal x\n",
            "            ag__.converted_call(ag__.ld(tf).print, (ag__.ld(x),), None, fscope)\n",
            "            x = ag__.converted_call(ag__.ld(tf).tanh, (ag__.ld(x),), None, fscope)\n",
            "\n",
            "        def loop_test():\n",
            "            return (ag__.converted_call(ag__.ld(tf).reduce_sum, (ag__.ld(x),), None, fscope) > 1)\n",
            "        ag__.while_stmt(loop_test, loop_body, get_state, set_state, ('x',), {})\n",
            "        ag__.converted_call(ag__.ld(tf).print, (\"DONE :')\",), None, fscope)\n",
            "\n"
          ],
          "name": "stdout"
        }
      ]
    }
  ]
}