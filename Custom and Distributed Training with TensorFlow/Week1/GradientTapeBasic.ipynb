{
  "nbformat": 4,
  "nbformat_minor": 0,
  "metadata": {
    "colab": {
      "name": "GradientTapeBasic.ipynb",
      "provenance": []
    },
    "kernelspec": {
      "name": "python3",
      "display_name": "Python 3"
    }
  },
  "cells": [
    {
      "cell_type": "code",
      "metadata": {
        "id": "P4JODo6onjRQ"
      },
      "source": [
        "import tensorflow as tf\n",
        "print(\"Version of tensorflow is : \",tf.__version__)\n",
        "import numpy as np\n",
        "import random"
      ],
      "execution_count": null,
      "outputs": []
    },
    {
      "cell_type": "code",
      "metadata": {
        "id": "XbX_XeL2nvVn"
      },
      "source": [
        "xs = np.arange(-6,7,1).astype(np.float32)\n",
        "ys = (xs * 2) + 1"
      ],
      "execution_count": 2,
      "outputs": []
    },
    {
      "cell_type": "code",
      "metadata": {
        "id": "BAOToEMdoCsD"
      },
      "source": [
        "w = tf.Variable(random.random() , trainable=True )\n",
        "b = tf.Variable(random.random() , trainable= True)\n",
        "learning_rate = 0.001"
      ],
      "execution_count": 34,
      "outputs": []
    },
    {
      "cell_type": "code",
      "metadata": {
        "id": "fzyNeZimp36p"
      },
      "source": [
        "def LossFunc(y_pred , y_true):\n",
        "    return tf.abs(y_pred - y_true)"
      ],
      "execution_count": 28,
      "outputs": []
    },
    {
      "cell_type": "code",
      "metadata": {
        "id": "uTBlfU_np4Fr"
      },
      "source": [
        "def fit_data(x , y):\n",
        "    with tf.GradientTape(persistent=True) as tape:\n",
        "        pred = w * x + b\n",
        "        loss = LossFunc(pred , y)\n",
        "    w_grad = tape.gradient(loss , w)\n",
        "    b_grad = tape.gradient(loss , b)\n",
        "\n",
        "    w.assign_sub(w_grad * learning_rate)\n",
        "    b.assign_sub(b_grad * learning_rate)"
      ],
      "execution_count": 44,
      "outputs": []
    },
    {
      "cell_type": "code",
      "metadata": {
        "id": "wZjnStFyoGLS"
      },
      "source": [
        "for _ in range(500):\n",
        "    fit_data(xs , ys)"
      ],
      "execution_count": 45,
      "outputs": []
    },
    {
      "cell_type": "code",
      "metadata": {
        "colab": {
          "base_uri": "https://localhost:8080/"
        },
        "id": "BBqhYLYwoP9E",
        "outputId": "52b6fb03-88d6-408e-d883-3ff17a924187"
      },
      "source": [
        "w"
      ],
      "execution_count": 46,
      "outputs": [
        {
          "output_type": "execute_result",
          "data": {
            "text/plain": [
              "<tf.Variable 'Variable:0' shape=() dtype=float32, numpy=1.9743891>"
            ]
          },
          "metadata": {
            "tags": []
          },
          "execution_count": 46
        }
      ]
    },
    {
      "cell_type": "code",
      "metadata": {
        "colab": {
          "base_uri": "https://localhost:8080/"
        },
        "id": "tEUGzIUQrWts",
        "outputId": "ff84796d-800f-49f4-ea5a-0ccd7bc05bc0"
      },
      "source": [
        "b"
      ],
      "execution_count": 47,
      "outputs": [
        {
          "output_type": "execute_result",
          "data": {
            "text/plain": [
              "<tf.Variable 'Variable:0' shape=() dtype=float32, numpy=0.9992402>"
            ]
          },
          "metadata": {
            "tags": []
          },
          "execution_count": 47
        }
      ]
    },
    {
      "cell_type": "code",
      "metadata": {
        "id": "tqsoZljhsVyM"
      },
      "source": [
        "def prediction(num):\n",
        "    return tf.multiply(num , w) + b"
      ],
      "execution_count": 48,
      "outputs": []
    },
    {
      "cell_type": "code",
      "metadata": {
        "colab": {
          "base_uri": "https://localhost:8080/"
        },
        "id": "X-aBNDd_seDq",
        "outputId": "b0ffa2e8-7c7c-49e8-dc74-d93bdbafacea"
      },
      "source": [
        "prediction(100.0)"
      ],
      "execution_count": 50,
      "outputs": [
        {
          "output_type": "execute_result",
          "data": {
            "text/plain": [
              "<tf.Tensor: shape=(), dtype=float32, numpy=198.43814>"
            ]
          },
          "metadata": {
            "tags": []
          },
          "execution_count": 50
        }
      ]
    },
    {
      "cell_type": "code",
      "metadata": {
        "colab": {
          "base_uri": "https://localhost:8080/"
        },
        "id": "dDoyIOLYsgUz",
        "outputId": "ed83acd5-60f4-4d10-b861-f486fe4d9c14"
      },
      "source": [
        "prediction(10.)"
      ],
      "execution_count": 51,
      "outputs": [
        {
          "output_type": "execute_result",
          "data": {
            "text/plain": [
              "<tf.Tensor: shape=(), dtype=float32, numpy=20.743132>"
            ]
          },
          "metadata": {
            "tags": []
          },
          "execution_count": 51
        }
      ]
    },
    {
      "cell_type": "code",
      "metadata": {
        "colab": {
          "base_uri": "https://localhost:8080/"
        },
        "id": "nlKlu1Egsl3d",
        "outputId": "53d17d8f-a527-4eeb-b1ca-e2e934e3920f"
      },
      "source": [
        "prediction(np.arange(10,26,5))"
      ],
      "execution_count": 53,
      "outputs": [
        {
          "output_type": "execute_result",
          "data": {
            "text/plain": [
              "<tf.Tensor: shape=(4,), dtype=float32, numpy=array([20.743132, 30.615078, 40.487022, 50.358967], dtype=float32)>"
            ]
          },
          "metadata": {
            "tags": []
          },
          "execution_count": 53
        }
      ]
    }
  ]
}