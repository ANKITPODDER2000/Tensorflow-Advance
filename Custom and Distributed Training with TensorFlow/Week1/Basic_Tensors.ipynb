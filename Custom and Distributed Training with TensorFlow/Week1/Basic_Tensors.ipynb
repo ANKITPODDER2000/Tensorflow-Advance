{
  "nbformat": 4,
  "nbformat_minor": 0,
  "metadata": {
    "colab": {
      "name": "Basic Tensors.ipynb",
      "provenance": []
    },
    "kernelspec": {
      "name": "python3",
      "display_name": "Python 3"
    }
  },
  "cells": [
    {
      "cell_type": "code",
      "metadata": {
        "id": "zYxEfDduIGdt"
      },
      "source": [
        "import tensorflow as tf\n",
        "print(\"Version of tensorflow is : \",tf.__version__)\n",
        "import numpy as np"
      ],
      "execution_count": null,
      "outputs": []
    },
    {
      "cell_type": "code",
      "metadata": {
        "colab": {
          "base_uri": "https://localhost:8080/"
        },
        "id": "hdErdS-MIXE6",
        "outputId": "52e2052d-50b7-4f34-c8c3-2691dcf0284a"
      },
      "source": [
        "model = tf.keras.models.Sequential(tf.keras.layers.Dense(1 , input_shape = (1,)))\n",
        "variables = model.variables\n",
        "variables"
      ],
      "execution_count": 3,
      "outputs": [
        {
          "output_type": "execute_result",
          "data": {
            "text/plain": [
              "[<tf.Variable 'dense_1/kernel:0' shape=(1, 1) dtype=float32, numpy=array([[0.6564964]], dtype=float32)>,\n",
              " <tf.Variable 'dense_1/bias:0' shape=(1,) dtype=float32, numpy=array([0.], dtype=float32)>]"
            ]
          },
          "metadata": {
            "tags": []
          },
          "execution_count": 3
        }
      ]
    },
    {
      "cell_type": "code",
      "metadata": {
        "colab": {
          "base_uri": "https://localhost:8080/"
        },
        "id": "lDHZqisKIln3",
        "outputId": "546f01e9-9535-4b64-fb1d-5621cd2db73b"
      },
      "source": [
        "print(\"Shape of kernal : \",variables[0].shape)\n",
        "print(\"Shape of bias   : \",variables[1].shape)"
      ],
      "execution_count": 4,
      "outputs": [
        {
          "output_type": "stream",
          "text": [
            "Shape of kernal :  (1, 1)\n",
            "Shape of bias   :  (1,)\n"
          ],
          "name": "stdout"
        }
      ]
    },
    {
      "cell_type": "code",
      "metadata": {
        "colab": {
          "base_uri": "https://localhost:8080/"
        },
        "id": "8WfQtNE-I1fn",
        "outputId": "65288afd-7aea-4532-85ec-4c203f1f5516"
      },
      "source": [
        "print(\"Value of kernal : \",variables[0].numpy())\n",
        "print(\"Value of bias   : \",variables[1].numpy())"
      ],
      "execution_count": 7,
      "outputs": [
        {
          "output_type": "stream",
          "text": [
            "Value of kernal :  [[0.6564964]]\n",
            "Value of bias   :  [0.]\n"
          ],
          "name": "stdout"
        }
      ]
    },
    {
      "cell_type": "markdown",
      "metadata": {
        "id": "J9BFgJu4JE1I"
      },
      "source": [
        "**Create own Tensors**\n",
        "\n",
        "---\n",
        "\n",
        "One Dimensional Tensors"
      ]
    },
    {
      "cell_type": "code",
      "metadata": {
        "id": "aZe12zktJD9d"
      },
      "source": [
        "tensor_1_1 = tf.Variable(\"Hello World!\" , dtype=tf.string)\n",
        "tensor_1_2 = tf.Variable(5 , dtype=tf.int32)\n",
        "tensor_1_3 = tf.Variable(5 , dtype=tf.float32)"
      ],
      "execution_count": 10,
      "outputs": []
    },
    {
      "cell_type": "code",
      "metadata": {
        "colab": {
          "base_uri": "https://localhost:8080/"
        },
        "id": "VP_oFveLI8c3",
        "outputId": "8b691e47-760e-4aee-d4fb-db03d3ec687e"
      },
      "source": [
        "print(tensor_1_1)\n",
        "print(tensor_1_2)\n",
        "print(tensor_1_3)"
      ],
      "execution_count": 11,
      "outputs": [
        {
          "output_type": "stream",
          "text": [
            "<tf.Variable 'Variable:0' shape=() dtype=string, numpy=b'Hello World!'>\n",
            "<tf.Variable 'Variable:0' shape=() dtype=int32, numpy=5>\n",
            "<tf.Variable 'Variable:0' shape=() dtype=float32, numpy=5.0>\n"
          ],
          "name": "stdout"
        }
      ]
    },
    {
      "cell_type": "code",
      "metadata": {
        "colab": {
          "base_uri": "https://localhost:8080/"
        },
        "id": "XaXPvpNFJsJA",
        "outputId": "5ce7ded9-232c-475c-fbc2-e494d74af2f3"
      },
      "source": [
        "add_1 = tf.add(tensor_1_2 , tensor_1_2)\n",
        "print(add_1)\n",
        "add2 = tensor_1_3 + tensor_1_3\n",
        "print(add2)"
      ],
      "execution_count": 13,
      "outputs": [
        {
          "output_type": "stream",
          "text": [
            "tf.Tensor(10, shape=(), dtype=int32)\n",
            "tf.Tensor(10.0, shape=(), dtype=float32)\n"
          ],
          "name": "stdout"
        }
      ]
    },
    {
      "cell_type": "code",
      "metadata": {
        "id": "d_OkS1U7J7EX"
      },
      "source": [
        "cast = tf.cast(tensor_1_2 , dtype=tf.float32)"
      ],
      "execution_count": 14,
      "outputs": []
    },
    {
      "cell_type": "code",
      "metadata": {
        "colab": {
          "base_uri": "https://localhost:8080/"
        },
        "id": "IZXpY2IhKVsG",
        "outputId": "1a65c429-bd9b-4f3d-af69-9160156d3834"
      },
      "source": [
        "cast"
      ],
      "execution_count": 15,
      "outputs": [
        {
          "output_type": "execute_result",
          "data": {
            "text/plain": [
              "<tf.Tensor: shape=(), dtype=float32, numpy=5.0>"
            ]
          },
          "metadata": {
            "tags": []
          },
          "execution_count": 15
        }
      ]
    },
    {
      "cell_type": "code",
      "metadata": {
        "colab": {
          "base_uri": "https://localhost:8080/"
        },
        "id": "FO4pr1YRKWc-",
        "outputId": "a6a4a552-4568-40a9-e31d-3a78c4f259ca"
      },
      "source": [
        "tensor_1_2"
      ],
      "execution_count": 16,
      "outputs": [
        {
          "output_type": "execute_result",
          "data": {
            "text/plain": [
              "<tf.Variable 'Variable:0' shape=() dtype=int32, numpy=5>"
            ]
          },
          "metadata": {
            "tags": []
          },
          "execution_count": 16
        }
      ]
    },
    {
      "cell_type": "code",
      "metadata": {
        "colab": {
          "base_uri": "https://localhost:8080/"
        },
        "id": "_fbDPv_CKZB-",
        "outputId": "aa2b919d-3622-4fa5-eb4a-04936c209058"
      },
      "source": [
        "mul_1 = tf.multiply(tensor_1_2 , tensor_1_2)\n",
        "print(mul_1)\n",
        "mul_2 = tensor_1_3 * tensor_1_3\n",
        "print(mul_2)"
      ],
      "execution_count": 17,
      "outputs": [
        {
          "output_type": "stream",
          "text": [
            "tf.Tensor(25, shape=(), dtype=int32)\n",
            "tf.Tensor(25.0, shape=(), dtype=float32)\n"
          ],
          "name": "stdout"
        }
      ]
    },
    {
      "cell_type": "code",
      "metadata": {
        "colab": {
          "base_uri": "https://localhost:8080/"
        },
        "id": "XyYJF10ZKoyG",
        "outputId": "dce0ffef-e964-4e46-a1b7-d02005eed4d4"
      },
      "source": [
        "print(\"Value of multipication : \",mul_1.numpy())\n",
        "print(\"Value of multipication : \",mul_2.numpy())"
      ],
      "execution_count": 21,
      "outputs": [
        {
          "output_type": "stream",
          "text": [
            "Value of multipication :  25\n",
            "Value of multipication :  25.0\n"
          ],
          "name": "stdout"
        }
      ]
    },
    {
      "cell_type": "markdown",
      "metadata": {
        "id": "Bep3drLpK16K"
      },
      "source": [
        "**Two** Dimensional Tensor"
      ]
    },
    {
      "cell_type": "code",
      "metadata": {
        "colab": {
          "base_uri": "https://localhost:8080/"
        },
        "id": "bOnzugsjKsXe",
        "outputId": "f3fa3441-a32f-4830-92d1-30d922219af2"
      },
      "source": [
        "tensor_2_1 = tf.Variable(np.array([[1,2] , [3,4]]) , dtype = tf.float32)\n",
        "print(tensor_2_1)\n",
        "tensor_2_2 = tf.Variable(np.arange(1,5,1).reshape((2,2)))\n",
        "print(tensor_2_2)"
      ],
      "execution_count": 23,
      "outputs": [
        {
          "output_type": "stream",
          "text": [
            "<tf.Variable 'Variable:0' shape=(2, 2) dtype=float32, numpy=\n",
            "array([[1., 2.],\n",
            "       [3., 4.]], dtype=float32)>\n",
            "<tf.Variable 'Variable:0' shape=(2, 2) dtype=int64, numpy=\n",
            "array([[1, 2],\n",
            "       [3, 4]])>\n"
          ],
          "name": "stdout"
        }
      ]
    },
    {
      "cell_type": "code",
      "metadata": {
        "colab": {
          "base_uri": "https://localhost:8080/"
        },
        "id": "WydjQykNL9_5",
        "outputId": "6fa61a14-06de-481b-df07-5df3a15fc1ee"
      },
      "source": [
        "# tensor_2_3 = tf.Variable([1,2,3,4] , shape=(2,2) ) \n",
        "#The initial value's shape ((4,)) is not compatible with the explicitly supplied `shape` argument ((2, 2)).\n",
        "tensor_2_3 = tf.constant([1,2,3,4] , shape=(2,2) ) \n",
        "print(\"Value of this constant is : \",tensor_2_3.numpy())\n",
        "print(\"Shape : \",tensor_2_3.shape)\n",
        "print(tensor_2_3)"
      ],
      "execution_count": 25,
      "outputs": [
        {
          "output_type": "stream",
          "text": [
            "Value of this constant is :  [[1 2]\n",
            " [3 4]]\n",
            "Shape :  (2, 2)\n",
            "tf.Tensor(\n",
            "[[1 2]\n",
            " [3 4]], shape=(2, 2), dtype=int32)\n"
          ],
          "name": "stdout"
        }
      ]
    },
    {
      "cell_type": "code",
      "metadata": {
        "colab": {
          "base_uri": "https://localhost:8080/"
        },
        "id": "FCKeJgXhMMFG",
        "outputId": "d6fbc1cf-4ba9-417d-9acc-72a26660449d"
      },
      "source": [
        "print(tf.multiply(tensor_2_1 , tensor_2_1))\n",
        "print(tf.matmul(tensor_2_1 , tensor_2_1))"
      ],
      "execution_count": 27,
      "outputs": [
        {
          "output_type": "stream",
          "text": [
            "tf.Tensor(\n",
            "[[ 1.  4.]\n",
            " [ 9. 16.]], shape=(2, 2), dtype=float32)\n",
            "tf.Tensor(\n",
            "[[ 7. 10.]\n",
            " [15. 22.]], shape=(2, 2), dtype=float32)\n"
          ],
          "name": "stdout"
        }
      ]
    },
    {
      "cell_type": "code",
      "metadata": {
        "colab": {
          "base_uri": "https://localhost:8080/"
        },
        "id": "zAQ1tjVrMv09",
        "outputId": "c0f7fe55-ee70-47c7-e3f6-2235b45978fb"
      },
      "source": [
        "tensor_2_4 = tf.Variable(np.arange(1,7).reshape((2,3)))\n",
        "print(tensor_2_4)\n",
        "tensor_2_5 = tf.Variable(np.arange(1,7).reshape((3 , 2)))\n",
        "print(tensor_2_5)"
      ],
      "execution_count": 29,
      "outputs": [
        {
          "output_type": "stream",
          "text": [
            "<tf.Variable 'Variable:0' shape=(2, 3) dtype=int64, numpy=\n",
            "array([[1, 2, 3],\n",
            "       [4, 5, 6]])>\n",
            "<tf.Variable 'Variable:0' shape=(3, 2) dtype=int64, numpy=\n",
            "array([[1, 2],\n",
            "       [3, 4],\n",
            "       [5, 6]])>\n"
          ],
          "name": "stdout"
        }
      ]
    },
    {
      "cell_type": "code",
      "metadata": {
        "colab": {
          "base_uri": "https://localhost:8080/"
        },
        "id": "cnsRG7H8NI4F",
        "outputId": "3dc23b7f-a575-44eb-9d43-fe8a8f012518"
      },
      "source": [
        "mul_1 = tf.multiply(tensor_2_4 , tensor_2_4)\n",
        "print(mul_1)\n",
        "#mul2 = tf.multiply(tensor_2_4 , tensor_2_5) Incompatible shapes: [2,3] vs. [3,2] [Op:Mul]\n",
        "#mul_2 = tf.matmul(tensor_2_4 , tensor_2_4) Matrix size-incompatible: In[0]: [2,3], In[1]: [2,3] [Op:MatMul]\n",
        "mul_2 = tf.matmul(tensor_2_4 , tensor_2_5)  #(2 * 3) x (3 * 2) -> (2 * 2)\n",
        "print(mul_2)"
      ],
      "execution_count": 32,
      "outputs": [
        {
          "output_type": "stream",
          "text": [
            "tf.Tensor(\n",
            "[[ 1  4  9]\n",
            " [16 25 36]], shape=(2, 3), dtype=int64)\n",
            "tf.Tensor(\n",
            "[[22 28]\n",
            " [49 64]], shape=(2, 2), dtype=int64)\n"
          ],
          "name": "stdout"
        }
      ]
    },
    {
      "cell_type": "code",
      "metadata": {
        "colab": {
          "base_uri": "https://localhost:8080/"
        },
        "id": "A_pBIn8UNVQ1",
        "outputId": "9ea55a9d-752a-4a50-818a-d228919f22e0"
      },
      "source": [
        "print(tf.cast(tf.square(tensor_2_2) , dtype=tf.float32))"
      ],
      "execution_count": 34,
      "outputs": [
        {
          "output_type": "stream",
          "text": [
            "tf.Tensor(\n",
            "[[ 1.  4.]\n",
            " [ 9. 16.]], shape=(2, 2), dtype=float32)\n"
          ],
          "name": "stdout"
        }
      ]
    },
    {
      "cell_type": "markdown",
      "metadata": {
        "id": "RGELcddYOAhe"
      },
      "source": [
        "**MultiDimentional Tensors**"
      ]
    },
    {
      "cell_type": "code",
      "metadata": {
        "colab": {
          "base_uri": "https://localhost:8080/"
        },
        "id": "l4GO1N9YN0R9",
        "outputId": "87525828-46de-4611-baa3-6466b4aa0d30"
      },
      "source": [
        "tensor_3_1 = tf.Variable(tf.random_normal_initializer()((3,3,3)))\n",
        "print(\"Shape : \",tensor_3_1.shape)\n",
        "print(\"Data : \",tensor_3_1.numpy())\n",
        "print(\"Total dim : \",tensor_3_1.numpy().ndim)"
      ],
      "execution_count": 40,
      "outputs": [
        {
          "output_type": "stream",
          "text": [
            "Shape :  (3, 3, 3)\n",
            "Data :  [[[ 0.06295992 -0.07040277  0.03407536]\n",
            "  [ 0.07279637  0.02813909 -0.04284434]\n",
            "  [ 0.0304318  -0.07000867  0.03555426]]\n",
            "\n",
            " [[-0.05636443 -0.00230877  0.03352878]\n",
            "  [ 0.01530375 -0.05590751  0.0254896 ]\n",
            "  [-0.13223837  0.00683732 -0.0305792 ]]\n",
            "\n",
            " [[ 0.00015421  0.03119364 -0.02905964]\n",
            "  [ 0.03845777 -0.05025832  0.04858482]\n",
            "  [-0.00689838 -0.05511628 -0.00380394]]]\n",
            "Total dim :  3\n"
          ],
          "name": "stdout"
        }
      ]
    },
    {
      "cell_type": "code",
      "metadata": {
        "colab": {
          "base_uri": "https://localhost:8080/"
        },
        "id": "f7JhPCmoOP4l",
        "outputId": "392ce623-607a-4662-feea-42e399f574c3"
      },
      "source": [
        "tensor_4_1 = tf.Variable(tf.zeros_initializer()((2,2,2,2)))\n",
        "print(\"Shape : \",tensor_4_1.shape)\n",
        "print(\"Data : \",tensor_4_1.numpy())\n",
        "print(\"Total dim : \",tensor_4_1.numpy().ndim)"
      ],
      "execution_count": 39,
      "outputs": [
        {
          "output_type": "stream",
          "text": [
            "Shape :  (2, 2, 2, 2)\n",
            "Data :  [[[[0. 0.]\n",
            "   [0. 0.]]\n",
            "\n",
            "  [[0. 0.]\n",
            "   [0. 0.]]]\n",
            "\n",
            "\n",
            " [[[0. 0.]\n",
            "   [0. 0.]]\n",
            "\n",
            "  [[0. 0.]\n",
            "   [0. 0.]]]]\n",
            "Total dim :  4\n"
          ],
          "name": "stdout"
        }
      ]
    }
  ]
}