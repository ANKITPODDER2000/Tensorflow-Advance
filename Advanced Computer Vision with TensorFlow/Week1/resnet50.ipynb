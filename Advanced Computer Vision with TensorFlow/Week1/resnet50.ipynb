{
  "nbformat": 4,
  "nbformat_minor": 0,
  "metadata": {
    "colab": {
      "name": "Untitled1.ipynb",
      "provenance": []
    },
    "kernelspec": {
      "name": "python3",
      "display_name": "Python 3"
    },
    "accelerator": "GPU"
  },
  "cells": [
    {
      "cell_type": "code",
      "metadata": {
        "colab": {
          "base_uri": "https://localhost:8080/"
        },
        "id": "jtsLBCah96Ot",
        "outputId": "ffaf2d2b-85a9-4237-f5d0-a087331d4553"
      },
      "source": [
        "import tensorflow as tf\r\n",
        "import tensorflow_datasets as tfds\r\n",
        "import matplotlib.pyplot as plt\r\n",
        "%matplotlib inline\r\n",
        "print(\"Version of tensorflow is : \",tf.__version__)"
      ],
      "execution_count": 17,
      "outputs": [
        {
          "output_type": "stream",
          "text": [
            "Version of tensorflow is :  2.4.0\n"
          ],
          "name": "stdout"
        }
      ]
    },
    {
      "cell_type": "code",
      "metadata": {
        "id": "4j56rx_P-Bwn"
      },
      "source": [
        "BATCH_SIZE = 32 \r\n",
        "classes = ['airplane', 'automobile', 'bird', 'cat', 'deer', 'dog', 'frog', 'horse', 'ship', 'truck']"
      ],
      "execution_count": 2,
      "outputs": []
    },
    {
      "cell_type": "code",
      "metadata": {
        "colab": {
          "base_uri": "https://localhost:8080/"
        },
        "id": "RL8r4nEc-fl7",
        "outputId": "4a86174e-3d9d-4c2e-f030-bc483deac768"
      },
      "source": [
        "(training_images, training_labels) , (validation_images, validation_labels) = tf.keras.datasets.cifar10.load_data()"
      ],
      "execution_count": 3,
      "outputs": [
        {
          "output_type": "stream",
          "text": [
            "Downloading data from https://www.cs.toronto.edu/~kriz/cifar-10-python.tar.gz\n",
            "170500096/170498071 [==============================] - 4s 0us/step\n"
          ],
          "name": "stdout"
        }
      ]
    },
    {
      "cell_type": "code",
      "metadata": {
        "id": "uGEYu0d_-oJc"
      },
      "source": [
        "def process_input(images):\r\n",
        "    img = images.astype('float')\r\n",
        "    img = tf.keras.applications.resnet50.preprocess_input(img)\r\n",
        "    return img"
      ],
      "execution_count": 4,
      "outputs": []
    },
    {
      "cell_type": "code",
      "metadata": {
        "id": "MbRKFe9b-_Ks"
      },
      "source": [
        "X_train = process_input(training_images)\r\n",
        "X_val   = process_input(validation_images)"
      ],
      "execution_count": 5,
      "outputs": []
    },
    {
      "cell_type": "code",
      "metadata": {
        "colab": {
          "base_uri": "https://localhost:8080/"
        },
        "id": "Rcl4WERE_H3R",
        "outputId": "7d5483c0-c1f2-4c38-9fda-8f4a436cf94a"
      },
      "source": [
        "print(\"Shape of X_train : \",X_train.shape)\r\n",
        "print(\"Shape of training_labels : \",training_labels.shape)\r\n",
        "print(\"Shape of X_val : \",X_val.shape)\r\n",
        "print(\"Shape of validation_labels : \",validation_labels.shape)"
      ],
      "execution_count": 6,
      "outputs": [
        {
          "output_type": "stream",
          "text": [
            "Shape of X_train :  (50000, 32, 32, 3)\n",
            "Shape of training_labels :  (50000, 1)\n",
            "Shape of X_val :  (10000, 32, 32, 3)\n",
            "Shape of validation_labels :  (10000, 1)\n"
          ],
          "name": "stdout"
        }
      ]
    },
    {
      "cell_type": "code",
      "metadata": {
        "id": "-_PjEeta_R2c"
      },
      "source": [
        "def predefine_model(inputs):\r\n",
        "    resnet = tf.keras.applications.resnet.ResNet50(weights='imagenet' , include_top=False , input_shape=(224,224,3))\r\n",
        "    x = resnet(inputs)\r\n",
        "    return x"
      ],
      "execution_count": 7,
      "outputs": []
    },
    {
      "cell_type": "code",
      "metadata": {
        "id": "c_mX2XKDLOqn"
      },
      "source": [
        "def outputlayer(inputs):\r\n",
        "    x = predefine_model(inputs)\r\n",
        "    x = tf.keras.layers.GlobalAveragePooling2D()(x)\r\n",
        "    x = tf.keras.layers.Flatten()(x)\r\n",
        "    x = tf.keras.layers.Dense(1024 , activation = 'relu')(x)\r\n",
        "    x = tf.keras.layers.Dense(512  , activation = 'relu')(x)\r\n",
        "    x = tf.keras.layers.Dense(10   , activation = 'softmax' , name=\"classification\")(x)\r\n",
        "    \r\n",
        "    return x"
      ],
      "execution_count": 13,
      "outputs": []
    },
    {
      "cell_type": "code",
      "metadata": {
        "id": "RVSuBUVoMYYq"
      },
      "source": [
        "def get_model():\r\n",
        "    Input = tf.keras.layers.Input(shape=(32 , 32 , 3))\r\n",
        "    x     = tf.keras.layers.UpSampling2D(size=(7,7))(Input)\r\n",
        "    x     = outputlayer(x)\r\n",
        "\r\n",
        "    model = tf.keras.models.Model(inputs = Input , outputs = x)\r\n",
        "    model.compile(loss = tf.keras.losses.sparse_categorical_crossentropy , optimizer = 'sgd' , metrics = ['acc'])\r\n",
        "    return model"
      ],
      "execution_count": 14,
      "outputs": []
    },
    {
      "cell_type": "code",
      "metadata": {
        "id": "1RlxyRQQM_nY"
      },
      "source": [
        "model = get_model()"
      ],
      "execution_count": 15,
      "outputs": []
    },
    {
      "cell_type": "code",
      "metadata": {
        "colab": {
          "base_uri": "https://localhost:8080/"
        },
        "id": "reEbGFQVNEKM",
        "outputId": "f5004088-8c5a-4b44-ca21-1dbd9f47978d"
      },
      "source": [
        "model.summary()"
      ],
      "execution_count": 16,
      "outputs": [
        {
          "output_type": "stream",
          "text": [
            "Model: \"model_1\"\n",
            "_________________________________________________________________\n",
            "Layer (type)                 Output Shape              Param #   \n",
            "=================================================================\n",
            "input_3 (InputLayer)         [(None, 32, 32, 3)]       0         \n",
            "_________________________________________________________________\n",
            "up_sampling2d_1 (UpSampling2 (None, 224, 224, 3)       0         \n",
            "_________________________________________________________________\n",
            "resnet50 (Functional)        (None, 7, 7, 2048)        23587712  \n",
            "_________________________________________________________________\n",
            "global_average_pooling2d_1 ( (None, 2048)              0         \n",
            "_________________________________________________________________\n",
            "flatten (Flatten)            (None, 2048)              0         \n",
            "_________________________________________________________________\n",
            "dense_2 (Dense)              (None, 1024)              2098176   \n",
            "_________________________________________________________________\n",
            "dense_3 (Dense)              (None, 512)               524800    \n",
            "_________________________________________________________________\n",
            "classification (Dense)       (None, 10)                5130      \n",
            "=================================================================\n",
            "Total params: 26,215,818\n",
            "Trainable params: 26,162,698\n",
            "Non-trainable params: 53,120\n",
            "_________________________________________________________________\n"
          ],
          "name": "stdout"
        }
      ]
    },
    {
      "cell_type": "code",
      "metadata": {
        "colab": {
          "base_uri": "https://localhost:8080/"
        },
        "id": "s693ypQbNJeu",
        "outputId": "ca3cf096-22db-4575-d8b7-b9e5aa42508f"
      },
      "source": [
        "epoch = 4\r\n",
        "his = model.fit(X_train , training_labels ,\r\n",
        "                epochs=epoch , batch_size=32 ,\r\n",
        "                validation_data=(X_val , validation_labels) ,\r\n",
        "                validation_batch_size=32)"
      ],
      "execution_count": 19,
      "outputs": [
        {
          "output_type": "stream",
          "text": [
            "Epoch 1/4\n",
            "1563/1563 [==============================] - 559s 351ms/step - loss: 0.5975 - acc: 0.8054 - val_loss: 0.1781 - val_acc: 0.9419\n",
            "Epoch 2/4\n",
            "1563/1563 [==============================] - 553s 354ms/step - loss: 0.0955 - acc: 0.9697 - val_loss: 0.1687 - val_acc: 0.9471\n",
            "Epoch 3/4\n",
            "1563/1563 [==============================] - 553s 354ms/step - loss: 0.0406 - acc: 0.9869 - val_loss: 0.1639 - val_acc: 0.9514\n",
            "Epoch 4/4\n",
            "1563/1563 [==============================] - 555s 355ms/step - loss: 0.0228 - acc: 0.9930 - val_loss: 0.1579 - val_acc: 0.9543\n"
          ],
          "name": "stdout"
        }
      ]
    },
    {
      "cell_type": "code",
      "metadata": {
        "id": "y2a7zSiEN89R"
      },
      "source": [
        ""
      ],
      "execution_count": null,
      "outputs": []
    }
  ]
}