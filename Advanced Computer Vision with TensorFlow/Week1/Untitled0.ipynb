{
  "nbformat": 4,
  "nbformat_minor": 0,
  "metadata": {
    "colab": {
      "name": "Untitled0.ipynb",
      "provenance": [],
      "collapsed_sections": []
    },
    "kernelspec": {
      "name": "python3",
      "display_name": "Python 3"
    },
    "accelerator": "GPU"
  },
  "cells": [
    {
      "cell_type": "code",
      "metadata": {
        "id": "q061cvhHjzDN"
      },
      "source": [
        "import tensorflow as tf\r\n",
        "from tensorflow.keras.applications.resnet import ResNet50\r\n",
        "from tensorflow.keras.layers import GlobalAveragePooling2D , UpSampling2D , Dense , Input , Flatten\r\n",
        "from tensorflow.nn import relu , softmax\r\n",
        "from tensorflow.keras.datasets import cifar10\r\n",
        "from tensorflow.keras.utils import to_categorical\r\n",
        "import matplotlib.pyplot as plt\r\n",
        "%matplotlib inline\r\n",
        "import numpy as np\r\n",
        "print(\"version of tensorflow is : \",tf.__version__)"
      ],
      "execution_count": null,
      "outputs": []
    },
    {
      "cell_type": "code",
      "metadata": {
        "colab": {
          "base_uri": "https://localhost:8080/"
        },
        "id": "mF90Gs_yj_Ib",
        "outputId": "60653bf2-a501-4db1-8535-26f5bcbaa7a1"
      },
      "source": [
        "(train_data , train_label) , (test_data , test_label) = cifar10.load_data()\r\n",
        "print(\"Shape of train_data is : \",train_data.shape)\r\n",
        "print(\"Shape of train_label is : \",train_label.shape)\r\n",
        "print(\"Shape of test_data is : \",test_data.shape)\r\n",
        "print(\"Shape of test_label is : \",test_label.shape)"
      ],
      "execution_count": 2,
      "outputs": [
        {
          "output_type": "stream",
          "text": [
            "Shape of train_data is :  (50000, 32, 32, 3)\n",
            "Shape of train_label is :  (50000, 1)\n",
            "Shape of test_data is :  (10000, 32, 32, 3)\n",
            "Shape of test_label is :  (10000, 1)\n"
          ],
          "name": "stdout"
        }
      ]
    },
    {
      "cell_type": "code",
      "metadata": {
        "colab": {
          "base_uri": "https://localhost:8080/"
        },
        "id": "Mqs_9XK8lROd",
        "outputId": "d24819f5-9075-451a-aa17-8667d8b96df4"
      },
      "source": [
        "train_label = to_categorical(train_label)\r\n",
        "test_label  = to_categorical(test_label)\r\n",
        "\r\n",
        "print(\"Shape of train_data is : \",train_data.shape)\r\n",
        "print(\"Shape of train_label is : \",train_label.shape)\r\n",
        "print(\"Shape of test_data is : \",test_data.shape)\r\n",
        "print(\"Shape of test_label is : \",test_label.shape)"
      ],
      "execution_count": 3,
      "outputs": [
        {
          "output_type": "stream",
          "text": [
            "Shape of train_data is :  (50000, 32, 32, 3)\n",
            "Shape of train_label is :  (50000, 10)\n",
            "Shape of test_data is :  (10000, 32, 32, 3)\n",
            "Shape of test_label is :  (10000, 10)\n"
          ],
          "name": "stdout"
        }
      ]
    },
    {
      "cell_type": "code",
      "metadata": {
        "id": "v7WGNXyFlWRb"
      },
      "source": [
        "resnet_block = ResNet50(include_top= False , weights='imagenet' , input_shape=(224,224,3))\r\n",
        "for layer in resnet_block.layers:\r\n",
        "    layer.trainable = False\r\n",
        "# resnet_block.summary()"
      ],
      "execution_count": 4,
      "outputs": []
    },
    {
      "cell_type": "code",
      "metadata": {
        "id": "_vATFNEpmdog"
      },
      "source": [
        "def model():\r\n",
        "    input_ = Input(shape=(32,32,3))\r\n",
        "    x = UpSampling2D((7,7))(input_)\r\n",
        "    x = resnet_block(x)\r\n",
        "    x = GlobalAveragePooling2D()(x)\r\n",
        "    x = Flatten()(x)\r\n",
        "    x = Dense(1024 , activation=relu)(x)\r\n",
        "    x = Dense(512  , activation=relu)(x)\r\n",
        "    x = Dense(10   , activation=softmax)(x)\r\n",
        "\r\n",
        "    model = tf.keras.Model(inputs = input_ , outputs = x)\r\n",
        "    model.compile(loss = tf.keras.losses.categorical_crossentropy , optimizer = 'rmsprop' , metrics = ['acc'])\r\n",
        "    return model"
      ],
      "execution_count": 5,
      "outputs": []
    },
    {
      "cell_type": "code",
      "metadata": {
        "colab": {
          "base_uri": "https://localhost:8080/"
        },
        "id": "pbEyqr04n1dc",
        "outputId": "5a96948c-21b7-4ee6-fe12-d86a26a77c65"
      },
      "source": [
        "transfer_model = model()\r\n",
        "transfer_model.summary()"
      ],
      "execution_count": 6,
      "outputs": [
        {
          "output_type": "stream",
          "text": [
            "Model: \"functional_1\"\n",
            "_________________________________________________________________\n",
            "Layer (type)                 Output Shape              Param #   \n",
            "=================================================================\n",
            "input_2 (InputLayer)         [(None, 32, 32, 3)]       0         \n",
            "_________________________________________________________________\n",
            "up_sampling2d (UpSampling2D) (None, 224, 224, 3)       0         \n",
            "_________________________________________________________________\n",
            "resnet50 (Functional)        (None, 7, 7, 2048)        23587712  \n",
            "_________________________________________________________________\n",
            "global_average_pooling2d (Gl (None, 2048)              0         \n",
            "_________________________________________________________________\n",
            "flatten (Flatten)            (None, 2048)              0         \n",
            "_________________________________________________________________\n",
            "dense (Dense)                (None, 1024)              2098176   \n",
            "_________________________________________________________________\n",
            "dense_1 (Dense)              (None, 512)               524800    \n",
            "_________________________________________________________________\n",
            "dense_2 (Dense)              (None, 10)                5130      \n",
            "=================================================================\n",
            "Total params: 26,215,818\n",
            "Trainable params: 2,628,106\n",
            "Non-trainable params: 23,587,712\n",
            "_________________________________________________________________\n"
          ],
          "name": "stdout"
        }
      ]
    },
    {
      "cell_type": "code",
      "metadata": {
        "colab": {
          "base_uri": "https://localhost:8080/"
        },
        "id": "IKERklEQoJGX",
        "outputId": "c50108c1-0e9b-4ccf-d3ba-66240ff05757"
      },
      "source": [
        "his = transfer_model.fit(train_data , train_label , epochs = 10 , validation_data=(test_data , test_label))"
      ],
      "execution_count": 7,
      "outputs": [
        {
          "output_type": "stream",
          "text": [
            "Epoch 1/10\n",
            "1563/1563 [==============================] - 410s 262ms/step - loss: 0.9606 - acc: 0.6775 - val_loss: 0.9077 - val_acc: 0.7103\n",
            "Epoch 2/10\n",
            "1563/1563 [==============================] - 408s 261ms/step - loss: 0.7185 - acc: 0.7583 - val_loss: 0.8003 - val_acc: 0.7394\n",
            "Epoch 3/10\n",
            "1563/1563 [==============================] - 408s 261ms/step - loss: 0.6490 - acc: 0.7830 - val_loss: 0.7853 - val_acc: 0.7541\n",
            "Epoch 4/10\n",
            "1563/1563 [==============================] - 407s 261ms/step - loss: 0.6027 - acc: 0.7990 - val_loss: 0.8281 - val_acc: 0.7555\n",
            "Epoch 5/10\n",
            "1563/1563 [==============================] - 408s 261ms/step - loss: 0.5660 - acc: 0.8135 - val_loss: 0.7302 - val_acc: 0.7946\n",
            "Epoch 6/10\n",
            "1563/1563 [==============================] - 408s 261ms/step - loss: 0.5300 - acc: 0.8240 - val_loss: 0.7656 - val_acc: 0.7847\n",
            "Epoch 7/10\n",
            "1563/1563 [==============================] - 408s 261ms/step - loss: 0.4994 - acc: 0.8347 - val_loss: 0.7331 - val_acc: 0.7903\n",
            "Epoch 8/10\n",
            "1563/1563 [==============================] - 408s 261ms/step - loss: 0.4783 - acc: 0.8413 - val_loss: 0.7929 - val_acc: 0.7863\n",
            "Epoch 9/10\n",
            "1563/1563 [==============================] - 408s 261ms/step - loss: 0.4548 - acc: 0.8498 - val_loss: 0.7930 - val_acc: 0.7834\n",
            "Epoch 10/10\n",
            "1563/1563 [==============================] - 408s 261ms/step - loss: 0.4284 - acc: 0.8592 - val_loss: 0.8827 - val_acc: 0.7968\n"
          ],
          "name": "stdout"
        }
      ]
    },
    {
      "cell_type": "code",
      "metadata": {
        "id": "OOaba4Z16ndG"
      },
      "source": [
        "transfer_model.save(\"transfer_model.h5\")"
      ],
      "execution_count": 8,
      "outputs": []
    },
    {
      "cell_type": "code",
      "metadata": {
        "id": "GRPy3lmDOI6U"
      },
      "source": [
        ""
      ],
      "execution_count": null,
      "outputs": []
    }
  ]
}