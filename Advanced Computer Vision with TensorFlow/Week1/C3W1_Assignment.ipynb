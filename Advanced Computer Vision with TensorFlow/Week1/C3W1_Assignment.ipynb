{
  "nbformat": 4,
  "nbformat_minor": 0,
  "metadata": {
    "accelerator": "GPU",
    "colab": {
      "name": "C3W1_Assignment.ipynb",
      "private_outputs": true,
      "provenance": [],
      "collapsed_sections": []
    },
    "kernelspec": {
      "display_name": "Python 3",
      "language": "python",
      "name": "python3"
    },
    "language_info": {
      "codemirror_mode": {
        "name": "ipython",
        "version": 3
      },
      "file_extension": ".py",
      "mimetype": "text/x-python",
      "name": "python",
      "nbconvert_exporter": "python",
      "pygments_lexer": "ipython3",
      "version": "3.7.4"
    }
  },
  "cells": [
    {
      "cell_type": "markdown",
      "metadata": {
        "id": "KsjDCIat6_UK"
      },
      "source": [
        "# Predicting Bounding Boxes\n",
        "\n",
        "Welcome to Course 3, Week 1 Programming Assignment! \n",
        "\n",
        "In this week's assignment, you'll build a model to predict bounding boxes around images.  \n",
        "- You will use transfer learning on any of the pre-trained models available in Keras. \n",
        "- You'll be using the [Caltech Birds - 2010](http://www.vision.caltech.edu/visipedia/CUB-200.html) dataset. \n",
        "\n",
        "\n",
        "### How to submit your work\n",
        "Notice that there is not a \"submit assignment\" button in this notebook.  \n",
        "\n",
        "To check your work and get graded on your work, you'll train the model, save it and then upload the model to Coursera for grading."
      ]
    },
    {
      "cell_type": "markdown",
      "metadata": {
        "id": "8iA95a8EKXR5"
      },
      "source": [
        "- [Initial steps](#0)\n",
        "  - [0.1 Set up your Colab](#0-1)\n",
        "  - [0.2 Set up the data location](#0-2)\n",
        "  - [0.3 Choose the GPU Runtime](#0-3)\n",
        "  - [0.4 Mount your drive](#0-4)\n",
        "  - [0.5 Imports](#0-5)\n",
        "- [1. Visualization Utilities](#1)\n",
        "  - [1.1 Bounding Boxes Utilities](#1-1)\n",
        "  - [1.2 Data and Predictions Utilities](#1-2)\n",
        "- [2. Preprocessing and Loading the Dataset](#2)\n",
        "  - [2.1 Preprocessing Utilities](#2-1)\n",
        "  - [2.2 Visualize the prepared Data](#2-2)\n",
        "  - [2.3 Loading the Dataset](#2-3)\n",
        "- [3. Define the Network](#3)\n",
        "  - [Exercise 1](#ex-01)\n",
        "  - [Exercise 2](#ex-02)\n",
        "  - [Exercise 3](#ex-03)\n",
        "  - [Exercise 4](#ex-04)\n",
        "  - [Exercise 5](#ex-05)\n",
        "- [4. Training the Model](#4)\n",
        "  - [Prepare to train the model](#4.1)\n",
        "  - [Exercise 6](#ex-06)\n",
        "  - [Fit the model to the data](#4.2)\n",
        "  - [Exercise 7](#ex-07)\n",
        "- [5. Validate the Model](#5)\n",
        "  - [5.1 Loss](#5-1)\n",
        "  - [5.2 Save your Model](#5-2)\n",
        "  - [5.3 Plot the Loss Function](#5-3)  \n",
        "  - [5.4 Evaluate performance using IoU](#5-4)\n",
        "- [6. Visualize Predictions](#6)\n",
        "- [7. Upload your model for grading](#7)\n"
      ]
    },
    {
      "cell_type": "markdown",
      "metadata": {
        "id": "19sIQEkEKXR5"
      },
      "source": [
        "<a name=\"0\"></a>\n",
        "## 0. Initial steps"
      ]
    },
    {
      "cell_type": "markdown",
      "metadata": {
        "id": "EQXm4O39KXR5"
      },
      "source": [
        "<a name=\"0-1\"></a>\n",
        "## 0.1 Set up your Colab\n",
        "\n",
        "- As you cannot save the changes you make to this colab, you have to make a copy of this notebook in your own drive and run that. \n",
        "- You can do so by going to `File -> Save a copy in Drive`. \n",
        "- Close this colab and open the copy which you have made in your own drive. Then continue to the next step to set up the data location."
      ]
    },
    {
      "cell_type": "markdown",
      "metadata": {
        "id": "khsTrAlcKXR5"
      },
      "source": [
        "<a name=\"0-2\"></a>\n",
        "## Set up the data location\n",
        "A copy of the dataset that you'll be using is stored in a publicly viewable Google Drive folder.  You'll want to add a shortcut to it to your own Google Drive.\n",
        "- Go to this google drive folder named [TF3 C3 W1 Data](https://drive.google.com/drive/folders/1xgqUw9uWzL5Kh88iPdX1TBQgnkc-wVKd?usp=sharing)\n",
        "- Next to the folder name \"TF3 C3 W1 Data\", hover your mouse over the triangle to reveal the drop down menu. \n",
        "- Use the drop down menu to select `\"Add shortcut to Drive\"`  A pop-up menu will open up. \n",
        "- In the pop-up menu, \"My Drive\" is selected by default.  Click the `ADD SHORTCUT` button. This should add a shortcut to the folder `TF3 C3 W1 Data` within your own google drive at the location `content/drive`.\n",
        "- To verify, go to the left-side menu and click on \"My Drive\".  Scroll through your files to look for the shortcut TF3 C3 W1 Data.  \n",
        "\n",
        "Please make sure this happens, as you'll be reading the data for this notebook from this folder."
      ]
    },
    {
      "cell_type": "markdown",
      "metadata": {
        "id": "Wz0OAuIEKXR5"
      },
      "source": [
        "<a name=\"0-3\"></a>\n",
        "## 0.3 Choose the GPU Runtime\n",
        "- Make sure your runtime is **GPU** (_not_ CPU or TPU). And if it is an option, make sure you are using _Python 3_. You can select these settings by going to `Runtime -> Change runtime type -> Select the above mentioned settings and then press SAVE`"
      ]
    },
    {
      "cell_type": "markdown",
      "metadata": {
        "id": "tgJOkF1VKXR5"
      },
      "source": [
        "<a name=\"0-4\"></a>\n",
        "## 0.4 Mount your drive\n",
        "\n",
        "Please run the next code cell and follow these steps to mount your Google Drive so that it can be accessed by this Colab.\n",
        "- Run the code cell below.  A web link will appear below the cell.\n",
        "- Please click on the web link, which will open a new tab in your browser, which asks you to choose your google account.\n",
        "- Choose your google account to login.\n",
        "- The page will display \"Google Drive File Stream wants to access your Google Account\".  Please click \"Allow\".\n",
        "- The page will now show a code (a line of text).  Please copy the code and return to this Colab.\n",
        "- Paste the code the textbox that is labeled \"Enter your authorization code:\" and hit `<Enter>`\n",
        "- The text will now say \"Mounted at /content/drive/\""
      ]
    },
    {
      "cell_type": "code",
      "metadata": {
        "id": "Q6Pnix2iKXR5"
      },
      "source": [
        "from google.colab import drive\n",
        "drive.mount('/content/drive/', force_remount=True)"
      ],
      "execution_count": null,
      "outputs": []
    },
    {
      "cell_type": "markdown",
      "metadata": {
        "id": "qpiJj8ym0v0-"
      },
      "source": [
        "<a name=\"0-5\"></a>\n",
        "## 0.5 Imports"
      ]
    },
    {
      "cell_type": "code",
      "metadata": {
        "id": "DRl07kRr7uny"
      },
      "source": [
        "# If you get a checksum error with the dataset, you'll need this\n",
        "!pip install tfds-nightly==4.0.1.dev202010100107"
      ],
      "execution_count": null,
      "outputs": []
    },
    {
      "cell_type": "code",
      "metadata": {
        "id": "AoilhmYe1b5t"
      },
      "source": [
        "import os, re, time, json\n",
        "import PIL.Image, PIL.ImageFont, PIL.ImageDraw\n",
        "import numpy as np\n",
        "import tensorflow as tf\n",
        "from matplotlib import pyplot as plt\n",
        "import tensorflow_datasets as tfds\n",
        "import cv2"
      ],
      "execution_count": null,
      "outputs": []
    },
    {
      "cell_type": "markdown",
      "metadata": {
        "id": "ddcggt0WKXR5"
      },
      "source": [
        "Store the path to the data.\n",
        "- Remember to follow the steps to `set up the data location` (above) so that you'll have a shortcut to the data in your Google Drive."
      ]
    },
    {
      "cell_type": "code",
      "metadata": {
        "id": "upfxqqK0vTMc"
      },
      "source": [
        "data_dir = \"/content/drive/My Drive/TF3 C3 W1 Data/\""
      ],
      "execution_count": null,
      "outputs": []
    },
    {
      "cell_type": "markdown",
      "metadata": {
        "id": "xmoFKEd98MP3"
      },
      "source": [
        "<a name=\"1\"></a>\n",
        "## 1. Visualization Utilities\n"
      ]
    },
    {
      "cell_type": "markdown",
      "metadata": {
        "id": "WOhS3mNlDOLX"
      },
      "source": [
        "<a name=\"1-1\"></a>\n",
        "### 1.1 Bounding Boxes Utilities\n",
        "\n",
        "We have provided you with some functions which you will use to draw bounding boxes around the birds in the `image`.\n",
        "\n",
        "- `draw_bounding_box_on_image`: Draws a single bounding box on an image.\n",
        "- `draw_bounding_boxes_on_image`: Draws multiple bounding boxes on an image.\n",
        "- `draw_bounding_boxes_on_image_array`: Draws multiple bounding boxes on an array of images."
      ]
    },
    {
      "cell_type": "code",
      "metadata": {
        "id": "YWIHFPa0uOC_"
      },
      "source": [
        "def draw_bounding_box_on_image(image, ymin, xmin, ymax, xmax, color=(255, 0, 0), thickness=5):\n",
        "    \"\"\"\n",
        "    Adds a bounding box to an image.\n",
        "    Bounding box coordinates can be specified in either absolute (pixel) or\n",
        "    normalized coordinates by setting the use_normalized_coordinates argument.\n",
        "    \n",
        "    Args:\n",
        "      image: a PIL.Image object.\n",
        "      ymin: ymin of bounding box.\n",
        "      xmin: xmin of bounding box.\n",
        "      ymax: ymax of bounding box.\n",
        "      xmax: xmax of bounding box.\n",
        "      color: color to draw bounding box. Default is red.\n",
        "      thickness: line thickness. Default value is 4.\n",
        "    \"\"\"\n",
        "  \n",
        "    image_width = image.shape[1]\n",
        "    image_height = image.shape[0]\n",
        "    cv2.rectangle(image, (int(xmin), int(ymin)), (int(xmax), int(ymax)), color, thickness)\n",
        "\n",
        "\n",
        "def draw_bounding_boxes_on_image(image, boxes, color=[], thickness=5):\n",
        "    \"\"\"\n",
        "    Draws bounding boxes on image.\n",
        "    \n",
        "    Args:\n",
        "      image: a PIL.Image object.\n",
        "      boxes: a 2 dimensional numpy array of [N, 4]: (ymin, xmin, ymax, xmax).\n",
        "             The coordinates are in normalized format between [0, 1].\n",
        "      color: color to draw bounding box. Default is red.\n",
        "      thickness: line thickness. Default value is 4.\n",
        "                           \n",
        "    Raises:\n",
        "      ValueError: if boxes is not a [N, 4] array\n",
        "    \"\"\"\n",
        "    \n",
        "    boxes_shape = boxes.shape\n",
        "    if not boxes_shape:\n",
        "        return\n",
        "    if len(boxes_shape) != 2 or boxes_shape[1] != 4:\n",
        "        raise ValueError('Input must be of size [N, 4]')\n",
        "    for i in range(boxes_shape[0]):\n",
        "        draw_bounding_box_on_image(image, boxes[i, 1], boxes[i, 0], boxes[i, 3],\n",
        "                                 boxes[i, 2], color[i], thickness)\n",
        "\n",
        "\n",
        "def draw_bounding_boxes_on_image_array(image, boxes, color=[], thickness=5):\n",
        "    \"\"\"\n",
        "    Draws bounding boxes on image (numpy array).\n",
        "    \n",
        "    Args:\n",
        "      image: a numpy array object.\n",
        "      boxes: a 2 dimensional numpy array of [N, 4]: (ymin, xmin, ymax, xmax).\n",
        "             The coordinates are in normalized format between [0, 1].\n",
        "      color: color to draw bounding box. Default is red.\n",
        "      thickness: line thickness. Default value is 4.\n",
        "      display_str_list_list: a list of strings for each bounding box.\n",
        "    \n",
        "    Raises:\n",
        "      ValueError: if boxes is not a [N, 4] array\n",
        "    \"\"\"\n",
        "\n",
        "    draw_bounding_boxes_on_image(image, boxes, color, thickness)\n",
        "  \n",
        "    return image"
      ],
      "execution_count": null,
      "outputs": []
    },
    {
      "cell_type": "markdown",
      "metadata": {
        "id": "USx9tRBF8hWy"
      },
      "source": [
        "<a name=\"1-2\"></a>\n",
        "### 1.2 Data and Predictions Utilities\n",
        "\n",
        "We've given you some helper functions and code that are used to visualize the data and the model's predictions.\n",
        "\n",
        "- `display_digits_with_boxes`: This displays a row of \"digit\" images along with the model's predictions for each image.\n",
        "- `plot_metrics`: This plots a given metric (like loss) as it changes over multiple epochs of training.  "
      ]
    },
    {
      "cell_type": "code",
      "metadata": {
        "id": "nwJ4rZ1d_7ql"
      },
      "source": [
        "# Matplotlib config\n",
        "plt.rc('image', cmap='gray')\n",
        "plt.rc('grid', linewidth=0)\n",
        "plt.rc('xtick', top=False, bottom=False, labelsize='large')\n",
        "plt.rc('ytick', left=False, right=False, labelsize='large')\n",
        "plt.rc('axes', facecolor='F8F8F8', titlesize=\"large\", edgecolor='white')\n",
        "plt.rc('text', color='a8151a')\n",
        "plt.rc('figure', facecolor='F0F0F0')# Matplotlib fonts\n",
        "MATPLOTLIB_FONT_DIR = os.path.join(os.path.dirname(plt.__file__), \"mpl-data/fonts/ttf\")\n",
        "\n",
        "\n",
        "# utility to display a row of digits with their predictions\n",
        "def display_digits_with_boxes(images, pred_bboxes, bboxes, iou, title, bboxes_normalized=False):\n",
        "\n",
        "    n = len(images)\n",
        "\n",
        "    fig = plt.figure(figsize=(20, 4))\n",
        "    plt.title(title)\n",
        "    plt.yticks([])\n",
        "    plt.xticks([])\n",
        "  \n",
        "    for i in range(n):\n",
        "      ax = fig.add_subplot(1, 10, i+1)\n",
        "      bboxes_to_plot = []\n",
        "      if (len(pred_bboxes) > i):\n",
        "        bbox = pred_bboxes[i]\n",
        "        bbox = [bbox[0] * images[i].shape[1], bbox[1] * images[i].shape[0], bbox[2] * images[i].shape[1], bbox[3] * images[i].shape[0]]\n",
        "        bboxes_to_plot.append(bbox)\n",
        "    \n",
        "      if (len(bboxes) > i):\n",
        "        bbox = bboxes[i]\n",
        "        if bboxes_normalized == True:\n",
        "          bbox = [bbox[0] * images[i].shape[1],bbox[1] * images[i].shape[0], bbox[2] * images[i].shape[1], bbox[3] * images[i].shape[0] ]\n",
        "        bboxes_to_plot.append(bbox)\n",
        "\n",
        "      img_to_draw = draw_bounding_boxes_on_image_array(image=images[i], boxes=np.asarray(bboxes_to_plot), color=[(255,0,0), (0, 255, 0)])\n",
        "      plt.xticks([])\n",
        "      plt.yticks([])\n",
        "    \n",
        "      plt.imshow(img_to_draw)\n",
        "\n",
        "      if len(iou) > i :\n",
        "        color = \"black\"\n",
        "        if (iou[i][0] < iou_threshold):\n",
        "          color = \"red\"\n",
        "        ax.text(0.2, -0.3, \"iou: %s\" %(iou[i][0]), color=color, transform=ax.transAxes)\n",
        "        \n",
        "        \n",
        "# utility to display training and validation curves\n",
        "def plot_metrics(metric_name, title, ylim=5):\n",
        "    plt.title(title)\n",
        "    plt.ylim(0,ylim)\n",
        "    plt.plot(history.history[metric_name],color='blue',label=metric_name)\n",
        "    plt.plot(history.history['val_' + metric_name],color='green',label='val_' + metric_name)"
      ],
      "execution_count": null,
      "outputs": []
    },
    {
      "cell_type": "markdown",
      "metadata": {
        "id": "JVkc7nzg-WUy"
      },
      "source": [
        "<a name=\"2\"></a>\n",
        "## 2. Preprocess and Load the Dataset"
      ]
    },
    {
      "cell_type": "markdown",
      "metadata": {
        "id": "4Xv_8MbApX23"
      },
      "source": [
        "<a name=\"2-1\"></a>\n",
        "### 2.1 Preprocessing Utilities\n",
        "\n",
        "We have given you some helper functions to pre-process the image data."
      ]
    },
    {
      "cell_type": "markdown",
      "metadata": {
        "id": "dg66jHMvw_f8"
      },
      "source": [
        "#### read_image_tfds\n",
        "- Resizes `image` to (224, 224)\n",
        "- Normalizes `image`\n",
        "- Translates and normalizes bounding boxes"
      ]
    },
    {
      "cell_type": "code",
      "metadata": {
        "id": "MEEyTpmNxS0A"
      },
      "source": [
        "def read_image_tfds(image, bbox):\n",
        "    image = tf.cast(image, tf.float32)\n",
        "    shape = tf.shape(image)\n",
        "\n",
        "    factor_x = tf.cast(shape[1], tf.float32)\n",
        "    factor_y = tf.cast(shape[0], tf.float32)\n",
        "\n",
        "    image = tf.image.resize(image, (224, 224,))\n",
        "\n",
        "    image = image/127.5\n",
        "    image -= 1\n",
        "\n",
        "    bbox_list = [bbox[0] / factor_x , \n",
        "                 bbox[1] / factor_y, \n",
        "                 bbox[2] / factor_x , \n",
        "                 bbox[3] / factor_y]\n",
        "    \n",
        "    return image, bbox_list"
      ],
      "execution_count": null,
      "outputs": []
    },
    {
      "cell_type": "markdown",
      "metadata": {
        "id": "zxqvA3wkyH7p"
      },
      "source": [
        "#### read_image_with_shape\n",
        "This is very similar to `read_image_tfds` except it also keeps a copy of the original image (before pre-processing) and returns this as well.\n",
        "- Makes a copy of the original image.\n",
        "- Resizes `image` to (224, 224)\n",
        "- Normalizes `image`\n",
        "- Translates and normalizes bounding boxes"
      ]
    },
    {
      "cell_type": "code",
      "metadata": {
        "id": "f10wa31DyeQ4"
      },
      "source": [
        "def read_image_with_shape(image, bbox):\n",
        "    original_image = image\n",
        "    \n",
        "    image, bbox_list = read_image_tfds(image, bbox)\n",
        "    \n",
        "    return original_image, image, bbox_list"
      ],
      "execution_count": null,
      "outputs": []
    },
    {
      "cell_type": "markdown",
      "metadata": {
        "id": "oNEpxvyLykzo"
      },
      "source": [
        "#### read_image_tfds_with_original_bbox\n",
        "\n",
        "- This function reads `image` from `data`\n",
        "- It also denormalizes the bounding boxes (it undoes the bounding box normalization that is performed by the previous two helper functions.)"
      ]
    },
    {
      "cell_type": "code",
      "metadata": {
        "id": "gsQo9vvhyoKb"
      },
      "source": [
        "def read_image_tfds_with_original_bbox(data):\n",
        "    image = data[\"image\"]\n",
        "    bbox = data[\"bbox\"]\n",
        "\n",
        "    shape = tf.shape(image)\n",
        "    factor_x = tf.cast(shape[1], tf.float32) \n",
        "    factor_y = tf.cast(shape[0], tf.float32)\n",
        "\n",
        "    bbox_list = [bbox[1] * factor_x , \n",
        "                 bbox[0] * factor_y, \n",
        "                 bbox[3] * factor_x, \n",
        "                 bbox[2] * factor_y]\n",
        "    return image, bbox_list"
      ],
      "execution_count": null,
      "outputs": []
    },
    {
      "cell_type": "markdown",
      "metadata": {
        "id": "2ElJ9VX0yui9"
      },
      "source": [
        "#### dataset_to_numpy_util\n",
        "This function converts a `dataset` into numpy arrays of images and boxes.\n",
        "- This will be used when visualizing the images and their bounding boxes"
      ]
    },
    {
      "cell_type": "code",
      "metadata": {
        "id": "CF-luxkJyzIA"
      },
      "source": [
        "def dataset_to_numpy_util(dataset, batch_size=0, N=0):\n",
        "\n",
        "    # eager execution: loop through datasets normally\n",
        "    take_dataset = dataset.shuffle(1024)\n",
        "\n",
        "    if batch_size > 0:\n",
        "        take_dataset = take_dataset.batch(batch_size)\n",
        "  \n",
        "    if N > 0:\n",
        "        take_dataset = take_dataset.take(N)\n",
        "  \n",
        "    if tf.executing_eagerly():\n",
        "        ds_images, ds_bboxes = [], []\n",
        "        for images, bboxes in take_dataset:\n",
        "            ds_images.append(images.numpy())\n",
        "            ds_bboxes.append(bboxes.numpy())\n",
        "        \n",
        "    return (np.array(ds_images), np.array(ds_bboxes))"
      ],
      "execution_count": null,
      "outputs": []
    },
    {
      "cell_type": "markdown",
      "metadata": {
        "id": "JZSf8zvBy2RX"
      },
      "source": [
        "#### dataset_to_numpy_with_original_bboxes_util\n",
        "\n",
        "- This function converts a `dataset` into numpy arrays of \n",
        "  - original images\n",
        "  - resized and normalized images\n",
        "  - bounding boxes\n",
        "- This will be used for plotting the original images with true and predicted bounding boxes."
      ]
    },
    {
      "cell_type": "code",
      "metadata": {
        "id": "ZE8dgyPC1_6m"
      },
      "source": [
        "def dataset_to_numpy_with_original_bboxes_util(dataset, batch_size=0, N=0):\n",
        "\n",
        "    normalized_dataset = dataset.map(read_image_with_shape)\n",
        "    if batch_size > 0:\n",
        "        normalized_dataset = normalized_dataset.batch(batch_size)\n",
        "  \n",
        "    if N > 0:\n",
        "        normalized_dataset = normalized_dataset.take(N)\n",
        "\n",
        "    if tf.executing_eagerly():\n",
        "        ds_original_images, ds_images, ds_bboxes = [], [], []\n",
        "        \n",
        "    for original_images, images, bboxes in normalized_dataset:\n",
        "        ds_images.append(images.numpy())\n",
        "        ds_bboxes.append(bboxes.numpy())\n",
        "        ds_original_images.append(original_images.numpy())\n",
        "\n",
        "    return np.array(ds_original_images), np.array(ds_images), np.array(ds_bboxes)"
      ],
      "execution_count": null,
      "outputs": []
    },
    {
      "cell_type": "markdown",
      "metadata": {
        "id": "I4gB0hprzMw4"
      },
      "source": [
        "<a name=\"2-2\"></a>\n",
        "### 2.2 Visualize the images and their bounding box labels\n",
        "Now you'll take a random sample of images from the training and validation sets and visualize them by plotting the corresponding bounding boxes."
      ]
    },
    {
      "cell_type": "markdown",
      "metadata": {
        "id": "XUPENeUHKXR6"
      },
      "source": [
        "Visualize the **training** images and their bounding box labels"
      ]
    },
    {
      "cell_type": "code",
      "metadata": {
        "id": "HW_AyCNIKXR6"
      },
      "source": [
        "def get_visualization_training_dataset():      \n",
        "    dataset, info = tfds.load(\"caltech_birds2010\", split=\"train\", with_info=True, data_dir=data_dir)\n",
        "    print(info)\n",
        "    visualization_training_dataset = dataset.map(read_image_tfds_with_original_bbox, \n",
        "                                                 num_parallel_calls=16)\n",
        "    return visualization_training_dataset\n",
        "\n",
        "\n",
        "visualization_training_dataset = get_visualization_training_dataset()\n",
        "\n",
        "\n",
        "(visualization_training_images, visualization_training_bboxes) = dataset_to_numpy_util(visualization_training_dataset, N=10)\n",
        "display_digits_with_boxes(np.array(visualization_training_images), np.array([]), np.array(visualization_training_bboxes), np.array([]), \"training images and their bboxes\")"
      ],
      "execution_count": null,
      "outputs": []
    },
    {
      "cell_type": "markdown",
      "metadata": {
        "id": "2qCuoUtYKXR6"
      },
      "source": [
        "Visualize the **validation** images and their bounding boxes"
      ]
    },
    {
      "cell_type": "code",
      "metadata": {
        "id": "XLGiEyK_KXR6"
      },
      "source": [
        "def get_visualization_validation_dataset():\n",
        "    dataset = tfds.load(\"caltech_birds2010\", split=\"test\", try_gcs=True, data_dir=data_dir)\n",
        "    visualization_validation_dataset = dataset.map(read_image_tfds_with_original_bbox, num_parallel_calls=16)\n",
        "    return visualization_validation_dataset\n",
        "\n",
        "\n",
        "visualization_validation_dataset = get_visualization_validation_dataset()\n",
        "\n",
        "(visualization_validation_images, visualization_validation_bboxes) = dataset_to_numpy_util(visualization_validation_dataset, N=10)\n",
        "display_digits_with_boxes(np.array(visualization_validation_images), np.array([]), np.array(visualization_validation_bboxes), np.array([]), \"validation images and their bboxes\")"
      ],
      "execution_count": null,
      "outputs": []
    },
    {
      "cell_type": "markdown",
      "metadata": {
        "id": "h2f2DWcnzZRq"
      },
      "source": [
        "<a name=\"2-3\"></a>\n",
        "### 2.3 Load and prepare the datasets for the model\n",
        "\n",
        "These next two functions read and prepare the datasets that you'll feed to the model.\n",
        "- They use `read_image_tfds` to resize, and normalize each image and its bounding box label.\n",
        "- They performs shuffling and batching.\n",
        "- You'll use these functions to create `training_dataset` and `validation_dataset`, which you will give to the model that you're about to build."
      ]
    },
    {
      "cell_type": "code",
      "metadata": {
        "id": "5shayI_tzdq0"
      },
      "source": [
        "BATCH_SIZE = 64\n",
        "\n",
        "def get_training_dataset(dataset):\n",
        "    dataset = dataset.map(read_image_tfds, num_parallel_calls=16)\n",
        "    dataset = dataset.shuffle(512, reshuffle_each_iteration=True)\n",
        "    dataset = dataset.repeat()\n",
        "    dataset = dataset.batch(BATCH_SIZE)\n",
        "    dataset = dataset.prefetch(-1) \n",
        "    return dataset\n",
        "\n",
        "def get_validation_dataset(dataset):\n",
        "    dataset = dataset.map(read_image_tfds, num_parallel_calls=16)\n",
        "    dataset = dataset.batch(BATCH_SIZE)\n",
        "    dataset = dataset.repeat()\n",
        "    return dataset\n",
        "\n",
        "training_dataset = get_training_dataset(visualization_training_dataset)\n",
        "validation_dataset = get_validation_dataset(visualization_validation_dataset)"
      ],
      "execution_count": null,
      "outputs": []
    },
    {
      "cell_type": "markdown",
      "metadata": {
        "id": "f8nHWWkS_eeZ"
      },
      "source": [
        "<a name=\"3\"></a>\n",
        "## 3. Define the Network\n",
        "\n",
        "Bounding box prediction is treated as a \"regression\" task, in that you want the model to output numerical values.\n",
        "\n",
        "- You will be performing transfer learning with **MobileNet V2**.  The model architecture is available in TensorFlow Keras.\n",
        "- You'll also use pretrained `'imagenet'` weights as a starting point for further training.  These weights are also readily available \n",
        "- You will choose to retrain all layers of **MobileNet V2** along with the final classification layers.\n",
        "\n",
        "**Note:** For the following exercises, please use the TensorFlow Keras Functional API (as opposed to the Sequential API)."
      ]
    },
    {
      "cell_type": "markdown",
      "metadata": {
        "id": "csyBuMZReYON"
      },
      "source": [
        "<a name='ex-01'></a>\n",
        "### Exercise 1\n",
        "\n",
        "Please build a feature extractor using MobileNetV2.\n",
        "\n",
        "- First, create an instance of the mobilenet version 2 model\n",
        "  - Please check out the documentation for [MobileNetV2](https://www.tensorflow.org/api_docs/python/tf/keras/applications/MobileNetV2)\n",
        "  - Set the following parameters:\n",
        "    - input_shape: (height, width, channel): input images have height and width of 224 by 224, and have red, green and blue channels.\n",
        "    - include_top: you do not want to keep the \"top\" fully connected layer, since you will customize your model for the current task.\n",
        "    - weights: Use the pre-trained 'imagenet' weights.\n",
        "  \n",
        "- Next, make the feature extractor for your specific inputs by passing the `inputs` into your mobilenet model.\n",
        "    - For example, if you created a model object called `some_model` and have inputs stored in `x`, you'd invoke the model and pass in your inputs like this: `some_model(x)` to get the feature extractor for your given inputs `x`.\n",
        "\n",
        "**Note**: please use mobilenet_v2 and not mobile_net or mobile_net_v3"
      ]
    },
    {
      "cell_type": "code",
      "metadata": {
        "id": "7DFecRhe0Pqc"
      },
      "source": [
        "def feature_extractor(inputs):\n",
        "    ### YOUR CODE HERE ###\n",
        "    \n",
        "    # Create a mobilenet version 2 model object\n",
        "    mobilenet_model = tf.keras.applications.MobileNetV2(input_shape=(224,224,3),include_top=False , weights='imagenet')\n",
        "    \n",
        "\n",
        "    # pass the inputs into this modle object to get a feature extractor for these inputs\n",
        "    feature_extractor = mobilenet_model(inputs)\n",
        "    \n",
        "\n",
        "    ### END CODE HERE ###\n",
        "        \n",
        "    # return the feature_extractor\n",
        "    return feature_extractor"
      ],
      "execution_count": null,
      "outputs": []
    },
    {
      "cell_type": "markdown",
      "metadata": {
        "id": "4ufMK9Qy0VPM"
      },
      "source": [
        "<a name='ex-02'></a>\n",
        "### Exercise 2\n",
        "\n",
        "Next, you'll define the dense layers to be used by your model.\n",
        "\n",
        "You'll be using the following layers\n",
        "- [GlobalAveragePooling2D](https://www.tensorflow.org/api_docs/python/tf/keras/layers/GlobalAveragePooling2D): pools the `features`.\n",
        "- [Flatten](https://www.tensorflow.org/api_docs/python/tf/keras/layers/Flatten): flattens the pooled layer.\n",
        "- [Dense](https://www.tensorflow.org/api_docs/python/tf/keras/layers/Dense): Add two dense layers:\n",
        "    - A dense layer with 1024 neurons and a relu activation.\n",
        "    - A dense layer following that with 512 neurons and a relu activation.\n",
        "    \n",
        "**Note**: Remember, please build the model using the Functional API syntax (as opposed to the Sequential API)."
      ]
    },
    {
      "cell_type": "code",
      "metadata": {
        "id": "0njchQxB0b4Q"
      },
      "source": [
        "def dense_layers(features):\n",
        "    ### YOUR CODE HERE ###\n",
        "\n",
        "    # global average pooling 2D layer.\n",
        "    x = tf.keras.layers.GlobalAveragePooling2D()(features)  \n",
        "    \n",
        "    # flatten layer\n",
        "    x = tf.keras.layers.Flatten()(x)\n",
        "    \n",
        "    # 1024 Dense layer, with relu\n",
        "    x = tf.keras.layers.Dense(1024 , activation='relu')(x)\n",
        "    \n",
        "    # 512 Dense layer, with relu\n",
        "    x = tf.keras.layers.Dense(512 , activation='relu')(x)\n",
        "    \n",
        "    ### END CODE HERE ###\n",
        "    \n",
        "    return x"
      ],
      "execution_count": null,
      "outputs": []
    },
    {
      "cell_type": "markdown",
      "metadata": {
        "id": "g7ARvWYw0sje"
      },
      "source": [
        "<a name='ex-03'></a>\n",
        "### Exercise 3\n",
        "\n",
        "\n",
        "Now you'll define a layer that outputs the bounding box predictions. \n",
        "- You'll use a [Dense](https://www.tensorflow.org/api_docs/python/tf/keras/layers/Dense) layer.\n",
        "- Remember that you have _4 units_ in the output layer, corresponding to (xmin, ymin, xmax, ymax).\n",
        "- The prediction layer follows the previous dense layer, which is passed into this function as the variable `x`.\n",
        "- For grading purposes, please set the `name` parameter of this Dense layer to be `bounding_box'"
      ]
    },
    {
      "cell_type": "code",
      "metadata": {
        "id": "VdsD0-Jl07zW"
      },
      "source": [
        "def bounding_box_regression(x):\n",
        "    ### YOUR CODE HERE ###\n",
        "    \n",
        "    # Dense layer named `bounding_box`\n",
        "    bounding_box_regression_output = tf.keras.layers.Dense(4 , name='bounding_box')(x)\n",
        "\n",
        "    ### END CODE HERE ###\n",
        "        \n",
        "\n",
        "    return bounding_box_regression_output"
      ],
      "execution_count": null,
      "outputs": []
    },
    {
      "cell_type": "markdown",
      "metadata": {
        "id": "ELxJoKqu1OnM"
      },
      "source": [
        "<a name='ex-04'></a>\n",
        "### Exercise 4\n",
        "\n",
        "Now, you'll use those functions that you have just defined above to construct the model.\n",
        "- feature_extractor(inputs)\n",
        "- dense_layers(features)\n",
        "- bounding_box_regression(x)\n",
        "\n",
        "Then you'll define the model object using [Model](https://www.tensorflow.org/s/results?q=Model).  Set the two parameters:\n",
        "- inputs\n",
        "- outputs"
      ]
    },
    {
      "cell_type": "code",
      "metadata": {
        "id": "wn9O9c7I1XRJ"
      },
      "source": [
        "def final_model(inputs):\n",
        "    ### YOUR CODE HERE ###\n",
        "\n",
        "    # features\n",
        "    feature_cnn = feature_extractor(inputs)\n",
        "\n",
        "    # dense layers\n",
        "    last_dense_layer = dense_layers(feature_cnn) \n",
        "\n",
        "    # bounding box\n",
        "    bounding_box_output = bounding_box_regression(last_dense_layer)\n",
        "    \n",
        "    # define the TensorFlow Keras model using the inputs and outputs to your model\n",
        "    model = tf.keras.models.Model(inputs = inputs , outputs = bounding_box_output)\n",
        "\n",
        "    ### END CODE HERE ###\n",
        "    \n",
        "    \n",
        "    return model"
      ],
      "execution_count": null,
      "outputs": []
    },
    {
      "cell_type": "markdown",
      "metadata": {
        "id": "oNWQP3dn1ftJ"
      },
      "source": [
        "<a name='ex-05'></a>\n",
        "### Exercise 5\n",
        "\n",
        "Define the input layer, define the model, and then compile the model. \n",
        "- inputs: define an [Input](https://www.tensorflow.org/api_docs/python/tf/keras/Input) layer\n",
        "  - Set the `shape` parameter.  Check your definition of `feature_extractor` to see the expected dimensions of the input image.\n",
        "- model: use the `final_model` function that you just defined to create the model.\n",
        "- compile the model: Check the [Model](https://www.tensorflow.org/api_docs/python/tf/keras/Model) documentation for how to compile the model.\n",
        "  - Set the `optimizer` parameter to Stochastic Gradient Descent using [SGD](https://www.tensorflow.org/api_docs/python/tf/keras/optimizers/SGD)\n",
        "    - When using SGD, set the `momentum` to 0.9 and keep the default learning rate.\n",
        "  - Set the loss function of SGD to mean squared error (see the SGD documentation for an example of how to choose mean squared error loss)."
      ]
    },
    {
      "cell_type": "code",
      "metadata": {
        "id": "C67ZmsTe1n9m"
      },
      "source": [
        "def define_and_compile_model():\n",
        "  \n",
        "    ### YOUR CODE HERE ###\n",
        "\n",
        "    # define the input layer\n",
        "    inputs = tf.keras.layers.Input(shape=(224 , 224 , 3))\n",
        "    \n",
        "    # create the model\n",
        "    model = final_model(inputs)\n",
        "    \n",
        "    # compile your model\n",
        "    model.compile(optimizer = tf.keras.optimizers.SGD(momentum=0.9) , loss='mse')\n",
        "\n",
        "    ### END CODE HERE ###\n",
        "    \n",
        "\n",
        "    return model"
      ],
      "execution_count": null,
      "outputs": []
    },
    {
      "cell_type": "markdown",
      "metadata": {
        "id": "yPtBf83B1zZ3"
      },
      "source": [
        "Run the cell below to define your model and print the model summary."
      ]
    },
    {
      "cell_type": "code",
      "metadata": {
        "id": "56y8UNFQIVwj"
      },
      "source": [
        "# define your model\n",
        "model = define_and_compile_model()\n",
        "# print model layers\n",
        "model.summary()"
      ],
      "execution_count": null,
      "outputs": []
    },
    {
      "cell_type": "markdown",
      "metadata": {
        "id": "Rypqtdgm6cUa"
      },
      "source": [
        "Your expected model summary:\n",
        "\n",
        "![Screenshot 2020-10-29 at 10.53.54 AM.png](data:image/png;base64,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)"
      ]
    },
    {
      "cell_type": "markdown",
      "metadata": {
        "id": "HtVVYVlvKXR7"
      },
      "source": [
        "<a name='4'></a>\n",
        "## Train the Model"
      ]
    },
    {
      "cell_type": "markdown",
      "metadata": {
        "id": "CuhDh8ao8VyB"
      },
      "source": [
        "<a name='4.1'></a>\n",
        "### 4.1 Prepare to Train the Model\n",
        "\n",
        "You'll fit the model here, but first you'll set some of the parameters that go into fitting the model.\n",
        "\n",
        "- EPOCHS: You'll train the model for 50 epochs\n",
        "- BATCH_SIZE: Set the `BATCH_SIZE` to an appropriate value. You can look at the ungraded labs from this week for some examples.\n",
        "- length_of_training_dataset: this is the number of training examples.  You can find this value by getting the length of `visualization_training_dataset`.\n",
        "  - Note: You won't be able to get the length of the object `training_dataset`. (You'll get an error message).\n",
        "- length_of_validation_dataset: this is the number of validation examples.  You can find this value by getting the length of `visualization_validation_dataset`.\n",
        "  - Note: You won't be able to get the length of the object `validation_dataset`.\n",
        "- steps_per_epoch: This is the number of steps it will take to process all of the training data.  \n",
        "  - If the number of training examples is not evenly divisible by the batch size, there will be one last batch that is not the full batch size.\n",
        "  - Try to calculate the number steps it would take to train all the full batches plus one more batch containing the remaining training examples. There are a couples ways you can calculate this.\n",
        "    - You can use regular division `/` and import `math` to use `math.ceil()` [Python math module docs](https://docs.python.org/3/library/math.html)\n",
        "    - Alternatively, you can use `//` for integer division, `%` to check for a remainder after integer division, and an `if` statement.\n",
        "  \n",
        "- validation_steps: This is the number of steps it will take to process all of the validation data.  You can use similar calculations that you did for the step_per_epoch, but for the validation dataset."
      ]
    },
    {
      "cell_type": "markdown",
      "metadata": {
        "id": "vgTGU_j-KXR7"
      },
      "source": [
        "<a name='ex-06'></a>\n",
        "### Exercise 6"
      ]
    },
    {
      "cell_type": "code",
      "metadata": {
        "id": "KoIY6xQ_KXR7"
      },
      "source": [
        "# You'll train 50 epochs\n",
        "EPOCHS = 50\n",
        "\n",
        "### START CODE HERE ###\n",
        "\n",
        "# Choose a batch size\n",
        "BATCH_SIZE = 32\n",
        "\n",
        "# Get the length of the training set\n",
        "length_of_training_dataset = len(visualization_training_dataset)\n",
        "\n",
        "# Get the length of the validation set\n",
        "length_of_validation_dataset = len(visualization_validation_dataset)\n",
        "\n",
        "# Get the steps per epoch (may be a few lines of code)\n",
        "steps_per_epoch = length_of_training_dataset // BATCH_SIZE\n",
        "\n",
        "# get the validation steps (per epoch) (may be a few lines of code)\n",
        "validation_steps = length_of_validation_dataset//BATCH_SIZE\n",
        "if length_of_validation_dataset % BATCH_SIZE > 0:\n",
        "    validation_steps += 1\n",
        "    \n",
        "### END CODE HERE"
      ],
      "execution_count": null,
      "outputs": []
    },
    {
      "cell_type": "markdown",
      "metadata": {
        "id": "DWCj8CYtSQpY"
      },
      "source": [
        "<a name='4.2'></a>\n",
        "### 4.2 Fit the model to the data\n",
        "\n",
        "\n",
        "Check out the parameters that you can set to fit the [Model](https://www.tensorflow.org/api_docs/python/tf/keras/Model#fit).  Please set the following parameters.\n",
        "- x: this can be a tuple of both the features and labels, as is the case here when using a tf.Data dataset.\n",
        "  - Please use the variable returned from `get_training_dataset()`.\n",
        "  - Note, don't set the `y` parameter when the `x` is already set to both the features and labels.\n",
        "- steps_per_epoch: the number of steps to train in order to train on all examples in the training dataset.\n",
        "- validation_data: this is a tuple of both the features and labels of the validation set.\n",
        "  - Please use the variable returned from `get_validation_dataset()`\n",
        "- validation_steps: teh number of steps to go through the validation set, batch by batch.\n",
        "- epochs: the number of epochs.\n",
        "\n",
        "If all goes well your model's training will start."
      ]
    },
    {
      "cell_type": "markdown",
      "metadata": {
        "id": "BTL8VVAaKXR7"
      },
      "source": [
        "<a name='ex-07'></a>\n",
        "### Exercise 7"
      ]
    },
    {
      "cell_type": "code",
      "metadata": {
        "id": "TTwH_P-ZJ_xx"
      },
      "source": [
        "### YOUR CODE HERE ####\n",
        "\n",
        "# Fit the model, setting the parameters noted in the instructions above.\n",
        "history = model.fit(training_dataset , steps_per_epoch = steps_per_epoch , validation_data = validation_dataset , validation_steps=validation_steps , epochs=EPOCHS)\n",
        "\n",
        "### END CODE HERE ###"
      ],
      "execution_count": null,
      "outputs": []
    },
    {
      "cell_type": "markdown",
      "metadata": {
        "id": "-aBzmycIsO8w"
      },
      "source": [
        "<a name='5'></a>\n",
        "## 5. Validate the Model\n",
        "\n",
        "<a name='5-1'></a>\n",
        "### 5.1 Loss\n",
        "\n",
        "You can now evaluate your trained model's performance by checking its loss value on the validation set."
      ]
    },
    {
      "cell_type": "code",
      "metadata": {
        "id": "WWbkUql5sAok"
      },
      "source": [
        "loss = model.evaluate(validation_dataset, steps=validation_steps)\n",
        "print(\"Loss: \", loss)"
      ],
      "execution_count": null,
      "outputs": []
    },
    {
      "cell_type": "markdown",
      "metadata": {
        "id": "Gjtus2EK0-hm"
      },
      "source": [
        "<a name='5-2'></a>\n",
        "### 5.2 Save your Model for Grading\n",
        "\n",
        "When you have trained your model and are satisfied with your validation loss, please you save your model so that you can upload it to the Coursera classroom for grading."
      ]
    },
    {
      "cell_type": "code",
      "metadata": {
        "id": "6Cvv-GgvE3V4"
      },
      "source": [
        "# Please save your model\n",
        "model.save(\"birds.h5\")"
      ],
      "execution_count": null,
      "outputs": []
    },
    {
      "cell_type": "code",
      "metadata": {
        "id": "CW2AAdkRsOMP"
      },
      "source": [
        "# And download it using this shortcut or from the \"Files\" panel to the left\r\n",
        "from google.colab import files\r\n",
        "\r\n",
        "files.download(\"birds.h5\")"
      ],
      "execution_count": null,
      "outputs": []
    },
    {
      "cell_type": "markdown",
      "metadata": {
        "id": "g7E81sgUsUC4"
      },
      "source": [
        "<a name='5-3'></a>\n",
        "### 5.3 Plot Loss Function\n",
        "\n",
        "You can also plot the loss metrics."
      ]
    },
    {
      "cell_type": "code",
      "metadata": {
        "id": "Cz-b8TxU6EDj"
      },
      "source": [
        "plot_metrics(\"loss\", \"Bounding Box Loss\", ylim=0.2)"
      ],
      "execution_count": null,
      "outputs": []
    },
    {
      "cell_type": "markdown",
      "metadata": {
        "id": "5G7KFVX9sXJt"
      },
      "source": [
        "<a name='5-4'></a>\n",
        "### 5.4 Evaluate performance using IoU\n",
        "\n",
        "You can see how well your model predicts bounding boxes on the validation set by calculating the Intersection-over-union (IoU) score for each image.\n",
        "\n",
        "- You'll find the IoU calculation implemented for you.\n",
        "- Predict on the validation set of images.\n",
        "- Apply the `intersection_over_union` on these predicted bounding boxes."
      ]
    },
    {
      "cell_type": "code",
      "metadata": {
        "id": "YFqJxt3_VrCm"
      },
      "source": [
        "def intersection_over_union(pred_box, true_box):\n",
        "\n",
        "    xmin_pred, ymin_pred, xmax_pred, ymax_pred =  np.split(pred_box, 4, axis = 1)\n",
        "    xmin_true, ymin_true, xmax_true, ymax_true = np.split(true_box, 4, axis = 1)\n",
        "\n",
        "    #Calculate coordinates of overlap area between boxes\n",
        "    xmin_overlap = np.maximum(xmin_pred, xmin_true)\n",
        "    xmax_overlap = np.minimum(xmax_pred, xmax_true)\n",
        "    ymin_overlap = np.maximum(ymin_pred, ymin_true)\n",
        "    ymax_overlap = np.minimum(ymax_pred, ymax_true)\n",
        "\n",
        "    #Calculates area of true and predicted boxes\n",
        "    pred_box_area = (xmax_pred - xmin_pred) * (ymax_pred - ymin_pred)\n",
        "    true_box_area = (xmax_true - xmin_true) * (ymax_true - ymin_true)\n",
        "\n",
        "    #Calculates overlap area and union area.\n",
        "    overlap_area = np.maximum((xmax_overlap - xmin_overlap),0)  * np.maximum((ymax_overlap - ymin_overlap), 0)\n",
        "    union_area = (pred_box_area + true_box_area) - overlap_area\n",
        "\n",
        "    # Defines a smoothing factor to prevent division by 0\n",
        "    smoothing_factor = 1e-10\n",
        "\n",
        "    #Updates iou score\n",
        "    iou = (overlap_area + smoothing_factor) / (union_area + smoothing_factor)\n",
        "\n",
        "    return iou\n",
        "\n",
        "#Makes predictions\n",
        "original_images, normalized_images, normalized_bboxes = dataset_to_numpy_with_original_bboxes_util(visualization_validation_dataset, N=500)\n",
        "predicted_bboxes = model.predict(normalized_images, batch_size=32)\n",
        "\n",
        "\n",
        "#Calculates IOU and reports true positives and false positives based on IOU threshold\n",
        "iou = intersection_over_union(predicted_bboxes, normalized_bboxes)\n",
        "iou_threshold = 0.5\n",
        "\n",
        "print(\"Number of predictions where iou > threshold(%s): %s\" % (iou_threshold, (iou >= iou_threshold).sum()))\n",
        "print(\"Number of predictions where iou < threshold(%s): %s\" % (iou_threshold, (iou < iou_threshold).sum()))"
      ],
      "execution_count": null,
      "outputs": []
    },
    {
      "cell_type": "markdown",
      "metadata": {
        "id": "9jFVovcUUVs1"
      },
      "source": [
        "<a name='6'></a>\n",
        "## 6. Visualize Predictions\n",
        "\n",
        "Lastly, you'll plot the predicted and ground truth bounding boxes for a random set of images and visually see how well you did!\n"
      ]
    },
    {
      "cell_type": "code",
      "metadata": {
        "id": "bR9Bb4uCwTyw"
      },
      "source": [
        "n = 10\n",
        "indexes = np.random.choice(len(predicted_bboxes), size=n)\n",
        "\n",
        "iou_to_draw = iou[indexes]\n",
        "norm_to_draw = original_images[indexes]\n",
        "display_digits_with_boxes(original_images[indexes], predicted_bboxes[indexes], normalized_bboxes[indexes], iou[indexes], \"True and Predicted values\", bboxes_normalized=True)"
      ],
      "execution_count": null,
      "outputs": []
    },
    {
      "cell_type": "markdown",
      "metadata": {
        "id": "lFgrfCW8KXR8"
      },
      "source": [
        "<a name='7'></a>\n",
        "# 7 Upload your model for grading\n",
        "\n",
        "Please return to the Coursera classroom and find the section that allows you to upload your 'birds.h5' model for grading.  Good luck!"
      ]
    }
  ]
}