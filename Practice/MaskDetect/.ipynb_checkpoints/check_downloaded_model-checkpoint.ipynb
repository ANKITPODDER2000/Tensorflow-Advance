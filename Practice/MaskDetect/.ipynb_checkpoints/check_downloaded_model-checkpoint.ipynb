{
 "cells": [
  {
   "cell_type": "code",
   "execution_count": 1,
   "metadata": {},
   "outputs": [
    {
     "name": "stdout",
     "output_type": "stream",
     "text": [
      "Version of tensorflow is :  2.3.0\n"
     ]
    }
   ],
   "source": [
    "import tensorflow as tf\n",
    "print(\"Version of tensorflow is : \",tf.__version__)"
   ]
  },
  {
   "cell_type": "code",
   "execution_count": 2,
   "metadata": {},
   "outputs": [],
   "source": [
    "model = tf.keras.models.load_model(\"./mask_detect.h5\")"
   ]
  },
  {
   "cell_type": "code",
   "execution_count": 3,
   "metadata": {},
   "outputs": [
    {
     "name": "stdout",
     "output_type": "stream",
     "text": [
      "Model: \"sequential_1\"\n",
      "_________________________________________________________________\n",
      "Layer (type)                 Output Shape              Param #   \n",
      "=================================================================\n",
      "conv2d_4 (Conv2D)            (None, 148, 148, 32)      896       \n",
      "_________________________________________________________________\n",
      "max_pooling2d_4 (MaxPooling2 (None, 74, 74, 32)        0         \n",
      "_________________________________________________________________\n",
      "batch_normalization_4 (Batch (None, 74, 74, 32)        128       \n",
      "_________________________________________________________________\n",
      "conv2d_5 (Conv2D)            (None, 72, 72, 64)        18496     \n",
      "_________________________________________________________________\n",
      "max_pooling2d_5 (MaxPooling2 (None, 36, 36, 64)        0         \n",
      "_________________________________________________________________\n",
      "batch_normalization_5 (Batch (None, 36, 36, 64)        256       \n",
      "_________________________________________________________________\n",
      "conv2d_6 (Conv2D)            (None, 34, 34, 128)       73856     \n",
      "_________________________________________________________________\n",
      "max_pooling2d_6 (MaxPooling2 (None, 17, 17, 128)       0         \n",
      "_________________________________________________________________\n",
      "batch_normalization_6 (Batch (None, 17, 17, 128)       512       \n",
      "_________________________________________________________________\n",
      "conv2d_7 (Conv2D)            (None, 15, 15, 256)       295168    \n",
      "_________________________________________________________________\n",
      "max_pooling2d_7 (MaxPooling2 (None, 7, 7, 256)         0         \n",
      "_________________________________________________________________\n",
      "batch_normalization_7 (Batch (None, 7, 7, 256)         1024      \n",
      "_________________________________________________________________\n",
      "flatten_1 (Flatten)          (None, 12544)             0         \n",
      "_________________________________________________________________\n",
      "dropout_3 (Dropout)          (None, 12544)             0         \n",
      "_________________________________________________________________\n",
      "dense_3 (Dense)              (None, 256)               3211520   \n",
      "_________________________________________________________________\n",
      "dropout_4 (Dropout)          (None, 256)               0         \n",
      "_________________________________________________________________\n",
      "dense_4 (Dense)              (None, 256)               65792     \n",
      "_________________________________________________________________\n",
      "dropout_5 (Dropout)          (None, 256)               0         \n",
      "_________________________________________________________________\n",
      "dense_5 (Dense)              (None, 1)                 257       \n",
      "=================================================================\n",
      "Total params: 3,667,905\n",
      "Trainable params: 3,666,945\n",
      "Non-trainable params: 960\n",
      "_________________________________________________________________\n"
     ]
    }
   ],
   "source": [
    "model.summary()"
   ]
  },
  {
   "cell_type": "code",
   "execution_count": 68,
   "metadata": {},
   "outputs": [
    {
     "data": {
      "text/plain": [
       "array([[1]])"
      ]
     },
     "execution_count": 68,
     "metadata": {},
     "output_type": "execute_result"
    }
   ],
   "source": [
    "img = tf.keras.preprocessing.image.load_img(\"./pc0820bailey_graphic_02.jpg\" , target_size=(150 , 150))\n",
    "img = tf.keras.preprocessing.image.img_to_array(img)\n",
    "img = img / 255.0\n",
    "model.predict_classes(img[tf.newaxis , ])"
   ]
  },
  {
   "cell_type": "code",
   "execution_count": 5,
   "metadata": {},
   "outputs": [],
   "source": [
    "img = tf.keras.preprocessing.image.load_img(\"./img.jpg\" , target_size=(450 , 450))\n",
    "img = tf.keras.preprocessing.image.img_to_array(img)\n",
    "img = img / 255.0"
   ]
  },
  {
   "cell_type": "code",
   "execution_count": 7,
   "metadata": {},
   "outputs": [
    {
     "data": {
      "text/plain": [
       "(268, 268, 3)"
      ]
     },
     "execution_count": 7,
     "metadata": {},
     "output_type": "execute_result"
    }
   ],
   "source": [
    "img[93:93+268 , 124:124+268 , :].shape"
   ]
  },
  {
   "cell_type": "code",
   "execution_count": 9,
   "metadata": {},
   "outputs": [],
   "source": [
    "import matplotlib.pyplot as plt"
   ]
  },
  {
   "cell_type": "code",
   "execution_count": 12,
   "metadata": {},
   "outputs": [],
   "source": [
    "import cv2"
   ]
  },
  {
   "cell_type": "code",
   "execution_count": 11,
   "metadata": {},
   "outputs": [
    {
     "name": "stdout",
     "output_type": "stream",
     "text": [
      "Collecting opencv-python\n",
      "  Downloading opencv_python-4.4.0.46-cp38-cp38-win_amd64.whl (33.5 MB)\n",
      "Requirement already satisfied: numpy>=1.17.3 in c:\\anaconda\\lib\\site-packages (from opencv-python) (1.18.5)\n",
      "Installing collected packages: opencv-python\n",
      "Successfully installed opencv-python-4.4.0.46\n"
     ]
    }
   ],
   "source": [
    "!pip install opencv-python"
   ]
  },
  {
   "cell_type": "code",
   "execution_count": 13,
   "metadata": {},
   "outputs": [
    {
     "name": "stdout",
     "output_type": "stream",
     "text": [
      "[[ 93 124 268 268]]\n"
     ]
    }
   ],
   "source": []
  },
  {
   "cell_type": "code",
   "execution_count": 76,
   "metadata": {},
   "outputs": [
    {
     "name": "stdout",
     "output_type": "stream",
     "text": [
      "[[152 112 220 220]]\n"
     ]
    },
    {
     "data": {
      "text/plain": [
       "27"
      ]
     },
     "execution_count": 76,
     "metadata": {},
     "output_type": "execute_result"
    }
   ],
   "source": [
    "classes = {0 : 'WithMask', 1 : 'WithoutMask'}\n",
    "\n",
    "img = cv2.imread(\"./kid.jpg\")\n",
    "img = cv2.resize(img , (450 , 450 ))\n",
    "gray = cv2.cvtColor(img,cv2.COLOR_BGR2GRAY)\n",
    "faces = face_classifier.detectMultiScale(gray)\n",
    "print(faces)\n",
    "\n",
    "for (x,y,w,h) in faces:\n",
    "    roi_gray = None\n",
    "    try:\n",
    "        roi_gray = img[y-60:y+h+15,x:x+w]\n",
    "        cv2.rectangle(img,(x,y-60),(x+w,y+h),(255,0,0),2)\n",
    "        label_position = (x,y-60)\n",
    "    except:\n",
    "        try:\n",
    "            roi_gray = img[y-50:y+h,x:x+w]\n",
    "            cv2.rectangle(img,(x,y-50),(x+w,y+h),(255,0,0),2)\n",
    "            label_position = (x,y-50)\n",
    "        except:\n",
    "            try:\n",
    "                roi_gray = img[y-40:y+h,x:x+w]\n",
    "                cv2.rectangle(img,(x,y-40),(x+w,y+h),(255,0,0),2)\n",
    "                label_position = (x,y-40)\n",
    "            except:\n",
    "                try:\n",
    "                    roi_gray = img[y-25:y+h,x:x+w]\n",
    "                    cv2.rectangle(img,(x,y-25),(x+w,y+h),(255,0,0),2)\n",
    "                    label_position = (x,y-25)\n",
    "                except:\n",
    "                    try:\n",
    "                        roi_gray = img[y-15:y+h,x:x+w]\n",
    "                        cv2.rectangle(img,(x,y-15),(x+w,y+h),(255,0,0),2)\n",
    "                        label_position = (x,y-15)\n",
    "                    except:\n",
    "                        try:\n",
    "                            roi_gray = img[y-5:y+h,x:x+w]\n",
    "                            cv2.rectangle(img,(x,y-5),(x+w,y+h),(255,0,0),2)\n",
    "                            label_position = (x,y-5)\n",
    "                        except:\n",
    "                            try:\n",
    "                                roi_gray = img[y:y+h,x:x+w]\n",
    "                                cv2.rectangle(img,(x,y),(x+w,y+h),(255,0,0),2)\n",
    "                                label_position = (x,y-50)\n",
    "                            except:\n",
    "                                pass\n",
    "\n",
    "    roi_gray = cv2.resize(roi_gray,(150,150))\n",
    "    if np.sum([roi_gray])!=0:\n",
    "        roi = roi_gray.astype('float')/255.0\n",
    "        roi = tf.keras.preprocessing.image.img_to_array(roi)\n",
    "        roi = np.expand_dims(roi,axis=0)\n",
    "\n",
    "        preds = model.predict_classes(roi)[0][0]\n",
    "        label = classes[preds]\n",
    "        cv2.putText(img,label,label_position,cv2.FONT_HERSHEY_SIMPLEX,1,(255,0,0),3)\n",
    "    else:\n",
    "        cv2.putText(frame,\"No Face Found\",(20,60),cv2.FONT_HERSHEY_SIMPLEX,1,(255,0,0),3)\n",
    "        \n",
    "cv2.imshow(\"image\" , img)\n",
    "cv2.waitKey(0)"
   ]
  },
  {
   "cell_type": "code",
   "execution_count": null,
   "metadata": {},
   "outputs": [],
   "source": []
  },
  {
   "cell_type": "code",
   "execution_count": 15,
   "metadata": {},
   "outputs": [],
   "source": [
    "import numpy as np"
   ]
  },
  {
   "cell_type": "code",
   "execution_count": null,
   "metadata": {},
   "outputs": [],
   "source": []
  }
 ],
 "metadata": {
  "kernelspec": {
   "display_name": "Python 3",
   "language": "python",
   "name": "python3"
  },
  "language_info": {
   "codemirror_mode": {
    "name": "ipython",
    "version": 3
   },
   "file_extension": ".py",
   "mimetype": "text/x-python",
   "name": "python",
   "nbconvert_exporter": "python",
   "pygments_lexer": "ipython3",
   "version": "3.8.3"
  }
 },
 "nbformat": 4,
 "nbformat_minor": 4
}
