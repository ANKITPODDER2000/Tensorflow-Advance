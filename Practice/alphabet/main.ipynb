{
  "nbformat": 4,
  "nbformat_minor": 0,
  "metadata": {
    "accelerator": "GPU",
    "colab": {
      "name": "main.ipynb",
      "provenance": []
    },
    "kernelspec": {
      "display_name": "Python 3",
      "name": "python3"
    }
  },
  "cells": [
    {
      "cell_type": "code",
      "metadata": {
        "id": "-_ZWuRxmQoZU",
        "colab": {
          "base_uri": "https://localhost:8080/"
        },
        "outputId": "f47d17c4-303f-4912-cadc-20c998c03a69"
      },
      "source": [
        "from sklearn.preprocessing import MinMaxScaler\n",
        "import tensorflow as tf\n",
        "from keras.models import Sequential\n",
        "from keras.layers import Dense\n",
        "from keras.layers import Dropout\n",
        "from keras.layers import Flatten\n",
        "from keras.layers.convolutional import Conv2D\n",
        "from keras.layers.convolutional import MaxPooling2D\n",
        "import pandas as pd\n",
        "from sklearn.model_selection import train_test_split\n",
        "import os\n",
        "os.chdir('/content/drive/MyDrive/Tensorflow Advance/Practice/Alphabet')\n",
        "import matplotlib.pyplot as plt\n",
        "%matplotlib inline\n",
        "import seaborn as sns\n",
        "sns.set_style('darkgrid')\n",
        "import random\n",
        "import string\n",
        "\n",
        "print(\"Version of tensorflow is : \",tf.__version__)"
      ],
      "execution_count": 23,
      "outputs": [
        {
          "output_type": "stream",
          "text": [
            "Version of tensorflow is :  2.3.0\n"
          ],
          "name": "stdout"
        }
      ]
    },
    {
      "cell_type": "code",
      "metadata": {
        "id": "TOyhyTNdQ6ux"
      },
      "source": [
        "df = pd.read_csv(\"data.csv\")\n",
        "df.head()\n",
        "class_name = string.ascii_uppercase"
      ],
      "execution_count": 24,
      "outputs": []
    },
    {
      "cell_type": "code",
      "metadata": {
        "id": "nR8d_hg0SEo1"
      },
      "source": [
        "data  = df.drop('0' , axis = 1).astype('float32')\n",
        "label = df['0']"
      ],
      "execution_count": 38,
      "outputs": []
    },
    {
      "cell_type": "code",
      "metadata": {
        "colab": {
          "base_uri": "https://localhost:8080/"
        },
        "id": "5F51OuIsSUfY",
        "outputId": "4b2f45ab-d558-40f7-d94f-cd90b483d09a"
      },
      "source": [
        "print(\"Shape of data : \",data.shape)\n",
        "print(\"Shape of label : \",label.shape)"
      ],
      "execution_count": 39,
      "outputs": [
        {
          "output_type": "stream",
          "text": [
            "Shape of data :  (372450, 784)\n",
            "Shape of label :  (372450,)\n"
          ],
          "name": "stdout"
        }
      ]
    },
    {
      "cell_type": "code",
      "metadata": {
        "id": "waaXDi4USbXW"
      },
      "source": [
        "def plot_alpha():\n",
        "    r = random.randint(0 , data.shape[0])\n",
        "    plt.imshow(data.loc[r].values.reshape((28,28)))\n",
        "    plt.title(class_name[label.loc[r]])\n",
        "    plt.grid(False)\n",
        "    plt.xticks([])\n",
        "    plt.yticks([])"
      ],
      "execution_count": 40,
      "outputs": []
    },
    {
      "cell_type": "code",
      "metadata": {
        "id": "2eXkJZNzSek3",
        "colab": {
          "base_uri": "https://localhost:8080/",
          "height": 264
        },
        "outputId": "b01b2c06-4908-4228-e741-b4b92fd23dc7"
      },
      "source": [
        "plot_alpha()"
      ],
      "execution_count": 41,
      "outputs": [
        {
          "output_type": "display_data",
          "data": {
            "image/png": "[encoded data removed]",
            "text/plain": [
              "<Figure size 432x288 with 1 Axes>"
            ]
          },
          "metadata": {
            "tags": []
          }
        }
      ]
    },
    {
      "cell_type": "code",
      "metadata": {
        "colab": {
          "base_uri": "https://localhost:8080/",
          "height": 264
        },
        "id": "B14FEYScTQME",
        "outputId": "368623fa-f9c6-4c65-db18-01d9142b968a"
      },
      "source": [
        "plot_alpha()"
      ],
      "execution_count": 42,
      "outputs": [
        {
          "output_type": "display_data",
          "data": {
            "image/png": "[encoded data removed]",
            "text/plain": [
              "<Figure size 432x288 with 1 Axes>"
            ]
          },
          "metadata": {
            "tags": []
          }
        }
      ]
    },
    {
      "cell_type": "code",
      "metadata": {
        "id": "6_Ni1zbOTSRH"
      },
      "source": [
        "data  = data.values\n",
        "label = label.values"
      ],
      "execution_count": 43,
      "outputs": []
    },
    {
      "cell_type": "code",
      "metadata": {
        "id": "1fLHdWOSYe5Y"
      },
      "source": [
        "X_train, X_test, y_train, y_test = train_test_split(data , label, test_size=0.2)\n",
        "\n",
        "# scale data\n",
        "standard_scaler = MinMaxScaler()\n",
        "standard_scaler.fit(X_train)\n",
        "\n",
        "X_train = standard_scaler.transform(X_train)\n",
        "X_test = standard_scaler.transform(X_test)"
      ],
      "execution_count": 45,
      "outputs": []
    },
    {
      "cell_type": "code",
      "metadata": {
        "colab": {
          "base_uri": "https://localhost:8080/"
        },
        "id": "WX9GGt_WVT6v",
        "outputId": "da47c351-f4a7-4b76-ad63-605d5848b2a8"
      },
      "source": [
        "print(\"Shape of data : \" , data.shape)\n",
        "print(\"Shape of label : \" , label.shape)"
      ],
      "execution_count": 46,
      "outputs": [
        {
          "output_type": "stream",
          "text": [
            "Shape of data :  (372450, 784)\n",
            "Shape of label :  (372450,)\n"
          ],
          "name": "stdout"
        }
      ]
    },
    {
      "cell_type": "code",
      "metadata": {
        "id": "yq65Mc-GVZTA"
      },
      "source": [
        "X_train = X_train.reshape((X_train.shape[0] , 28 , 28 , 1))\n",
        "X_test = X_test.reshape((X_test.shape[0] , 28 , 28 , 1))"
      ],
      "execution_count": 56,
      "outputs": []
    },
    {
      "cell_type": "code",
      "metadata": {
        "id": "IvweYRlM-7uh"
      },
      "source": [
        "y_train = tf.keras.utils.to_categorical(y_train)\n",
        "y_test = tf.keras.utils.to_categorical(y_test)"
      ],
      "execution_count": 60,
      "outputs": []
    },
    {
      "cell_type": "code",
      "metadata": {
        "colab": {
          "base_uri": "https://localhost:8080/"
        },
        "id": "5Q-K84gUYe8_",
        "outputId": "53b3713a-e61c-4bb8-c7bb-807f2435005e"
      },
      "source": [
        "print(\"Shape of X_train : \",X_train.shape)\n",
        "print(\"Shape of y_train : \",y_train.shape)\n",
        "print(\"Shape of X_test  : \",X_test.shape)\n",
        "print(\"Shape of y_test  : \",y_test.shape)"
      ],
      "execution_count": 61,
      "outputs": [
        {
          "output_type": "stream",
          "text": [
            "Shape of X_train :  (297960, 28, 28, 1)\n",
            "Shape of y_train :  (297960, 26)\n",
            "Shape of X_test  :  (74490, 28, 28, 1)\n",
            "Shape of y_test  :  (74490, 26)\n"
          ],
          "name": "stdout"
        }
      ]
    },
    {
      "cell_type": "code",
      "metadata": {
        "id": "b_Bhy9LWV1B9"
      },
      "source": [
        "def get_base_model():\n",
        "    #input = tf.keras.layers.Input(shape = (28,28,1))\n",
        "    #x = tf.keras.layers.Dense(64 , activation=tf.nn.relu)(input)\n",
        "    #x = tf.keras.layers.MaxPool2D((2,2))(x)\n",
        "    #x = tf.keras.layers.Dense(128 , activation=tf.nn.relu)(x)\n",
        "    #x = tf.keras.layers.MaxPool2D((2,2))(x)\n",
        "\n",
        "    #x = tf.keras.layers.Flatten()(x)\n",
        "    #x = tf.keras.layers.Dense(256 , activation=tf.nn.relu)(x)\n",
        "    #x = tf.keras.layers.Dense(26 , activation=tf.nn.sigmoid)(x)\n",
        "\n",
        "    #model = tf.keras.Model(inputs = input ,outputs = x)\n",
        "    #model.compile(optimizer = tf.keras.optimizers.RMSprop(learning_rate=0.0001) ,\n",
        "                  #loss = tf.keras.losses.categorical_crossentropy , metrics = ['acc'])\n",
        "    #return model\n",
        "\n",
        "    cls = Sequential()\n",
        "    cls.add(Conv2D(32, (5, 5), input_shape=(28, 28, 1), activation='relu'))\n",
        "    cls.add(MaxPooling2D(pool_size=(2, 2)))\n",
        "    cls.add(Dropout(0.3))\n",
        "    cls.add(Flatten())\n",
        "    cls.add(Dense(128, activation='relu'))\n",
        "    cls.add(Dense(26, activation='softmax'))\n",
        "\n",
        "    cls.compile(loss='categorical_crossentropy', optimizer='adam', metrics=['accuracy'])\n",
        "    return cls"
      ],
      "execution_count": 66,
      "outputs": []
    },
    {
      "cell_type": "code",
      "metadata": {
        "colab": {
          "base_uri": "https://localhost:8080/"
        },
        "id": "dJaJfvKiYfAx",
        "outputId": "c6a58952-fef4-466a-d257-8cd9bf4d275a"
      },
      "source": [
        "model1 = get_base_model()\n",
        "#model.summary()\n",
        "history_model1 = model1.fit(X_train , y_train , batch_size=256 , epochs=20 , validation_data=(X_test , y_test))"
      ],
      "execution_count": 67,
      "outputs": [
        {
          "output_type": "stream",
          "text": [
            "Epoch 1/20\n",
            "1164/1164 [==============================] - 6s 5ms/step - loss: 0.2378 - accuracy: 0.9344 - val_loss: 0.0920 - val_accuracy: 0.9753\n",
            "Epoch 2/20\n",
            "1164/1164 [==============================] - 6s 5ms/step - loss: 0.0894 - accuracy: 0.9747 - val_loss: 0.0686 - val_accuracy: 0.9814\n",
            "Epoch 3/20\n",
            "1164/1164 [==============================] - 6s 5ms/step - loss: 0.0670 - accuracy: 0.9810 - val_loss: 0.0582 - val_accuracy: 0.9833\n",
            "Epoch 4/20\n",
            "1164/1164 [==============================] - 6s 5ms/step - loss: 0.0533 - accuracy: 0.9847 - val_loss: 0.0483 - val_accuracy: 0.9867\n",
            "Epoch 5/20\n",
            "1164/1164 [==============================] - 6s 5ms/step - loss: 0.0444 - accuracy: 0.9868 - val_loss: 0.0436 - val_accuracy: 0.9878\n",
            "Epoch 6/20\n",
            "1164/1164 [==============================] - 6s 5ms/step - loss: 0.0377 - accuracy: 0.9886 - val_loss: 0.0385 - val_accuracy: 0.9896\n",
            "Epoch 7/20\n",
            "1164/1164 [==============================] - 6s 5ms/step - loss: 0.0326 - accuracy: 0.9898 - val_loss: 0.0367 - val_accuracy: 0.9902\n",
            "Epoch 8/20\n",
            "1164/1164 [==============================] - 6s 5ms/step - loss: 0.0276 - accuracy: 0.9914 - val_loss: 0.0340 - val_accuracy: 0.9904\n",
            "Epoch 9/20\n",
            "1164/1164 [==============================] - 6s 5ms/step - loss: 0.0238 - accuracy: 0.9921 - val_loss: 0.0326 - val_accuracy: 0.9914\n",
            "Epoch 10/20\n",
            "1164/1164 [==============================] - 6s 5ms/step - loss: 0.0211 - accuracy: 0.9931 - val_loss: 0.0305 - val_accuracy: 0.9921\n",
            "Epoch 11/20\n",
            "1164/1164 [==============================] - 6s 5ms/step - loss: 0.0194 - accuracy: 0.9936 - val_loss: 0.0289 - val_accuracy: 0.9928\n",
            "Epoch 12/20\n",
            "1164/1164 [==============================] - 6s 5ms/step - loss: 0.0169 - accuracy: 0.9944 - val_loss: 0.0291 - val_accuracy: 0.9931\n",
            "Epoch 13/20\n",
            "1164/1164 [==============================] - 6s 5ms/step - loss: 0.0152 - accuracy: 0.9949 - val_loss: 0.0285 - val_accuracy: 0.9937\n",
            "Epoch 14/20\n",
            "1164/1164 [==============================] - 6s 5ms/step - loss: 0.0148 - accuracy: 0.9949 - val_loss: 0.0295 - val_accuracy: 0.9932\n",
            "Epoch 15/20\n",
            "1164/1164 [==============================] - 6s 5ms/step - loss: 0.0131 - accuracy: 0.9955 - val_loss: 0.0288 - val_accuracy: 0.9937\n",
            "Epoch 16/20\n",
            "1164/1164 [==============================] - 6s 5ms/step - loss: 0.0123 - accuracy: 0.9957 - val_loss: 0.0298 - val_accuracy: 0.9937\n",
            "Epoch 17/20\n",
            "1164/1164 [==============================] - 6s 5ms/step - loss: 0.0113 - accuracy: 0.9960 - val_loss: 0.0262 - val_accuracy: 0.9947\n",
            "Epoch 18/20\n",
            "1164/1164 [==============================] - 6s 5ms/step - loss: 0.0114 - accuracy: 0.9961 - val_loss: 0.0279 - val_accuracy: 0.9943\n",
            "Epoch 19/20\n",
            "1164/1164 [==============================] - 6s 5ms/step - loss: 0.0103 - accuracy: 0.9964 - val_loss: 0.0287 - val_accuracy: 0.9945\n",
            "Epoch 20/20\n",
            "1164/1164 [==============================] - 6s 5ms/step - loss: 0.0102 - accuracy: 0.9965 - val_loss: 0.0280 - val_accuracy: 0.9945\n"
          ],
          "name": "stdout"
        }
      ]
    },
    {
      "cell_type": "code",
      "metadata": {
        "id": "U89sRM6fYfHB",
        "colab": {
          "base_uri": "https://localhost:8080/"
        },
        "outputId": "7eeda2fc-492d-4e7d-e8ba-67d1e3541dbf"
      },
      "source": [
        "!pip install tensorflowjs\n",
        "import tensorflowjs as tfjs"
      ],
      "execution_count": 69,
      "outputs": [
        {
          "output_type": "stream",
          "text": [
            "Collecting tensorflowjs\n",
            "\u001b[?25l  Downloading https://files.pythonhosted.org/packages/e8/c8/c52e21c49b3baf0845e395241046a993e244dd4b94c9827a8cd2d9b18927/tensorflowjs-2.7.0-py3-none-any.whl (62kB)\n",
            "\r\u001b[K     |█████▎                          | 10kB 29.8MB/s eta 0:00:01\r\u001b[K     |██████████▌                     | 20kB 34.6MB/s eta 0:00:01\r\u001b[K     |███████████████▊                | 30kB 23.2MB/s eta 0:00:01\r\u001b[K     |█████████████████████           | 40kB 26.3MB/s eta 0:00:01\r\u001b[K     |██████████████████████████▏     | 51kB 24.7MB/s eta 0:00:01\r\u001b[K     |███████████████████████████████▍| 61kB 26.4MB/s eta 0:00:01\r\u001b[K     |████████████████████████████████| 71kB 9.1MB/s \n",
            "\u001b[?25hRequirement already satisfied: tensorflow<3,>=2.1.0 in /usr/local/lib/python3.6/dist-packages (from tensorflowjs) (2.3.0)\n",
            "Collecting tensorflow-hub<0.10,>=0.7.0\n",
            "\u001b[?25l  Downloading https://files.pythonhosted.org/packages/ac/83/a7df82744a794107641dad1decaad017d82e25f0e1f761ac9204829eef96/tensorflow_hub-0.9.0-py2.py3-none-any.whl (103kB)\n",
            "\u001b[K     |████████████████████████████████| 112kB 22.2MB/s \n",
            "\u001b[?25hRequirement already satisfied: six<2,>=1.12.0 in /usr/local/lib/python3.6/dist-packages (from tensorflowjs) (1.15.0)\n",
            "Requirement already satisfied: h5py<3,>=2.8.0 in /usr/local/lib/python3.6/dist-packages (from tensorflowjs) (2.10.0)\n",
            "Requirement already satisfied: gast==0.3.3 in /usr/local/lib/python3.6/dist-packages (from tensorflow<3,>=2.1.0->tensorflowjs) (0.3.3)\n",
            "Requirement already satisfied: tensorboard<3,>=2.3.0 in /usr/local/lib/python3.6/dist-packages (from tensorflow<3,>=2.1.0->tensorflowjs) (2.3.0)\n",
            "Requirement already satisfied: astunparse==1.6.3 in /usr/local/lib/python3.6/dist-packages (from tensorflow<3,>=2.1.0->tensorflowjs) (1.6.3)\n",
            "Requirement already satisfied: scipy==1.4.1 in /usr/local/lib/python3.6/dist-packages (from tensorflow<3,>=2.1.0->tensorflowjs) (1.4.1)\n",
            "Requirement already satisfied: termcolor>=1.1.0 in /usr/local/lib/python3.6/dist-packages (from tensorflow<3,>=2.1.0->tensorflowjs) (1.1.0)\n",
            "Requirement already satisfied: protobuf>=3.9.2 in /usr/local/lib/python3.6/dist-packages (from tensorflow<3,>=2.1.0->tensorflowjs) (3.12.4)\n",
            "Requirement already satisfied: numpy<1.19.0,>=1.16.0 in /usr/local/lib/python3.6/dist-packages (from tensorflow<3,>=2.1.0->tensorflowjs) (1.18.5)\n",
            "Requirement already satisfied: absl-py>=0.7.0 in /usr/local/lib/python3.6/dist-packages (from tensorflow<3,>=2.1.0->tensorflowjs) (0.10.0)\n",
            "Requirement already satisfied: opt-einsum>=2.3.2 in /usr/local/lib/python3.6/dist-packages (from tensorflow<3,>=2.1.0->tensorflowjs) (3.3.0)\n",
            "Requirement already satisfied: tensorflow-estimator<2.4.0,>=2.3.0 in /usr/local/lib/python3.6/dist-packages (from tensorflow<3,>=2.1.0->tensorflowjs) (2.3.0)\n",
            "Requirement already satisfied: wrapt>=1.11.1 in /usr/local/lib/python3.6/dist-packages (from tensorflow<3,>=2.1.0->tensorflowjs) (1.12.1)\n",
            "Requirement already satisfied: wheel>=0.26 in /usr/local/lib/python3.6/dist-packages (from tensorflow<3,>=2.1.0->tensorflowjs) (0.35.1)\n",
            "Requirement already satisfied: keras-preprocessing<1.2,>=1.1.1 in /usr/local/lib/python3.6/dist-packages (from tensorflow<3,>=2.1.0->tensorflowjs) (1.1.2)\n",
            "Requirement already satisfied: grpcio>=1.8.6 in /usr/local/lib/python3.6/dist-packages (from tensorflow<3,>=2.1.0->tensorflowjs) (1.33.2)\n",
            "Requirement already satisfied: google-pasta>=0.1.8 in /usr/local/lib/python3.6/dist-packages (from tensorflow<3,>=2.1.0->tensorflowjs) (0.2.0)\n",
            "Requirement already satisfied: tensorboard-plugin-wit>=1.6.0 in /usr/local/lib/python3.6/dist-packages (from tensorboard<3,>=2.3.0->tensorflow<3,>=2.1.0->tensorflowjs) (1.7.0)\n",
            "Requirement already satisfied: werkzeug>=0.11.15 in /usr/local/lib/python3.6/dist-packages (from tensorboard<3,>=2.3.0->tensorflow<3,>=2.1.0->tensorflowjs) (1.0.1)\n",
            "Requirement already satisfied: markdown>=2.6.8 in /usr/local/lib/python3.6/dist-packages (from tensorboard<3,>=2.3.0->tensorflow<3,>=2.1.0->tensorflowjs) (3.3.3)\n",
            "Requirement already satisfied: google-auth-oauthlib<0.5,>=0.4.1 in /usr/local/lib/python3.6/dist-packages (from tensorboard<3,>=2.3.0->tensorflow<3,>=2.1.0->tensorflowjs) (0.4.2)\n",
            "Requirement already satisfied: requests<3,>=2.21.0 in /usr/local/lib/python3.6/dist-packages (from tensorboard<3,>=2.3.0->tensorflow<3,>=2.1.0->tensorflowjs) (2.23.0)\n",
            "Requirement already satisfied: setuptools>=41.0.0 in /usr/local/lib/python3.6/dist-packages (from tensorboard<3,>=2.3.0->tensorflow<3,>=2.1.0->tensorflowjs) (50.3.2)\n",
            "Requirement already satisfied: google-auth<2,>=1.6.3 in /usr/local/lib/python3.6/dist-packages (from tensorboard<3,>=2.3.0->tensorflow<3,>=2.1.0->tensorflowjs) (1.17.2)\n",
            "Requirement already satisfied: importlib-metadata; python_version < \"3.8\" in /usr/local/lib/python3.6/dist-packages (from markdown>=2.6.8->tensorboard<3,>=2.3.0->tensorflow<3,>=2.1.0->tensorflowjs) (2.0.0)\n",
            "Requirement already satisfied: requests-oauthlib>=0.7.0 in /usr/local/lib/python3.6/dist-packages (from google-auth-oauthlib<0.5,>=0.4.1->tensorboard<3,>=2.3.0->tensorflow<3,>=2.1.0->tensorflowjs) (1.3.0)\n",
            "Requirement already satisfied: idna<3,>=2.5 in /usr/local/lib/python3.6/dist-packages (from requests<3,>=2.21.0->tensorboard<3,>=2.3.0->tensorflow<3,>=2.1.0->tensorflowjs) (2.10)\n",
            "Requirement already satisfied: chardet<4,>=3.0.2 in /usr/local/lib/python3.6/dist-packages (from requests<3,>=2.21.0->tensorboard<3,>=2.3.0->tensorflow<3,>=2.1.0->tensorflowjs) (3.0.4)\n",
            "Requirement already satisfied: urllib3!=1.25.0,!=1.25.1,<1.26,>=1.21.1 in /usr/local/lib/python3.6/dist-packages (from requests<3,>=2.21.0->tensorboard<3,>=2.3.0->tensorflow<3,>=2.1.0->tensorflowjs) (1.24.3)\n",
            "Requirement already satisfied: certifi>=2017.4.17 in /usr/local/lib/python3.6/dist-packages (from requests<3,>=2.21.0->tensorboard<3,>=2.3.0->tensorflow<3,>=2.1.0->tensorflowjs) (2020.11.8)\n",
            "Requirement already satisfied: pyasn1-modules>=0.2.1 in /usr/local/lib/python3.6/dist-packages (from google-auth<2,>=1.6.3->tensorboard<3,>=2.3.0->tensorflow<3,>=2.1.0->tensorflowjs) (0.2.8)\n",
            "Requirement already satisfied: cachetools<5.0,>=2.0.0 in /usr/local/lib/python3.6/dist-packages (from google-auth<2,>=1.6.3->tensorboard<3,>=2.3.0->tensorflow<3,>=2.1.0->tensorflowjs) (4.1.1)\n",
            "Requirement already satisfied: rsa<5,>=3.1.4; python_version >= \"3\" in /usr/local/lib/python3.6/dist-packages (from google-auth<2,>=1.6.3->tensorboard<3,>=2.3.0->tensorflow<3,>=2.1.0->tensorflowjs) (4.6)\n",
            "Requirement already satisfied: zipp>=0.5 in /usr/local/lib/python3.6/dist-packages (from importlib-metadata; python_version < \"3.8\"->markdown>=2.6.8->tensorboard<3,>=2.3.0->tensorflow<3,>=2.1.0->tensorflowjs) (3.4.0)\n",
            "Requirement already satisfied: oauthlib>=3.0.0 in /usr/local/lib/python3.6/dist-packages (from requests-oauthlib>=0.7.0->google-auth-oauthlib<0.5,>=0.4.1->tensorboard<3,>=2.3.0->tensorflow<3,>=2.1.0->tensorflowjs) (3.1.0)\n",
            "Requirement already satisfied: pyasn1<0.5.0,>=0.4.6 in /usr/local/lib/python3.6/dist-packages (from pyasn1-modules>=0.2.1->google-auth<2,>=1.6.3->tensorboard<3,>=2.3.0->tensorflow<3,>=2.1.0->tensorflowjs) (0.4.8)\n",
            "Installing collected packages: tensorflow-hub, tensorflowjs\n",
            "  Found existing installation: tensorflow-hub 0.10.0\n",
            "    Uninstalling tensorflow-hub-0.10.0:\n",
            "      Successfully uninstalled tensorflow-hub-0.10.0\n",
            "Successfully installed tensorflow-hub-0.9.0 tensorflowjs-2.7.0\n"
          ],
          "name": "stdout"
        }
      ]
    },
    {
      "cell_type": "code",
      "metadata": {
        "colab": {
          "base_uri": "https://localhost:8080/"
        },
        "id": "Wzwzppx0ie5H",
        "outputId": "42f585dc-d589-4b34-f91a-bfd584405c17"
      },
      "source": [
        "tfjs.converters.save_keras_model(model1 , 'model')"
      ],
      "execution_count": 70,
      "outputs": [
        {
          "output_type": "stream",
          "text": [
            "/usr/local/lib/python3.6/dist-packages/tensorflowjs/converters/keras_h5_conversion.py:123: H5pyDeprecationWarning: The default file mode will change to 'r' (read-only) in h5py 3.0. To suppress this warning, pass the mode you need to h5py.File(), or set the global default h5.get_config().default_file_mode, or set the environment variable H5PY_DEFAULT_READONLY=1. Available modes are: 'r', 'r+', 'w', 'w-'/'x', 'a'. See the docs for details.\n",
            "  return h5py.File(h5file)\n"
          ],
          "name": "stderr"
        }
      ]
    },
    {
      "cell_type": "code",
      "metadata": {
        "id": "FiJMc5jgijs9"
      },
      "source": [
        ""
      ],
      "execution_count": null,
      "outputs": []
    }
  ]
}