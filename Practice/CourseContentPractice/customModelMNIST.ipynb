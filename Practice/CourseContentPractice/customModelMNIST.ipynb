{
  "nbformat": 4,
  "nbformat_minor": 0,
  "metadata": {
    "colab": {
      "name": "customModel.ipynb",
      "provenance": [],
      "collapsed_sections": []
    },
    "kernelspec": {
      "name": "python3",
      "display_name": "Python 3"
    },
    "accelerator": "GPU"
  },
  "cells": [
    {
      "cell_type": "code",
      "metadata": {
        "id": "yZlp9fN3v-mv",
        "colab": {
          "base_uri": "https://localhost:8080/"
        },
        "outputId": "bcd04ce0-6872-461e-97da-a16408d213f0"
      },
      "source": [
        "import tensorflow as tf\n",
        "from tensorflow.keras.datasets import mnist\n",
        "from tensorflow.keras.layers import Input , Dense , Conv2D , Flatten , MaxPool2D\n",
        "from tensorflow.keras import Model\n",
        "from tensorflow.nn import softmax , relu\n",
        "from tensorflow.keras.utils import to_categorical\n",
        "\n",
        "print(\"Verion of tensorflow is : \",tf.__version__)"
      ],
      "execution_count": 1,
      "outputs": [
        {
          "output_type": "stream",
          "text": [
            "Verion of tensorflow is :  2.3.0\n"
          ],
          "name": "stdout"
        }
      ]
    },
    {
      "cell_type": "code",
      "metadata": {
        "id": "WJiBXVlpweo8"
      },
      "source": [
        "(x_train, y_train), (x_test, y_test) = mnist.load_data()\n",
        "x_train, x_test = x_train / 255.0, x_test / 255.0\n",
        "\n",
        "# Add a channels dimension\n",
        "x_train = x_train[..., tf.newaxis].astype(\"float32\")\n",
        "x_test = x_test[..., tf.newaxis].astype(\"float32\")\n",
        "\n",
        "y_train = to_categorical(y_train)\n",
        "y_test  = to_categorical(y_test)"
      ],
      "execution_count": 16,
      "outputs": []
    },
    {
      "cell_type": "code",
      "metadata": {
        "colab": {
          "base_uri": "https://localhost:8080/"
        },
        "id": "ctycWNBRtVwH",
        "outputId": "333054d7-a85e-4d7a-b012-4feeb12b71b7"
      },
      "source": [
        "print(\"Shape of x_train : \",x_train.shape)\n",
        "print(\"Shape of y_train : \",y_train.shape)\n",
        "print(\"Shape of x_test : \",x_test.shape)\n",
        "print(\"Shape of y_test : \",y_test.shape)"
      ],
      "execution_count": 17,
      "outputs": [
        {
          "output_type": "stream",
          "text": [
            "Shape of x_train :  (60000, 28, 28, 1)\n",
            "Shape of y_train :  (60000, 10)\n",
            "Shape of x_test :  (10000, 28, 28, 1)\n",
            "Shape of y_test :  (10000, 10)\n"
          ],
          "name": "stdout"
        }
      ]
    },
    {
      "cell_type": "code",
      "metadata": {
        "id": "Qer1GEF8xeEp"
      },
      "source": [
        "class MyOwnModel(Model):\n",
        "    def __init__(self):\n",
        "        super(MyOwnModel , self).__init__()\n",
        "        self.conv = Conv2D(32 , 3 , name=\"conv1\")\n",
        "        self.pool = MaxPool2D((2,2))\n",
        "        self.flatten = Flatten()\n",
        "        self.dens1 = Dense(128 , activation=relu , name=\"dense1\")\n",
        "        self.dens2 = Dense(10 , activation=softmax , name=\"output\")\n",
        "    def call(self , x):\n",
        "        x = self.conv(x)\n",
        "        x = self.pool(x)\n",
        "        x = self.flatten(x)\n",
        "        x = self.dens1(x)\n",
        "        return self.dens2(x)\n",
        "\n",
        "model = MyOwnModel()"
      ],
      "execution_count": 18,
      "outputs": []
    },
    {
      "cell_type": "code",
      "metadata": {
        "id": "kuwCFwks6Ssi"
      },
      "source": [
        "loss_obj = tf.keras.losses.SparseCategoricalCrossentropy()\n",
        "optimizer = tf.keras.optimizers.Adam()"
      ],
      "execution_count": 5,
      "outputs": []
    },
    {
      "cell_type": "code",
      "metadata": {
        "id": "EijARwq40T8D"
      },
      "source": [
        ""
      ],
      "execution_count": 68,
      "outputs": []
    },
    {
      "cell_type": "code",
      "metadata": {
        "id": "4uawOIqmsQ9L"
      },
      "source": [
        "train_loss = tf.keras.metrics.Mean(name='train_loss')\n",
        "train_accuracy = tf.keras.metrics.SparseCategoricalAccuracy(name='train_accuracy')\n",
        "\n",
        "test_loss = tf.keras.metrics.Mean(name='test_loss')\n",
        "test_accuracy = tf.keras.metrics.SparseCategoricalAccuracy(name='test_accuracy')\n",
        "\n",
        "@tf.function\n",
        "def optimizer_for_single_batch(model , data , label):\n",
        "    with tf.GradientTape() as tape:\n",
        "        pred_label = model(data)\n",
        "        loss = loss_obj(label , pred_label)\n",
        "    grad = tape.gradient(loss , model.trainable_variables)\n",
        "    optimizer.apply_gradients(zip(grad , model.trainable_variables))\n",
        "    \n",
        "    train_loss(loss)\n",
        "    train_accuracy(label , pred_label)\n",
        "\n",
        "@tf.function\n",
        "def test_loss_func(model , data , label):\n",
        "    pred = model(data)\n",
        "    loss = loss_obj(label , pred)\n",
        "\n",
        "    test_loss(loss)\n",
        "    test_accuracy(label , pred)"
      ],
      "execution_count": 75,
      "outputs": []
    },
    {
      "cell_type": "code",
      "metadata": {
        "colab": {
          "base_uri": "https://localhost:8080/"
        },
        "id": "Bf_6-OzWsoAh",
        "outputId": "f7b1db0f-d079-4b33-9ed7-05bdd2a06913"
      },
      "source": [
        "epochs = 5\n",
        "model = MyOwnModel()\n",
        "for epoch in range(epochs):\n",
        "    \n",
        "    train_loss.reset_states()\n",
        "    train_accuracy.reset_states()\n",
        "    test_loss.reset_states()\n",
        "    test_accuracy.reset_states()\n",
        "\n",
        "    for (data , label) in train_ds:\n",
        "        optimizer_for_single_batch(model , data, label)\n",
        "    for (data , label) in test_ds:\n",
        "        test_loss_func(model , data , label)\n",
        "    print(\n",
        "        f'Epoch {epoch + 1}, '\n",
        "        f'Loss: {train_loss.result()}, '\n",
        "        f'Accuracy: {train_accuracy.result() * 100}, '\n",
        "        f'Test Loss: {test_loss.result()}, '\n",
        "        f'Test Accuracy: {test_accuracy.result() * 100}'\n",
        "    )"
      ],
      "execution_count": 77,
      "outputs": [
        {
          "output_type": "stream",
          "text": [
            "Epoch 1, Loss: 0.1310122013092041, Accuracy: 96.10333251953125, Test Loss: 0.07420618832111359, Test Accuracy: 97.5999984741211\n",
            "Epoch 2, Loss: 0.04516156017780304, Accuracy: 98.5816650390625, Test Loss: 0.05397367104887962, Test Accuracy: 98.40999603271484\n",
            "Epoch 3, Loss: 0.026077941060066223, Accuracy: 99.19999694824219, Test Loss: 0.05923439934849739, Test Accuracy: 98.20999908447266\n",
            "Epoch 4, Loss: 0.018007274717092514, Accuracy: 99.42666625976562, Test Loss: 0.06015488877892494, Test Accuracy: 98.25\n",
            "Epoch 5, Loss: 0.01268906518816948, Accuracy: 99.56832885742188, Test Loss: 0.06689789146184921, Test Accuracy: 98.18000030517578\n"
          ],
          "name": "stdout"
        }
      ]
    }
  ]
}