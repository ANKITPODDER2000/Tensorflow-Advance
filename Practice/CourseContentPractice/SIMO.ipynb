{
  "nbformat": 4,
  "nbformat_minor": 0,
  "metadata": {
    "colab": {
      "name": "SIMO.ipynb",
      "provenance": [],
      "collapsed_sections": []
    },
    "kernelspec": {
      "name": "python3",
      "display_name": "Python 3"
    },
    "accelerator": "GPU"
  },
  "cells": [
    {
      "cell_type": "code",
      "metadata": {
        "id": "8PIGRRxYt3VA"
      },
      "source": [
        "import tensorflow as tf\n",
        "import numpy as np\n",
        "import matplotlib.pyplot as plt\n",
        "%matplotlib inline\n",
        "import seaborn as sns\n",
        "from tensorflow.keras.layers import Input , Dense\n",
        "from tensorflow.keras import Model\n",
        "from tensorflow.keras.optimizers import SGD\n",
        "sns.set_style('darkgrid')\n",
        "from tensorflow.python.keras.utils.vis_utils import plot_model\n",
        "print(\"Version of tensorflow is : \", tf.__version__)"
      ],
      "execution_count": null,
      "outputs": []
    },
    {
      "cell_type": "code",
      "metadata": {
        "id": "zfXu2c21u4gH"
      },
      "source": [
        "X = np.arange(-100 , 101 , 1)\n",
        "\n",
        "Y1 = X * 100 + np.random.normal(size=(X.shape[0]))\n",
        "Y2 = X *   5 + np.random.normal(size=(X.shape[0]))"
      ],
      "execution_count": 10,
      "outputs": []
    },
    {
      "cell_type": "code",
      "metadata": {
        "colab": {
          "base_uri": "https://localhost:8080/"
        },
        "id": "_qcnJrBCvTRU",
        "outputId": "663a4276-b9e7-4b79-ad2c-628b0f43a9cd"
      },
      "source": [
        "print(\"Shape of X : \",X.shape)\n",
        "print(\"Shape of Y1 : \",Y1.shape)\n",
        "print(\"Shape of Y2 : \",Y2.shape)"
      ],
      "execution_count": 6,
      "outputs": [
        {
          "output_type": "stream",
          "text": [
            "Shape of X :  (201,)\n",
            "Shape of Y1 :  (201,)\n",
            "Shape of Y2 :  (201,)\n"
          ],
          "name": "stdout"
        }
      ]
    },
    {
      "cell_type": "code",
      "metadata": {
        "id": "Ba_SOLkEweUW"
      },
      "source": [
        "ind = np.arange(X.shape[0])\n",
        "np.random.shuffle(ind)"
      ],
      "execution_count": 13,
      "outputs": []
    },
    {
      "cell_type": "code",
      "metadata": {
        "id": "uVD0e8dYwplz"
      },
      "source": [
        "mean_X = X.mean()\n",
        "X = X - mean_X\n",
        "std_X = X.std()\n",
        "X = X / std_X\n",
        "\n",
        "mean_Y1 = Y1.mean()\n",
        "Y1 = Y1 - mean_Y1\n",
        "std_Y1 = Y1.std()\n",
        "Y1 = Y1 / std_Y1\n",
        "\n",
        "mean_Y2 = Y2.mean()\n",
        "Y2 = Y2 - mean_Y2\n",
        "std_Y2 = Y2.std()\n",
        "Y2 = Y2 / std_Y2"
      ],
      "execution_count": 17,
      "outputs": []
    },
    {
      "cell_type": "code",
      "metadata": {
        "colab": {
          "base_uri": "https://localhost:8080/",
          "height": 391
        },
        "id": "MOYTYHFHw_pE",
        "outputId": "feb1316a-56a9-47bc-ea13-83942dd1c8a6"
      },
      "source": [
        "_ , ax = plt.subplots(1 , 2 , figsize = (20,6))\n",
        "ax[0].plot(X[:50] , Y1[:50] , 'o' , label=\"X vs Y1\")\n",
        "ax[1].plot(X[:50] , Y2[:50] , 'o' , label=\"X vs Y2\")\n",
        "ax[0].legend()\n",
        "ax[1].legend()"
      ],
      "execution_count": 20,
      "outputs": [
        {
          "output_type": "execute_result",
          "data": {
            "text/plain": [
              "<matplotlib.legend.Legend at 0x7f8ef6e7cf60>"
            ]
          },
          "metadata": {
            "tags": []
          },
          "execution_count": 20
        },
        {
          "output_type": "display_data",
          "data": {
            "image/png": "[encoded data removed]",
            "text/plain": [
              "<Figure size 1440x432 with 2 Axes>"
            ]
          },
          "metadata": {
            "tags": [],
            "needs_background": "light"
          }
        }
      ]
    },
    {
      "cell_type": "code",
      "metadata": {
        "id": "g4tMUx5fyGjD"
      },
      "source": [
        "def get_base_model():\n",
        "    input = Input(shape=[1] , name=\"input_layer\")\n",
        "    layer1 = Dense(1 , name=\"layer_for_y1\")(input)\n",
        "    layer2 = Dense(1 , name=\"layer_for_y2\")(input)\n",
        "\n",
        "    model = Model(inputs = input , outputs = [layer1 , layer2])\n",
        "    model.compile(optimizer = SGD() ,\n",
        "                  loss = {\n",
        "                      \"layer_for_y1\" : tf.keras.losses.mean_squared_error,\n",
        "                      \"layer_for_y2\" : tf.keras.losses.mean_squared_error\n",
        "                  },\n",
        "                  metrics = {\n",
        "                      \"layer_for_y1\" : tf.keras.losses.mean_absolute_error,\n",
        "                      \"layer_for_y2\" : tf.keras.losses.mean_absolute_error\n",
        "                  }\n",
        "                )\n",
        "    return model"
      ],
      "execution_count": 23,
      "outputs": []
    },
    {
      "cell_type": "code",
      "metadata": {
        "colab": {
          "base_uri": "https://localhost:8080/"
        },
        "id": "170gSNVuzm84",
        "outputId": "89f8f406-55c6-4eb9-af52-1f82fe21b493"
      },
      "source": [
        "model = get_base_model()\n",
        "model.summary()"
      ],
      "execution_count": 24,
      "outputs": [
        {
          "output_type": "stream",
          "text": [
            "Model: \"functional_1\"\n",
            "__________________________________________________________________________________________________\n",
            "Layer (type)                    Output Shape         Param #     Connected to                     \n",
            "==================================================================================================\n",
            "input_layer (InputLayer)        [(None, 1)]          0                                            \n",
            "__________________________________________________________________________________________________\n",
            "layer_for_y1 (Dense)            (None, 1)            2           input_layer[0][0]                \n",
            "__________________________________________________________________________________________________\n",
            "layer_for_y2 (Dense)            (None, 1)            2           input_layer[0][0]                \n",
            "==================================================================================================\n",
            "Total params: 4\n",
            "Trainable params: 4\n",
            "Non-trainable params: 0\n",
            "__________________________________________________________________________________________________\n"
          ],
          "name": "stdout"
        }
      ]
    },
    {
      "cell_type": "code",
      "metadata": {
        "colab": {
          "base_uri": "https://localhost:8080/",
          "height": 201
        },
        "id": "sNBYUOg1zuwE",
        "outputId": "fe6ea9d4-989c-40e4-e675-df4428d9e86d"
      },
      "source": [
        "plot_model(model , to_file=\"my_model.png\" , show_shapes=True , show_layer_names=True)"
      ],
      "execution_count": 27,
      "outputs": [
        {
          "output_type": "execute_result",
          "data": {
            "image/png": "[encoded data removed]",
            "text/plain": [
              "<IPython.core.display.Image object>"
            ]
          },
          "metadata": {
            "tags": []
          },
          "execution_count": 27
        }
      ]
    },
    {
      "cell_type": "code",
      "metadata": {
        "id": "0nTb3EUF0JYb"
      },
      "source": [
        "X_train  = X[ind[:150]]\n",
        "Y1_train = Y1[ind[:150]]\n",
        "Y2_train = Y2[ind[:150]]\n",
        "\n",
        "X_test   = X[ind[150:]]\n",
        "Y1_test  = Y1[ind[150:]]\n",
        "Y2_test  = Y2[ind[150:]]"
      ],
      "execution_count": 29,
      "outputs": []
    },
    {
      "cell_type": "code",
      "metadata": {
        "colab": {
          "base_uri": "https://localhost:8080/"
        },
        "id": "BUKE8STQ0V_T",
        "outputId": "ddd18b96-25df-456f-9651-7de24fb60453"
      },
      "source": [
        "print(\"Shape of X_train : \",X_train.shape)\n",
        "print(\"Shape of Y1_train : \",Y1_train.shape)\n",
        "print(\"Shape of Y2_train : \",Y2_train.shape)\n",
        "print(\"-------------------------------------------\")\n",
        "print(\"Shape of X_test : \",X_test.shape)\n",
        "print(\"Shape of Y1_test : \",Y1_test.shape)\n",
        "print(\"Shape of Y2_test : \",Y2_test.shape)"
      ],
      "execution_count": 31,
      "outputs": [
        {
          "output_type": "stream",
          "text": [
            "Shape of X_train :  (150,)\n",
            "Shape of Y1_train :  (150,)\n",
            "Shape of Y2_train :  (150,)\n",
            "-------------------------------------------\n",
            "Shape of X_test :  (51,)\n",
            "Shape of Y1_test :  (51,)\n",
            "Shape of Y2_test :  (51,)\n"
          ],
          "name": "stdout"
        }
      ]
    },
    {
      "cell_type": "code",
      "metadata": {
        "colab": {
          "base_uri": "https://localhost:8080/"
        },
        "id": "PKm-CZFc03xr",
        "outputId": "2f59aec4-a512-4b94-9d79-41552d8c0366"
      },
      "source": [
        "his = model.fit(X_train ,\n",
        "                [Y1_train , Y2_train] ,\n",
        "                batch_size=32 ,\n",
        "                epochs=500 ,\n",
        "                validation_batch_size=32 , \n",
        "                validation_data=(X_test , [Y1_test , Y2_test]))"
      ],
      "execution_count": 32,
      "outputs": [
        {
          "output_type": "stream",
          "text": [
            "5/5 [==============================] - 0s 8ms/step - loss: 1.1430e-05 - layer_for_y1_loss: 2.6236e-08 - layer_for_y2_loss: 1.1404e-05 - layer_for_y1_mean_absolute_error: 1.2598e-04 - layer_for_y2_mean_absolute_error: 0.0027 - val_loss: 9.0175e-06 - val_layer_for_y1_loss: 3.2276e-08 - val_layer_for_y2_loss: 8.9852e-06 - val_layer_for_y1_mean_absolute_error: 1.4160e-04 - val_layer_for_y2_mean_absolute_error: 0.0025\n",
            "Epoch 478/500\n",
            "5/5 [==============================] - 0s 7ms/step - loss: 1.1435e-05 - layer_for_y1_loss: 2.6211e-08 - layer_for_y2_loss: 1.1409e-05 - layer_for_y1_mean_absolute_error: 1.2593e-04 - layer_for_y2_mean_absolute_error: 0.0027 - val_loss: 9.0165e-06 - val_layer_for_y1_loss: 3.2296e-08 - val_layer_for_y2_loss: 8.9842e-06 - val_layer_for_y1_mean_absolute_error: 1.4162e-04 - val_layer_for_y2_mean_absolute_error: 0.0025\n",
            "Epoch 479/500\n",
            "5/5 [==============================] - 0s 7ms/step - loss: 1.1426e-05 - layer_for_y1_loss: 2.6242e-08 - layer_for_y2_loss: 1.1400e-05 - layer_for_y1_mean_absolute_error: 1.2597e-04 - layer_for_y2_mean_absolute_error: 0.0027 - val_loss: 9.0187e-06 - val_layer_for_y1_loss: 3.2303e-08 - val_layer_for_y2_loss: 8.9864e-06 - val_layer_for_y1_mean_absolute_error: 1.4161e-04 - val_layer_for_y2_mean_absolute_error: 0.0025\n",
            "Epoch 480/500\n",
            "5/5 [==============================] - 0s 8ms/step - loss: 1.1427e-05 - layer_for_y1_loss: 2.6216e-08 - layer_for_y2_loss: 1.1400e-05 - layer_for_y1_mean_absolute_error: 1.2592e-04 - layer_for_y2_mean_absolute_error: 0.0027 - val_loss: 9.0092e-06 - val_layer_for_y1_loss: 3.2294e-08 - val_layer_for_y2_loss: 8.9769e-06 - val_layer_for_y1_mean_absolute_error: 1.4160e-04 - val_layer_for_y2_mean_absolute_error: 0.0025\n",
            "Epoch 481/500\n",
            "5/5 [==============================] - 0s 9ms/step - loss: 1.1424e-05 - layer_for_y1_loss: 2.6207e-08 - layer_for_y2_loss: 1.1398e-05 - layer_for_y1_mean_absolute_error: 1.2593e-04 - layer_for_y2_mean_absolute_error: 0.0027 - val_loss: 9.0049e-06 - val_layer_for_y1_loss: 3.2309e-08 - val_layer_for_y2_loss: 8.9726e-06 - val_layer_for_y1_mean_absolute_error: 1.4160e-04 - val_layer_for_y2_mean_absolute_error: 0.0025\n",
            "Epoch 482/500\n",
            "5/5 [==============================] - 0s 8ms/step - loss: 1.1425e-05 - layer_for_y1_loss: 2.6220e-08 - layer_for_y2_loss: 1.1399e-05 - layer_for_y1_mean_absolute_error: 1.2593e-04 - layer_for_y2_mean_absolute_error: 0.0027 - val_loss: 9.0090e-06 - val_layer_for_y1_loss: 3.2309e-08 - val_layer_for_y2_loss: 8.9767e-06 - val_layer_for_y1_mean_absolute_error: 1.4158e-04 - val_layer_for_y2_mean_absolute_error: 0.0025\n",
            "Epoch 483/500\n",
            "5/5 [==============================] - 0s 7ms/step - loss: 1.1429e-05 - layer_for_y1_loss: 2.6214e-08 - layer_for_y2_loss: 1.1402e-05 - layer_for_y1_mean_absolute_error: 1.2592e-04 - layer_for_y2_mean_absolute_error: 0.0027 - val_loss: 9.0091e-06 - val_layer_for_y1_loss: 3.2320e-08 - val_layer_for_y2_loss: 8.9767e-06 - val_layer_for_y1_mean_absolute_error: 1.4157e-04 - val_layer_for_y2_mean_absolute_error: 0.0025\n",
            "Epoch 484/500\n",
            "5/5 [==============================] - 0s 11ms/step - loss: 1.1430e-05 - layer_for_y1_loss: 2.6231e-08 - layer_for_y2_loss: 1.1403e-05 - layer_for_y1_mean_absolute_error: 1.2594e-04 - layer_for_y2_mean_absolute_error: 0.0027 - val_loss: 9.0157e-06 - val_layer_for_y1_loss: 3.2305e-08 - val_layer_for_y2_loss: 8.9834e-06 - val_layer_for_y1_mean_absolute_error: 1.4158e-04 - val_layer_for_y2_mean_absolute_error: 0.0025\n",
            "Epoch 485/500\n",
            "5/5 [==============================] - 0s 8ms/step - loss: 1.1424e-05 - layer_for_y1_loss: 2.6222e-08 - layer_for_y2_loss: 1.1398e-05 - layer_for_y1_mean_absolute_error: 1.2596e-04 - layer_for_y2_mean_absolute_error: 0.0027 - val_loss: 9.0113e-06 - val_layer_for_y1_loss: 3.2294e-08 - val_layer_for_y2_loss: 8.9790e-06 - val_layer_for_y1_mean_absolute_error: 1.4161e-04 - val_layer_for_y2_mean_absolute_error: 0.0025\n",
            "Epoch 486/500\n",
            "5/5 [==============================] - 0s 7ms/step - loss: 1.1423e-05 - layer_for_y1_loss: 2.6221e-08 - layer_for_y2_loss: 1.1396e-05 - layer_for_y1_mean_absolute_error: 1.2595e-04 - layer_for_y2_mean_absolute_error: 0.0027 - val_loss: 9.0123e-06 - val_layer_for_y1_loss: 3.2288e-08 - val_layer_for_y2_loss: 8.9800e-06 - val_layer_for_y1_mean_absolute_error: 1.4158e-04 - val_layer_for_y2_mean_absolute_error: 0.0025\n",
            "Epoch 487/500\n",
            "5/5 [==============================] - 0s 8ms/step - loss: 1.1424e-05 - layer_for_y1_loss: 2.6197e-08 - layer_for_y2_loss: 1.1398e-05 - layer_for_y1_mean_absolute_error: 1.2591e-04 - layer_for_y2_mean_absolute_error: 0.0027 - val_loss: 9.0118e-06 - val_layer_for_y1_loss: 3.2278e-08 - val_layer_for_y2_loss: 8.9795e-06 - val_layer_for_y1_mean_absolute_error: 1.4157e-04 - val_layer_for_y2_mean_absolute_error: 0.0025\n",
            "Epoch 488/500\n",
            "5/5 [==============================] - 0s 8ms/step - loss: 1.1429e-05 - layer_for_y1_loss: 2.6215e-08 - layer_for_y2_loss: 1.1403e-05 - layer_for_y1_mean_absolute_error: 1.2592e-04 - layer_for_y2_mean_absolute_error: 0.0027 - val_loss: 9.0138e-06 - val_layer_for_y1_loss: 3.2279e-08 - val_layer_for_y2_loss: 8.9815e-06 - val_layer_for_y1_mean_absolute_error: 1.4161e-04 - val_layer_for_y2_mean_absolute_error: 0.0025\n",
            "Epoch 489/500\n",
            "5/5 [==============================] - 0s 7ms/step - loss: 1.1423e-05 - layer_for_y1_loss: 2.6209e-08 - layer_for_y2_loss: 1.1397e-05 - layer_for_y1_mean_absolute_error: 1.2589e-04 - layer_for_y2_mean_absolute_error: 0.0027 - val_loss: 9.0139e-06 - val_layer_for_y1_loss: 3.2279e-08 - val_layer_for_y2_loss: 8.9816e-06 - val_layer_for_y1_mean_absolute_error: 1.4162e-04 - val_layer_for_y2_mean_absolute_error: 0.0025\n",
            "Epoch 490/500\n",
            "5/5 [==============================] - 0s 7ms/step - loss: 1.1430e-05 - layer_for_y1_loss: 2.6232e-08 - layer_for_y2_loss: 1.1404e-05 - layer_for_y1_mean_absolute_error: 1.2591e-04 - layer_for_y2_mean_absolute_error: 0.0027 - val_loss: 9.0164e-06 - val_layer_for_y1_loss: 3.2288e-08 - val_layer_for_y2_loss: 8.9841e-06 - val_layer_for_y1_mean_absolute_error: 1.4161e-04 - val_layer_for_y2_mean_absolute_error: 0.0025\n",
            "Epoch 491/500\n",
            "5/5 [==============================] - 0s 10ms/step - loss: 1.1425e-05 - layer_for_y1_loss: 2.6219e-08 - layer_for_y2_loss: 1.1399e-05 - layer_for_y1_mean_absolute_error: 1.2594e-04 - layer_for_y2_mean_absolute_error: 0.0027 - val_loss: 9.0184e-06 - val_layer_for_y1_loss: 3.2290e-08 - val_layer_for_y2_loss: 8.9861e-06 - val_layer_for_y1_mean_absolute_error: 1.4161e-04 - val_layer_for_y2_mean_absolute_error: 0.0025\n",
            "Epoch 492/500\n",
            "5/5 [==============================] - 0s 9ms/step - loss: 1.1424e-05 - layer_for_y1_loss: 2.6259e-08 - layer_for_y2_loss: 1.1398e-05 - layer_for_y1_mean_absolute_error: 1.2591e-04 - layer_for_y2_mean_absolute_error: 0.0027 - val_loss: 9.0216e-06 - val_layer_for_y1_loss: 3.2295e-08 - val_layer_for_y2_loss: 8.9893e-06 - val_layer_for_y1_mean_absolute_error: 1.4160e-04 - val_layer_for_y2_mean_absolute_error: 0.0025\n",
            "Epoch 493/500\n",
            "5/5 [==============================] - 0s 11ms/step - loss: 1.1432e-05 - layer_for_y1_loss: 2.6218e-08 - layer_for_y2_loss: 1.1406e-05 - layer_for_y1_mean_absolute_error: 1.2596e-04 - layer_for_y2_mean_absolute_error: 0.0027 - val_loss: 9.0238e-06 - val_layer_for_y1_loss: 3.2262e-08 - val_layer_for_y2_loss: 8.9916e-06 - val_layer_for_y1_mean_absolute_error: 1.4158e-04 - val_layer_for_y2_mean_absolute_error: 0.0025\n",
            "Epoch 494/500\n",
            "5/5 [==============================] - 0s 10ms/step - loss: 1.1429e-05 - layer_for_y1_loss: 2.6212e-08 - layer_for_y2_loss: 1.1403e-05 - layer_for_y1_mean_absolute_error: 1.2596e-04 - layer_for_y2_mean_absolute_error: 0.0027 - val_loss: 9.0287e-06 - val_layer_for_y1_loss: 3.2259e-08 - val_layer_for_y2_loss: 8.9965e-06 - val_layer_for_y1_mean_absolute_error: 1.4157e-04 - val_layer_for_y2_mean_absolute_error: 0.0025\n",
            "Epoch 495/500\n",
            "5/5 [==============================] - 0s 9ms/step - loss: 1.1428e-05 - layer_for_y1_loss: 2.6213e-08 - layer_for_y2_loss: 1.1402e-05 - layer_for_y1_mean_absolute_error: 1.2595e-04 - layer_for_y2_mean_absolute_error: 0.0027 - val_loss: 9.0296e-06 - val_layer_for_y1_loss: 3.2269e-08 - val_layer_for_y2_loss: 8.9973e-06 - val_layer_for_y1_mean_absolute_error: 1.4159e-04 - val_layer_for_y2_mean_absolute_error: 0.0025\n",
            "Epoch 496/500\n",
            "5/5 [==============================] - 0s 8ms/step - loss: 1.1422e-05 - layer_for_y1_loss: 2.6224e-08 - layer_for_y2_loss: 1.1396e-05 - layer_for_y1_mean_absolute_error: 1.2593e-04 - layer_for_y2_mean_absolute_error: 0.0027 - val_loss: 9.0271e-06 - val_layer_for_y1_loss: 3.2266e-08 - val_layer_for_y2_loss: 8.9949e-06 - val_layer_for_y1_mean_absolute_error: 1.4160e-04 - val_layer_for_y2_mean_absolute_error: 0.0025\n",
            "Epoch 497/500\n",
            "5/5 [==============================] - 0s 8ms/step - loss: 1.1426e-05 - layer_for_y1_loss: 2.6239e-08 - layer_for_y2_loss: 1.1400e-05 - layer_for_y1_mean_absolute_error: 1.2595e-04 - layer_for_y2_mean_absolute_error: 0.0027 - val_loss: 9.0225e-06 - val_layer_for_y1_loss: 3.2263e-08 - val_layer_for_y2_loss: 8.9902e-06 - val_layer_for_y1_mean_absolute_error: 1.4158e-04 - val_layer_for_y2_mean_absolute_error: 0.0025\n",
            "Epoch 498/500\n",
            "5/5 [==============================] - 0s 7ms/step - loss: 1.1427e-05 - layer_for_y1_loss: 2.6240e-08 - layer_for_y2_loss: 1.1401e-05 - layer_for_y1_mean_absolute_error: 1.2609e-04 - layer_for_y2_mean_absolute_error: 0.0027 - val_loss: 9.0181e-06 - val_layer_for_y1_loss: 3.2282e-08 - val_layer_for_y2_loss: 8.9858e-06 - val_layer_for_y1_mean_absolute_error: 1.4162e-04 - val_layer_for_y2_mean_absolute_error: 0.0025\n",
            "Epoch 499/500\n",
            "5/5 [==============================] - 0s 8ms/step - loss: 1.1428e-05 - layer_for_y1_loss: 2.6223e-08 - layer_for_y2_loss: 1.1402e-05 - layer_for_y1_mean_absolute_error: 1.2590e-04 - layer_for_y2_mean_absolute_error: 0.0027 - val_loss: 9.0245e-06 - val_layer_for_y1_loss: 3.2269e-08 - val_layer_for_y2_loss: 8.9922e-06 - val_layer_for_y1_mean_absolute_error: 1.4163e-04 - val_layer_for_y2_mean_absolute_error: 0.0025\n",
            "Epoch 500/500\n",
            "5/5 [==============================] - 0s 8ms/step - loss: 1.1435e-05 - layer_for_y1_loss: 2.6208e-08 - layer_for_y2_loss: 1.1409e-05 - layer_for_y1_mean_absolute_error: 1.2590e-04 - layer_for_y2_mean_absolute_error: 0.0027 - val_loss: 9.0233e-06 - val_layer_for_y1_loss: 3.2278e-08 - val_layer_for_y2_loss: 8.9910e-06 - val_layer_for_y1_mean_absolute_error: 1.4162e-04 - val_layer_for_y2_mean_absolute_error: 0.0025\n"
          ],
          "name": "stdout"
        }
      ]
    },
    {
      "cell_type": "code",
      "metadata": {
        "id": "rRWKGaXc1e8w"
      },
      "source": [
        "data = [150 , 200 , 300 , 400]\n",
        "pred = model.predict((data - mean_X) / std_X)"
      ],
      "execution_count": 41,
      "outputs": []
    },
    {
      "cell_type": "code",
      "metadata": {
        "colab": {
          "base_uri": "https://localhost:8080/"
        },
        "id": "L7gRtE8m1zdt",
        "outputId": "fcd24260-4d6f-4c28-892c-353229258a3d"
      },
      "source": [
        "for i in range(len(data)):\n",
        "    X = data[i]\n",
        "    Y1 , Y2 = pred[0][i , 0] , pred[1][i , 0]\n",
        "    Y1 = Y1 * std_Y1 + mean_Y1\n",
        "    Y2 = Y2 * std_Y2 + mean_Y2\n",
        "\n",
        "    print(\"X : %4.3f  |  Y1  : %4.3f  |  Y2  : %4.3f \"%(X,Y1,Y2))"
      ],
      "execution_count": 47,
      "outputs": [
        {
          "output_type": "stream",
          "text": [
            "X : 150.000  |  Y1  : 14999.601  |  Y2  : 750.133 \n",
            "X : 200.000  |  Y1  : 19999.475  |  Y2  : 1000.158 \n",
            "X : 300.000  |  Y1  : 29999.225  |  Y2  : 1500.210 \n",
            "X : 400.000  |  Y1  : 39998.973  |  Y2  : 2000.261 \n"
          ],
          "name": "stdout"
        }
      ]
    }
  ]
}