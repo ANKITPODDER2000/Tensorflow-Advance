{
  "nbformat": 4,
  "nbformat_minor": 0,
  "metadata": {
    "colab": {
      "name": "main.ipynb",
      "provenance": []
    },
    "kernelspec": {
      "name": "python3",
      "display_name": "Python 3"
    }
  },
  "cells": [
    {
      "cell_type": "code",
      "metadata": {
        "id": "BiFLBqredQWa"
      },
      "source": [
        "import os\n",
        "os.chdir('/content/drive/MyDrive/Tensorflow Advance/Practice/psc')\n",
        "import pandas as pd\n",
        "import numpy as np\n",
        "import seaborn as sns\n",
        "sns.set_style(\"darkgrid\")\n",
        "import matplotlib.pyplot as plt\n",
        "%matplotlib inline\n",
        "import tensorflow as tf\n",
        "from sklearn.model_selection import train_test_split\n",
        "print(\"Version of tensorflow is : \",tf.__version__)"
      ],
      "execution_count": null,
      "outputs": []
    },
    {
      "cell_type": "code",
      "metadata": {
        "id": "m-6zeOwUe8eA"
      },
      "source": [
        "df = pd.read_csv(\"data.csv\" , error_bad_lines=False)\n",
        "# df.head()"
      ],
      "execution_count": null,
      "outputs": []
    },
    {
      "cell_type": "code",
      "metadata": {
        "colab": {
          "base_uri": "https://localhost:8080/",
          "height": 195
        },
        "id": "ztbXGga_fIrc",
        "outputId": "c96afe5e-f4fd-4c2f-ab1e-0b43f9b190a5"
      },
      "source": [
        "df.head()"
      ],
      "execution_count": 7,
      "outputs": [
        {
          "output_type": "execute_result",
          "data": {
            "text/html": [
              "<div>\n",
              "<style scoped>\n",
              "    .dataframe tbody tr th:only-of-type {\n",
              "        vertical-align: middle;\n",
              "    }\n",
              "\n",
              "    .dataframe tbody tr th {\n",
              "        vertical-align: top;\n",
              "    }\n",
              "\n",
              "    .dataframe thead th {\n",
              "        text-align: right;\n",
              "    }\n",
              "</style>\n",
              "<table border=\"1\" class=\"dataframe\">\n",
              "  <thead>\n",
              "    <tr style=\"text-align: right;\">\n",
              "      <th></th>\n",
              "      <th>password</th>\n",
              "      <th>strength</th>\n",
              "    </tr>\n",
              "  </thead>\n",
              "  <tbody>\n",
              "    <tr>\n",
              "      <th>0</th>\n",
              "      <td>kzde5577</td>\n",
              "      <td>1</td>\n",
              "    </tr>\n",
              "    <tr>\n",
              "      <th>1</th>\n",
              "      <td>kino3434</td>\n",
              "      <td>1</td>\n",
              "    </tr>\n",
              "    <tr>\n",
              "      <th>2</th>\n",
              "      <td>visi7k1yr</td>\n",
              "      <td>1</td>\n",
              "    </tr>\n",
              "    <tr>\n",
              "      <th>3</th>\n",
              "      <td>megzy123</td>\n",
              "      <td>1</td>\n",
              "    </tr>\n",
              "    <tr>\n",
              "      <th>4</th>\n",
              "      <td>lamborghin1</td>\n",
              "      <td>1</td>\n",
              "    </tr>\n",
              "  </tbody>\n",
              "</table>\n",
              "</div>"
            ],
            "text/plain": [
              "      password  strength\n",
              "0     kzde5577         1\n",
              "1     kino3434         1\n",
              "2    visi7k1yr         1\n",
              "3     megzy123         1\n",
              "4  lamborghin1         1"
            ]
          },
          "metadata": {
            "tags": []
          },
          "execution_count": 7
        }
      ]
    },
    {
      "cell_type": "code",
      "metadata": {
        "colab": {
          "base_uri": "https://localhost:8080/",
          "height": 350
        },
        "id": "2erhjOdhfmhe",
        "outputId": "298e9c35-9543-450c-ba18-1eebf8783b7e"
      },
      "source": [
        "sns.countplot(df['strength'])"
      ],
      "execution_count": 8,
      "outputs": [
        {
          "output_type": "stream",
          "text": [
            "/usr/local/lib/python3.6/dist-packages/seaborn/_decorators.py:43: FutureWarning: Pass the following variable as a keyword arg: x. From version 0.12, the only valid positional argument will be `data`, and passing other arguments without an explicit keyword will result in an error or misinterpretation.\n",
            "  FutureWarning\n"
          ],
          "name": "stderr"
        },
        {
          "output_type": "execute_result",
          "data": {
            "text/plain": [
              "<matplotlib.axes._subplots.AxesSubplot at 0x7fa475a361d0>"
            ]
          },
          "metadata": {
            "tags": []
          },
          "execution_count": 8
        },
        {
          "output_type": "display_data",
          "data": {
            "image/png": "[encoded data removed]",
            "text/plain": [
              "<Figure size 432x288 with 1 Axes>"
            ]
          },
          "metadata": {
            "tags": [],
            "needs_background": "light"
          }
        }
      ]
    },
    {
      "cell_type": "code",
      "metadata": {
        "colab": {
          "base_uri": "https://localhost:8080/"
        },
        "id": "Gp418fMWfs8Y",
        "outputId": "35c56420-a895-4ada-db82-5da0491ea69f"
      },
      "source": [
        "print(\"Shape of data : \",df.shape)"
      ],
      "execution_count": 9,
      "outputs": [
        {
          "output_type": "stream",
          "text": [
            "Shape of data :  (669640, 2)\n"
          ],
          "name": "stdout"
        }
      ]
    },
    {
      "cell_type": "code",
      "metadata": {
        "id": "OjOdMqhnf2JC"
      },
      "source": [
        "data = pd.DataFrame()"
      ],
      "execution_count": 10,
      "outputs": []
    },
    {
      "cell_type": "code",
      "metadata": {
        "id": "DYLIOsekf8-4"
      },
      "source": [
        "data['length'] = df['password'].apply(lambda x : len(str(x)))"
      ],
      "execution_count": 17,
      "outputs": []
    },
    {
      "cell_type": "code",
      "metadata": {
        "id": "DRrHrJeQhKOW"
      },
      "source": [
        "def count_letter_digit(s , a ,b):\n",
        "    count = 0\n",
        "    for i in s:\n",
        "        if i>=a and i<=b:\n",
        "            count += 1\n",
        "    return count"
      ],
      "execution_count": 20,
      "outputs": []
    },
    {
      "cell_type": "code",
      "metadata": {
        "colab": {
          "base_uri": "https://localhost:8080/"
        },
        "id": "wDDHojJpi49m",
        "outputId": "112a7933-2488-4e3f-9509-1206ddf95257"
      },
      "source": [
        "print(\"No of cap : \",count_letter_digit(\"Ankit Podder 8114\" , 'A' , 'Z'))\n",
        "print(\"No of sma : \",count_letter_digit(\"Ankit Podder 8114\" , 'a' , 'z'))\n",
        "print(\"No of digit : \",count_letter_digit(\"Ankit Podder 8114\" , '0' , '9'))"
      ],
      "execution_count": 22,
      "outputs": [
        {
          "output_type": "stream",
          "text": [
            "No of cap :  2\n",
            "No of sma :  9\n",
            "No of digit :  4\n"
          ],
          "name": "stdout"
        }
      ]
    },
    {
      "cell_type": "code",
      "metadata": {
        "id": "9lXn5ku_mGRi"
      },
      "source": [
        "data['capital'] = df['password'].apply(lambda x : count_letter_digit(str(x) , 'A' , 'Z'))\n",
        "data['small'] = df['password'].apply(lambda x : count_letter_digit(str(x) , 'a' , 'z'))\n",
        "data['digit'] = df['password'].apply(lambda x : count_letter_digit(str(x) , '0' , '9'))"
      ],
      "execution_count": 23,
      "outputs": []
    },
    {
      "cell_type": "code",
      "metadata": {
        "colab": {
          "base_uri": "https://localhost:8080/",
          "height": 282
        },
        "id": "1Wsq4irrmmqA",
        "outputId": "a0d6a0f7-e96e-40b9-e7de-9fa6763a3d2c"
      },
      "source": [
        "data['capital'].hist()"
      ],
      "execution_count": 28,
      "outputs": [
        {
          "output_type": "execute_result",
          "data": {
            "text/plain": [
              "<matplotlib.axes._subplots.AxesSubplot at 0x7fa47084ff28>"
            ]
          },
          "metadata": {
            "tags": []
          },
          "execution_count": 28
        },
        {
          "output_type": "display_data",
          "data": {
            "image/png": "[encoded data removed]",
            "text/plain": [
              "<Figure size 432x288 with 1 Axes>"
            ]
          },
          "metadata": {
            "tags": [],
            "needs_background": "light"
          }
        }
      ]
    },
    {
      "cell_type": "code",
      "metadata": {
        "colab": {
          "base_uri": "https://localhost:8080/",
          "height": 285
        },
        "id": "G7SUM3FGm0VM",
        "outputId": "b4ccfeba-3a07-45f7-fc49-270e5461f11f"
      },
      "source": [
        "data['small'].hist(bins=5)"
      ],
      "execution_count": 30,
      "outputs": [
        {
          "output_type": "execute_result",
          "data": {
            "text/plain": [
              "<matplotlib.axes._subplots.AxesSubplot at 0x7fa46fd74400>"
            ]
          },
          "metadata": {
            "tags": []
          },
          "execution_count": 30
        },
        {
          "output_type": "display_data",
          "data": {
            "image/png": "[encoded data removed]",
            "text/plain": [
              "<Figure size 432x288 with 1 Axes>"
            ]
          },
          "metadata": {
            "tags": [],
            "needs_background": "light"
          }
        }
      ]
    },
    {
      "cell_type": "code",
      "metadata": {
        "id": "N0vZrmTenNXA"
      },
      "source": [
        "def no_special_char(s):\n",
        "    s = str(s)\n",
        "    count = 0\n",
        "    for i in s:\n",
        "        if (not (i>='A' and i<='Z'))  and (not (i>='a' and i<='z')) and (not (i>='0' and i<='9')):\n",
        "            count += 1\n",
        "    return count"
      ],
      "execution_count": 31,
      "outputs": []
    },
    {
      "cell_type": "code",
      "metadata": {
        "id": "Pa8_o3cen1lB"
      },
      "source": [
        "data['special_char'] = df['password'].apply(no_special_char)"
      ],
      "execution_count": 35,
      "outputs": []
    },
    {
      "cell_type": "code",
      "metadata": {
        "colab": {
          "base_uri": "https://localhost:8080/",
          "height": 195
        },
        "id": "wvdk2ZFBn3mD",
        "outputId": "27137b65-3dd5-4118-c542-a96a78241aac"
      },
      "source": [
        "data.head()"
      ],
      "execution_count": 36,
      "outputs": [
        {
          "output_type": "execute_result",
          "data": {
            "text/html": [
              "<div>\n",
              "<style scoped>\n",
              "    .dataframe tbody tr th:only-of-type {\n",
              "        vertical-align: middle;\n",
              "    }\n",
              "\n",
              "    .dataframe tbody tr th {\n",
              "        vertical-align: top;\n",
              "    }\n",
              "\n",
              "    .dataframe thead th {\n",
              "        text-align: right;\n",
              "    }\n",
              "</style>\n",
              "<table border=\"1\" class=\"dataframe\">\n",
              "  <thead>\n",
              "    <tr style=\"text-align: right;\">\n",
              "      <th></th>\n",
              "      <th>length</th>\n",
              "      <th>capital</th>\n",
              "      <th>small</th>\n",
              "      <th>digit</th>\n",
              "      <th>special_char</th>\n",
              "    </tr>\n",
              "  </thead>\n",
              "  <tbody>\n",
              "    <tr>\n",
              "      <th>0</th>\n",
              "      <td>8</td>\n",
              "      <td>0</td>\n",
              "      <td>4</td>\n",
              "      <td>4</td>\n",
              "      <td>0</td>\n",
              "    </tr>\n",
              "    <tr>\n",
              "      <th>1</th>\n",
              "      <td>8</td>\n",
              "      <td>0</td>\n",
              "      <td>4</td>\n",
              "      <td>4</td>\n",
              "      <td>0</td>\n",
              "    </tr>\n",
              "    <tr>\n",
              "      <th>2</th>\n",
              "      <td>9</td>\n",
              "      <td>0</td>\n",
              "      <td>7</td>\n",
              "      <td>2</td>\n",
              "      <td>0</td>\n",
              "    </tr>\n",
              "    <tr>\n",
              "      <th>3</th>\n",
              "      <td>8</td>\n",
              "      <td>0</td>\n",
              "      <td>5</td>\n",
              "      <td>3</td>\n",
              "      <td>0</td>\n",
              "    </tr>\n",
              "    <tr>\n",
              "      <th>4</th>\n",
              "      <td>11</td>\n",
              "      <td>0</td>\n",
              "      <td>10</td>\n",
              "      <td>1</td>\n",
              "      <td>0</td>\n",
              "    </tr>\n",
              "  </tbody>\n",
              "</table>\n",
              "</div>"
            ],
            "text/plain": [
              "   length  capital  small  digit  special_char\n",
              "0       8        0      4      4             0\n",
              "1       8        0      4      4             0\n",
              "2       9        0      7      2             0\n",
              "3       8        0      5      3             0\n",
              "4      11        0     10      1             0"
            ]
          },
          "metadata": {
            "tags": []
          },
          "execution_count": 36
        }
      ]
    },
    {
      "cell_type": "code",
      "metadata": {
        "colab": {
          "base_uri": "https://localhost:8080/"
        },
        "id": "YhqXFc91pS1a",
        "outputId": "1b7ba5db-2605-40ee-c629-9d8ba9746ed0"
      },
      "source": [
        "X_train, X_test, y_train, y_test = train_test_split(data, df['strength'], test_size=0.25, random_state=100)\n",
        "X_train = X_train.values\n",
        "print(\"Shape of X_train : \",X_train.shape)\n",
        "X_test  = X_test.values\n",
        "print(\"Shape of X_test : \",X_test.shape)\n",
        "y_train = y_train.values\n",
        "y_train  = tf.keras.utils.to_categorical(y_train)\n",
        "print(\"Shape of y_train : \",y_train.shape)\n",
        "y_test  = y_test.values\n",
        "y_test  = tf.keras.utils.to_categorical(y_test)\n",
        "print(\"Shape of y_test : \",y_test.shape)"
      ],
      "execution_count": 59,
      "outputs": [
        {
          "output_type": "stream",
          "text": [
            "Shape of X_train :  (502230, 5)\n",
            "Shape of X_test :  (167410, 5)\n",
            "Shape of y_train :  (502230, 3)\n",
            "Shape of y_test :  (167410, 3)\n"
          ],
          "name": "stdout"
        }
      ]
    },
    {
      "cell_type": "code",
      "metadata": {
        "id": "AkTkCOJDpw8j"
      },
      "source": [
        "def get_basic_model():\n",
        "    inp = tf.keras.layers.Input(shape=(5,))\n",
        "    l1  = tf.keras.layers.Dense(32 , activation=tf.nn.relu)(inp)\n",
        "    l2  = tf.keras.layers.Dense(64 , activation = tf.nn.relu)(l1)\n",
        "    output = tf.keras.layers.Dense(3 , activation=tf.nn.softmax)(l2)\n",
        "    model = tf.keras.Model(inputs = inp , outputs = output)\n",
        "    model.compile(loss = tf.keras.losses.categorical_crossentropy , optimizer = 'adam' , metrics = ['acc'])\n",
        "    return model"
      ],
      "execution_count": 60,
      "outputs": []
    },
    {
      "cell_type": "code",
      "metadata": {
        "colab": {
          "base_uri": "https://localhost:8080/"
        },
        "id": "VIf0tfDcrIdK",
        "outputId": "a80ba8d7-e61c-482a-ec63-ae848562c43c"
      },
      "source": [
        "model = get_basic_model()\n",
        "model.summary()\n",
        "his = model.fit(X_train , y_train , epochs=500 , batch_size=128 , validation_data=(X_test , y_test), verbose=0)"
      ],
      "execution_count": 61,
      "outputs": [
        {
          "output_type": "stream",
          "text": [
            "Model: \"functional_9\"\n",
            "_________________________________________________________________\n",
            "Layer (type)                 Output Shape              Param #   \n",
            "=================================================================\n",
            "input_6 (InputLayer)         [(None, 5)]               0         \n",
            "_________________________________________________________________\n",
            "dense_13 (Dense)             (None, 32)                192       \n",
            "_________________________________________________________________\n",
            "dense_14 (Dense)             (None, 64)                2112      \n",
            "_________________________________________________________________\n",
            "dense_15 (Dense)             (None, 3)                 195       \n",
            "=================================================================\n",
            "Total params: 2,499\n",
            "Trainable params: 2,499\n",
            "Non-trainable params: 0\n",
            "_________________________________________________________________\n"
          ],
          "name": "stdout"
        }
      ]
    },
    {
      "cell_type": "code",
      "metadata": {
        "colab": {
          "base_uri": "https://localhost:8080/"
        },
        "id": "Aal1RWj7rlJi",
        "outputId": "d44fa6e2-bd58-4066-c34b-1e1c6458be4d"
      },
      "source": [
        "model.evaluate(X_train , y_train)"
      ],
      "execution_count": 62,
      "outputs": [
        {
          "output_type": "stream",
          "text": [
            "15695/15695 [==============================] - 11s 702us/step - loss: 2.1715e-06 - acc: 1.0000\n"
          ],
          "name": "stdout"
        },
        {
          "output_type": "execute_result",
          "data": {
            "text/plain": [
              "[2.171524783989298e-06, 1.0]"
            ]
          },
          "metadata": {
            "tags": []
          },
          "execution_count": 62
        }
      ]
    },
    {
      "cell_type": "code",
      "metadata": {
        "colab": {
          "base_uri": "https://localhost:8080/"
        },
        "id": "iijC_VE3IkIw",
        "outputId": "a8dac145-4157-429b-b5ad-bc5db1cd628f"
      },
      "source": [
        "model.evaluate(X_test , y_test)"
      ],
      "execution_count": 63,
      "outputs": [
        {
          "output_type": "stream",
          "text": [
            "5232/5232 [==============================] - 4s 709us/step - loss: 2.9885e-06 - acc: 1.0000\n"
          ],
          "name": "stdout"
        },
        {
          "output_type": "execute_result",
          "data": {
            "text/plain": [
              "[2.9885418371122796e-06, 1.0]"
            ]
          },
          "metadata": {
            "tags": []
          },
          "execution_count": 63
        }
      ]
    },
    {
      "cell_type": "code",
      "metadata": {
        "colab": {
          "base_uri": "https://localhost:8080/",
          "height": 353
        },
        "id": "hV-lMu0qIrF-",
        "outputId": "bc16137d-a000-4b8b-aca5-42a9ca404a42"
      },
      "source": [
        "_ , ax = plt.subplots(1 , 2 , figsize = (16 , 5))\n",
        "ax[0].plot(his.history['acc'][:20] , label=\"trainig_data\")\n",
        "ax[0].plot(his.history['val_acc'][:20], label = \"testing_data\")\n",
        "ax[0].set_title(\"Accurecy\")\n",
        "ax[0].legend()\n",
        "\n",
        "ax[1].plot(his.history['loss'][:20] , label=\"trainig_data\")\n",
        "ax[1].plot(his.history['val_loss'][:20] , label = \"testing_data\")\n",
        "ax[1].set_title(\"Crossentropy\")\n",
        "ax[1].legend()"
      ],
      "execution_count": 66,
      "outputs": [
        {
          "output_type": "execute_result",
          "data": {
            "text/plain": [
              "<matplotlib.legend.Legend at 0x7fa4624934a8>"
            ]
          },
          "metadata": {
            "tags": []
          },
          "execution_count": 66
        },
        {
          "output_type": "display_data",
          "data": {
            "image/png": "[encoded data removed]",
            "text/plain": [
              "<Figure size 1152x360 with 2 Axes>"
            ]
          },
          "metadata": {
            "tags": [],
            "needs_background": "light"
          }
        }
      ]
    },
    {
      "cell_type": "code",
      "metadata": {
        "id": "8dqwd2M2J2aH"
      },
      "source": [
        "def pred(passwords): #List of password\n",
        "    a = []\n",
        "    for password in passwords:\n",
        "        li = []\n",
        "        li.append(len(str(password)))\n",
        "        li.append(count_letter_digit(str(password) , \"A\" , 'Z'))\n",
        "        li.append(count_letter_digit(str(password) , \"a\" , 'z'))\n",
        "        li.append(count_letter_digit(str(password) , \"0\" , '9'))\n",
        "        li.append(no_special_char(str(password)))\n",
        "        a.append(li)\n",
        "    a = np.array(a)\n",
        "    return np.argmax(model.predict(a) , axis = 1)"
      ],
      "execution_count": 85,
      "outputs": []
    },
    {
      "cell_type": "code",
      "metadata": {
        "colab": {
          "base_uri": "https://localhost:8080/"
        },
        "id": "yUvS4AQ5K99W",
        "outputId": "9354b6ab-a716-44be-98fe-e3947eb534cd"
      },
      "source": [
        "class_name = ['Easy' , 'Hard' , 'Very Hard']\n",
        "passwords = [1235 , \"ANkit@5895\" , \"Ankit:()Podder@paul\"]\n",
        "a = pred(passwords)\n",
        "for i in range(len(a)):\n",
        "    print(\"Strength of the ' %20s ' is : %s\"%( passwords[i] , class_name[a[i]] ))"
      ],
      "execution_count": 90,
      "outputs": [
        {
          "output_type": "stream",
          "text": [
            "Strength of the '                 1235 ' is : Easy\n",
            "Strength of the '           ANkit@5895 ' is : Hard\n",
            "Strength of the '  Ankit:()Podder@paul ' is : Very Hard\n"
          ],
          "name": "stdout"
        }
      ]
    },
    {
      "cell_type": "code",
      "metadata": {
        "id": "ig76V4iWMZ43"
      },
      "source": [
        "from sklearn.metrics import classification_report"
      ],
      "execution_count": 91,
      "outputs": []
    },
    {
      "cell_type": "code",
      "metadata": {
        "colab": {
          "base_uri": "https://localhost:8080/"
        },
        "id": "w9f5AnJuPhMj",
        "outputId": "93427c91-e6fe-45be-8ef8-6c2b58030145"
      },
      "source": [
        "print(\"Classification report for training data:\\n=====================================\")\n",
        "print(classification_report(np.argmax(y_train , axis=1) , np.argmax(model.predict(X_train) , axis=1) ))"
      ],
      "execution_count": 94,
      "outputs": [
        {
          "output_type": "stream",
          "text": [
            "Classification report for training data:\n",
            "=====================================\n",
            "              precision    recall  f1-score   support\n",
            "\n",
            "           0       1.00      1.00      1.00     67413\n",
            "           1       1.00      1.00      1.00    372753\n",
            "           2       1.00      1.00      1.00     62064\n",
            "\n",
            "    accuracy                           1.00    502230\n",
            "   macro avg       1.00      1.00      1.00    502230\n",
            "weighted avg       1.00      1.00      1.00    502230\n",
            "\n"
          ],
          "name": "stdout"
        }
      ]
    },
    {
      "cell_type": "code",
      "metadata": {
        "colab": {
          "base_uri": "https://localhost:8080/"
        },
        "id": "PBu86IuoPqgu",
        "outputId": "c11d5db4-ceb5-4589-9acf-74075082a806"
      },
      "source": [
        "print(\"Classification report for testing data:\\n=====================================\")\n",
        "print(classification_report(np.argmax(y_test , axis=1) , np.argmax(model.predict(X_test) , axis=1) ))"
      ],
      "execution_count": 95,
      "outputs": [
        {
          "output_type": "stream",
          "text": [
            "Classification report for testing data:\n",
            "=====================================\n",
            "              precision    recall  f1-score   support\n",
            "\n",
            "           0       1.00      1.00      1.00     22289\n",
            "           1       1.00      1.00      1.00    124048\n",
            "           2       1.00      1.00      1.00     21073\n",
            "\n",
            "    accuracy                           1.00    167410\n",
            "   macro avg       1.00      1.00      1.00    167410\n",
            "weighted avg       1.00      1.00      1.00    167410\n",
            "\n"
          ],
          "name": "stdout"
        }
      ]
    },
    {
      "cell_type": "code",
      "metadata": {
        "id": "5Evu3MRyQOfY"
      },
      "source": [
        ""
      ],
      "execution_count": null,
      "outputs": []
    }
  ]
}