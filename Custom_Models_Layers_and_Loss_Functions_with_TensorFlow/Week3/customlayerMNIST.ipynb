{
  "nbformat": 4,
  "nbformat_minor": 0,
  "metadata": {
    "colab": {
      "name": "customlayerMNIST.ipynb",
      "provenance": []
    },
    "kernelspec": {
      "name": "python3",
      "display_name": "Python 3"
    },
    "accelerator": "GPU"
  },
  "cells": [
    {
      "cell_type": "code",
      "metadata": {
        "id": "Uug_U5xQ_xyI"
      },
      "source": [
        "import tensorflow as tf\n",
        "print(\"Version of tensorflow is : \",tf.__version__)\n",
        "from tensorflow.keras.layers import Layer , Dense, Flatten , Lambda\n",
        "from tensorflow.keras.models import Sequential\n",
        "from tensorflow.keras.datasets import mnist\n",
        "from tensorflow.nn import softmax , relu\n",
        "from tensorflow.keras.losses import categorical_crossentropy\n",
        "from tensorflow.keras.optimizers import RMSprop\n",
        "import tensorflow.keras.backend as k\n",
        "\n",
        "import numpy as np"
      ],
      "execution_count": null,
      "outputs": []
    },
    {
      "cell_type": "markdown",
      "metadata": {
        "id": "Ussyc00pAItU"
      },
      "source": [
        "**CUSTOM DENSE LAYER CLASS**"
      ]
    },
    {
      "cell_type": "code",
      "metadata": {
        "id": "gvQlfn3D_6o9"
      },
      "source": [
        "#CUSTOM DENSE LAYER CLASS\n",
        "class SimpleDense(Layer):\n",
        "    def __init__(self , units = 32):\n",
        "        super(SimpleDense , self).__init__()\n",
        "        self.units = units\n",
        "\n",
        "    def build(self , input_shape):\n",
        "        w_init = tf.random_normal_initializer()\n",
        "        self.w = tf.Variable(name = \"kernal\" , \n",
        "                             initial_value = w_init(shape = (input_shape[-1] , self.units) , dtype=\"float32\") , \n",
        "                             trainable=True )\n",
        "        \n",
        "        b_init = tf.zeros_initializer()\n",
        "        self.b = tf.Variable(name = \"bias\",\n",
        "                             initial_value = b_init(shape = (self.units) , dtype = \"float32\") ,\n",
        "                             trainable=True)\n",
        "    def call(self , inputs):\n",
        "        return tf.matmul(inputs , self.w) + self.b"
      ],
      "execution_count": 35,
      "outputs": []
    },
    {
      "cell_type": "code",
      "metadata": {
        "id": "kZZ3qb4dANVT"
      },
      "source": [
        "(train_data , train_label) , (test_data , test_label) = mnist.load_data()\n",
        "\n",
        "train_data = train_data / 255.0\n",
        "test_data  = test_data  / 255.0\n",
        "\n",
        "train_label = tf.keras.utils.to_categorical(train_label)\n",
        "test_label  = tf.keras.utils.to_categorical(test_label)"
      ],
      "execution_count": 36,
      "outputs": []
    },
    {
      "cell_type": "code",
      "metadata": {
        "id": "lK-4jOcVAibP"
      },
      "source": [
        "def plot_his(h):\n",
        "  history = h.history\n",
        "  f , ax = plt.subplots(1,2,figsize=(16,5))\n",
        "  ax[0].plot(history['acc'] , label=\"train\")\n",
        "  ax[0].plot(history['val_acc'] , label=\"test\")\n",
        "  ax[0].legend()\n",
        "\n",
        "  ax[1].plot(history['loss'] , label=\"train\")\n",
        "  ax[1].plot(history['val_loss'] , label=\"test\")\n",
        "  ax[1].legend()"
      ],
      "execution_count": 37,
      "outputs": []
    },
    {
      "cell_type": "code",
      "metadata": {
        "colab": {
          "base_uri": "https://localhost:8080/"
        },
        "id": "w6HPir2BBpg7",
        "outputId": "278545c2-42ee-4225-bb56-a3b4d2eaa936"
      },
      "source": [
        "model_dense = Sequential([\n",
        "    Flatten(input_shape=(28,28)),\n",
        "    Dense(128 , activation = relu),\n",
        "    Dense(10 , activation = softmax)\n",
        "])\n",
        "model_dense.compile(loss = categorical_crossentropy , optimizer = RMSprop() , metrics = ['acc'])\n",
        "model_dense.fit(train_data , train_label , epochs = 5)\n",
        "model_dense.evaluate(test_data , test_label)"
      ],
      "execution_count": 38,
      "outputs": [
        {
          "output_type": "stream",
          "text": [
            "Epoch 1/5\n",
            "1875/1875 [==============================] - 4s 2ms/step - loss: 0.2592 - acc: 0.9254\n",
            "Epoch 2/5\n",
            "1875/1875 [==============================] - 4s 2ms/step - loss: 0.1210 - acc: 0.9640\n",
            "Epoch 3/5\n",
            "1875/1875 [==============================] - 4s 2ms/step - loss: 0.0890 - acc: 0.9731\n",
            "Epoch 4/5\n",
            "1875/1875 [==============================] - 4s 2ms/step - loss: 0.0716 - acc: 0.9796\n",
            "Epoch 5/5\n",
            "1875/1875 [==============================] - 4s 2ms/step - loss: 0.0588 - acc: 0.9832\n",
            "313/313 [==============================] - 1s 2ms/step - loss: 0.0856 - acc: 0.9771\n"
          ],
          "name": "stdout"
        },
        {
          "output_type": "execute_result",
          "data": {
            "text/plain": [
              "[0.08561009913682938, 0.9771000146865845]"
            ]
          },
          "metadata": {
            "tags": []
          },
          "execution_count": 38
        }
      ]
    },
    {
      "cell_type": "code",
      "metadata": {
        "colab": {
          "base_uri": "https://localhost:8080/"
        },
        "id": "wD2aCvDrLWy_",
        "outputId": "92e135ab-ad2a-46c3-9515-970be056158a"
      },
      "source": [
        "model_simpledense = Sequential([\n",
        "    Flatten(input_shape=(28,28)),\n",
        "    SimpleDense(128),\n",
        "    Dense(10 , activation = softmax)\n",
        "])\n",
        "model_simpledense.compile(loss = categorical_crossentropy , optimizer = RMSprop() , metrics = ['acc'])\n",
        "model_simpledense.fit(train_data , train_label , epochs = 5)\n",
        "model_simpledense.evaluate(test_data , test_label)"
      ],
      "execution_count": 40,
      "outputs": [
        {
          "output_type": "stream",
          "text": [
            "Epoch 1/5\n",
            "1875/1875 [==============================] - 4s 2ms/step - loss: 0.3613 - acc: 0.8978\n",
            "Epoch 2/5\n",
            "1875/1875 [==============================] - 4s 2ms/step - loss: 0.3050 - acc: 0.9162\n",
            "Epoch 3/5\n",
            "1875/1875 [==============================] - 4s 2ms/step - loss: 0.2957 - acc: 0.9195\n",
            "Epoch 4/5\n",
            "1875/1875 [==============================] - 4s 2ms/step - loss: 0.2882 - acc: 0.9211\n",
            "Epoch 5/5\n",
            "1875/1875 [==============================] - 4s 2ms/step - loss: 0.2835 - acc: 0.9230\n",
            "313/313 [==============================] - 1s 2ms/step - loss: 0.2970 - acc: 0.9171\n"
          ],
          "name": "stdout"
        },
        {
          "output_type": "execute_result",
          "data": {
            "text/plain": [
              "[0.2970498502254486, 0.9171000123023987]"
            ]
          },
          "metadata": {
            "tags": []
          },
          "execution_count": 40
        }
      ]
    },
    {
      "cell_type": "code",
      "metadata": {
        "colab": {
          "base_uri": "https://localhost:8080/"
        },
        "id": "ohhFCp-DNHdf",
        "outputId": "8cb08eaa-47f8-49bf-a899-e29428057531"
      },
      "source": [
        "model_simpledense_lambda = Sequential([\n",
        "    Flatten(input_shape=(28,28)),\n",
        "    SimpleDense(128),\n",
        "    Lambda(lambda x : tf.abs(x)),\n",
        "    Dense(10 , activation = softmax)\n",
        "])\n",
        "model_simpledense_lambda.compile(loss = categorical_crossentropy , optimizer = RMSprop() , metrics = ['acc'])\n",
        "model_simpledense_lambda.fit(train_data , train_label , epochs = 5)\n",
        "model_simpledense_lambda.evaluate(test_data , test_label)"
      ],
      "execution_count": 44,
      "outputs": [
        {
          "output_type": "stream",
          "text": [
            "Epoch 1/5\n",
            "1875/1875 [==============================] - 4s 2ms/step - loss: 0.2126 - acc: 0.9388\n",
            "Epoch 2/5\n",
            "1875/1875 [==============================] - 4s 2ms/step - loss: 0.0944 - acc: 0.9712\n",
            "Epoch 3/5\n",
            "1875/1875 [==============================] - 4s 2ms/step - loss: 0.0677 - acc: 0.9795\n",
            "Epoch 4/5\n",
            "1875/1875 [==============================] - 4s 2ms/step - loss: 0.0522 - acc: 0.9841\n",
            "Epoch 5/5\n",
            "1875/1875 [==============================] - 4s 2ms/step - loss: 0.0407 - acc: 0.9876\n",
            "313/313 [==============================] - 1s 2ms/step - loss: 0.0831 - acc: 0.9780\n"
          ],
          "name": "stdout"
        },
        {
          "output_type": "execute_result",
          "data": {
            "text/plain": [
              "[0.08305937051773071, 0.9779999852180481]"
            ]
          },
          "metadata": {
            "tags": []
          },
          "execution_count": 44
        }
      ]
    }
  ]
}