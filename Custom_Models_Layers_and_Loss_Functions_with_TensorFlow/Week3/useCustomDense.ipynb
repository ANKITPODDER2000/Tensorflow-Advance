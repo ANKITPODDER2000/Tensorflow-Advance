{
  "nbformat": 4,
  "nbformat_minor": 0,
  "metadata": {
    "colab": {
      "name": "useCustomDense.ipynb",
      "provenance": []
    },
    "kernelspec": {
      "name": "python3",
      "display_name": "Python 3"
    },
    "accelerator": "GPU"
  },
  "cells": [
    {
      "cell_type": "code",
      "metadata": {
        "id": "XI3Webth6nD-"
      },
      "source": [
        "import tensorflow as tf\n",
        "print(\"Version of tensorflow is : \",tf.__version__)\n",
        "from tensorflow.keras.layers import Layer , Dense \n",
        "from tensorflow.keras.models import Sequential\n",
        "\n",
        "import numpy as np"
      ],
      "execution_count": null,
      "outputs": []
    },
    {
      "cell_type": "code",
      "metadata": {
        "id": "bP20UrCL6xeu"
      },
      "source": [
        "class MyDense(Layer):\n",
        "    def __init__(self , units = 32):\n",
        "        super(MyDense , self).__init__()\n",
        "        self.units = units\n",
        "    def build(self , input_shape):\n",
        "        w_init = tf.random_normal_initializer()\n",
        "        self.w = tf.Variable(initial_value=w_init((input_shape[-1] , self.units)) , trainable=True , dtype=tf.float32 ,name = \"kernal\")\n",
        "        b_init = tf.zeros_initializer()\n",
        "        self.b = tf.Variable(initial_value=b_init((self.units)) , trainable=True , dtype=tf.float32 ,name = \"bias\")\n",
        "    def call(self , inputs):\n",
        "        return tf.multiply(inputs , self.w) + self.b"
      ],
      "execution_count": 3,
      "outputs": []
    },
    {
      "cell_type": "code",
      "metadata": {
        "id": "-xehB9078WX-"
      },
      "source": [
        "xs = np.arange(-5,5,1).astype(np.float32)\n",
        "ys = xs * 2 - 1"
      ],
      "execution_count": 4,
      "outputs": []
    },
    {
      "cell_type": "code",
      "metadata": {
        "colab": {
          "base_uri": "https://localhost:8080/"
        },
        "id": "aSjFwEnZ8g5b",
        "outputId": "20e545b0-8e52-4641-eb88-6d58a3a0d843"
      },
      "source": [
        "model_dense = Sequential([\n",
        "    Dense(1 , input_shape=(1 ,))\n",
        "])\n",
        "model_dense.compile(loss = 'mse' , optimizer = 'sgd')\n",
        "model_dense.summary()\n",
        "model_dense.fit(xs , ys , epochs = 500 , verbose = 0)\n",
        "print(model_dense.predict([[10.0]]))\n",
        "print(model_dense.variables[0])\n",
        "print(model_dense.variables[1])"
      ],
      "execution_count": 13,
      "outputs": [
        {
          "output_type": "stream",
          "text": [
            "Model: \"sequential_7\"\n",
            "_________________________________________________________________\n",
            "Layer (type)                 Output Shape              Param #   \n",
            "=================================================================\n",
            "dense_4 (Dense)              (None, 1)                 2         \n",
            "=================================================================\n",
            "Total params: 2\n",
            "Trainable params: 2\n",
            "Non-trainable params: 0\n",
            "_________________________________________________________________\n",
            "WARNING:tensorflow:5 out of the last 5 calls to <function Model.make_predict_function.<locals>.predict_function at 0x7fa9be14c950> triggered tf.function retracing. Tracing is expensive and the excessive number of tracings could be due to (1) creating @tf.function repeatedly in a loop, (2) passing tensors with different shapes, (3) passing Python objects instead of tensors. For (1), please define your @tf.function outside of the loop. For (2), @tf.function has experimental_relax_shapes=True option that relaxes argument shapes that can avoid unnecessary retracing. For (3), please refer to https://www.tensorflow.org/tutorials/customization/performance#python_or_tensor_args and https://www.tensorflow.org/api_docs/python/tf/function for  more details.\n",
            "[[19.000074]]\n",
            "<tf.Variable 'dense_4/kernel:0' shape=(1, 1) dtype=float32, numpy=array([[2.000003]], dtype=float32)>\n",
            "<tf.Variable 'dense_4/bias:0' shape=(1,) dtype=float32, numpy=array([-0.9999566], dtype=float32)>\n"
          ],
          "name": "stdout"
        }
      ]
    },
    {
      "cell_type": "code",
      "metadata": {
        "colab": {
          "base_uri": "https://localhost:8080/"
        },
        "id": "-cZ_lOSE94Mc",
        "outputId": "8a102b78-6a48-4d4d-faa4-341489eedc33"
      },
      "source": [
        "m = MyDense(units = 1)\n",
        "model_MyDense = Sequential([m])\n",
        "model_MyDense.compile(loss = 'mse' , optimizer = 'sgd')\n",
        "model_MyDense.fit(xs , ys , epochs = 500 , verbose = 0)\n",
        "print(model_MyDense.predict([[10.0]]))\n",
        "print(model_MyDense.variables[0])\n",
        "print(model_MyDense.variables[1])"
      ],
      "execution_count": 14,
      "outputs": [
        {
          "output_type": "stream",
          "text": [
            "WARNING:tensorflow:6 out of the last 6 calls to <function Model.make_predict_function.<locals>.predict_function at 0x7fa9be089f28> triggered tf.function retracing. Tracing is expensive and the excessive number of tracings could be due to (1) creating @tf.function repeatedly in a loop, (2) passing tensors with different shapes, (3) passing Python objects instead of tensors. For (1), please define your @tf.function outside of the loop. For (2), @tf.function has experimental_relax_shapes=True option that relaxes argument shapes that can avoid unnecessary retracing. For (3), please refer to https://www.tensorflow.org/tutorials/customization/performance#python_or_tensor_args and https://www.tensorflow.org/api_docs/python/tf/function for  more details.\n",
            "[[19.000086]]\n",
            "<tf.Variable 'my_dense_3/kernal:0' shape=(1, 1) dtype=float32, numpy=array([[2.0000036]], dtype=float32)>\n",
            "<tf.Variable 'my_dense_3/bias:0' shape=(1,) dtype=float32, numpy=array([-0.9999501], dtype=float32)>\n"
          ],
          "name": "stdout"
        }
      ]
    }
  ]
}