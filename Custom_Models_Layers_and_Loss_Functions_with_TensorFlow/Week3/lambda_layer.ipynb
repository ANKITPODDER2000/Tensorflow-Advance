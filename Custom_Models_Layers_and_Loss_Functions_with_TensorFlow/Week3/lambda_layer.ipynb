{
  "nbformat": 4,
  "nbformat_minor": 0,
  "metadata": {
    "colab": {
      "name": "lambda_layer.ipynb",
      "provenance": []
    },
    "kernelspec": {
      "name": "python3",
      "display_name": "Python 3"
    },
    "accelerator": "GPU"
  },
  "cells": [
    {
      "cell_type": "code",
      "metadata": {
        "id": "C9BMsKXZ_cbn",
        "colab": {
          "base_uri": "https://localhost:8080/"
        },
        "outputId": "4ae593cb-00a6-4866-a7b3-a03152dc8ef3"
      },
      "source": [
        "import tensorflow as tf\n",
        "from tensorflow.keras.layers import  Dense , Input , Lambda , Flatten\n",
        "from tensorflow.keras.models import Model\n",
        "from tensorflow.nn import relu , softmax\n",
        "from tensorflow.keras.losses import categorical_crossentropy\n",
        "from tensorflow.keras.optimizers import RMSprop\n",
        "from tensorflow.keras import backend as k\n",
        "from tensorflow.keras.datasets import mnist\n",
        "from tensorflow.keras.utils import to_categorical\n",
        "print(\"Version of tensorflow is : \",tf.__version__)\n",
        "\n",
        "import numpy as np"
      ],
      "execution_count": 1,
      "outputs": [
        {
          "output_type": "stream",
          "text": [
            "Version of tensorflow is :  2.3.0\n"
          ],
          "name": "stdout"
        }
      ]
    },
    {
      "cell_type": "code",
      "metadata": {
        "colab": {
          "base_uri": "https://localhost:8080/"
        },
        "id": "vgOM9Dsu_iMn",
        "outputId": "e0a233cd-a7ee-4af5-b4d8-1816c3e6c304"
      },
      "source": [
        "(train_data , train_label) , (test_data , test_label) = mnist.load_data()\n",
        "\n",
        "train_data = train_data / 255.0\n",
        "test_data  = test_data  / 255.0\n",
        "\n",
        "train_label = to_categorical(train_label)\n",
        "test_label  = to_categorical( test_label)"
      ],
      "execution_count": 2,
      "outputs": [
        {
          "output_type": "stream",
          "text": [
            "Downloading data from https://storage.googleapis.com/tensorflow/tf-keras-datasets/mnist.npz\n",
            "11493376/11490434 [==============================] - 0s 0us/step\n"
          ],
          "name": "stdout"
        }
      ]
    },
    {
      "cell_type": "code",
      "metadata": {
        "id": "Oxcl_9L3A8ll"
      },
      "source": [
        "input = Input(shape=(28 , 28) , name=\"input_layer\")\n",
        "flatten = Flatten(name=\"flatten_layer\")(input)"
      ],
      "execution_count": 3,
      "outputs": []
    },
    {
      "cell_type": "code",
      "metadata": {
        "colab": {
          "base_uri": "https://localhost:8080/"
        },
        "id": "TWrk3WxgBInd",
        "outputId": "08451392-dba3-4cb0-ee31-83f8afdcbb5e"
      },
      "source": [
        "layer_with_activation = Dense(128 , activation=relu , name='layer_with_activation')(flatten)\n",
        "output_layer_with_activation = Dense(10 , activation=softmax , name=\"output_layer_with_activation\")(layer_with_activation)\n",
        "model_with_activation = Model(inputs = input , outputs = output_layer_with_activation)\n",
        "model_with_activation.compile(optimizer = RMSprop() , loss = categorical_crossentropy , metrics = ['acc'])\n",
        "model_with_activation.summary()\n",
        "model_with_activation.fit(train_data , train_label , epochs=5)\n",
        "model_with_activation.evaluate(test_data , test_label)"
      ],
      "execution_count": 4,
      "outputs": [
        {
          "output_type": "stream",
          "text": [
            "Model: \"functional_1\"\n",
            "_________________________________________________________________\n",
            "Layer (type)                 Output Shape              Param #   \n",
            "=================================================================\n",
            "input_layer (InputLayer)     [(None, 28, 28)]          0         \n",
            "_________________________________________________________________\n",
            "flatten_layer (Flatten)      (None, 784)               0         \n",
            "_________________________________________________________________\n",
            "layer_with_activation (Dense (None, 128)               100480    \n",
            "_________________________________________________________________\n",
            "output_layer_with_activation (None, 10)                1290      \n",
            "=================================================================\n",
            "Total params: 101,770\n",
            "Trainable params: 101,770\n",
            "Non-trainable params: 0\n",
            "_________________________________________________________________\n",
            "Epoch 1/5\n",
            "1875/1875 [==============================] - 4s 2ms/step - loss: 0.2567 - acc: 0.9267\n",
            "Epoch 2/5\n",
            "1875/1875 [==============================] - 4s 2ms/step - loss: 0.1208 - acc: 0.9646\n",
            "Epoch 3/5\n",
            "1875/1875 [==============================] - 4s 2ms/step - loss: 0.0899 - acc: 0.9741\n",
            "Epoch 4/5\n",
            "1875/1875 [==============================] - 4s 2ms/step - loss: 0.0726 - acc: 0.9787\n",
            "Epoch 5/5\n",
            "1875/1875 [==============================] - 4s 2ms/step - loss: 0.0610 - acc: 0.9823\n",
            "313/313 [==============================] - 1s 2ms/step - loss: 0.1111 - acc: 0.9705\n"
          ],
          "name": "stdout"
        },
        {
          "output_type": "execute_result",
          "data": {
            "text/plain": [
              "[0.11111391335725784, 0.9704999923706055]"
            ]
          },
          "metadata": {
            "tags": []
          },
          "execution_count": 4
        }
      ]
    },
    {
      "cell_type": "code",
      "metadata": {
        "colab": {
          "base_uri": "https://localhost:8080/"
        },
        "id": "blLQftPxCVoA",
        "outputId": "0553c7fc-05a2-475a-a113-259d9a56acac"
      },
      "source": [
        "layer_without_activation = Dense(128 , name='layer_without_activation')(flatten)\n",
        "output_layer_without_activation = Dense(10 , activation=softmax , name=\"output_layer_with_activation\")(layer_without_activation)\n",
        "model_without_activation = Model(inputs = input , outputs = output_layer_without_activation)\n",
        "model_without_activation.compile(optimizer = RMSprop() , loss = categorical_crossentropy , metrics = ['acc'])\n",
        "model_without_activation.summary()\n",
        "model_without_activation.fit(train_data , train_label , epochs=5)\n",
        "model_without_activation.evaluate(test_data , test_label)"
      ],
      "execution_count": 5,
      "outputs": [
        {
          "output_type": "stream",
          "text": [
            "Model: \"functional_3\"\n",
            "_________________________________________________________________\n",
            "Layer (type)                 Output Shape              Param #   \n",
            "=================================================================\n",
            "input_layer (InputLayer)     [(None, 28, 28)]          0         \n",
            "_________________________________________________________________\n",
            "flatten_layer (Flatten)      (None, 784)               0         \n",
            "_________________________________________________________________\n",
            "layer_without_activation (De (None, 128)               100480    \n",
            "_________________________________________________________________\n",
            "output_layer_with_activation (None, 10)                1290      \n",
            "=================================================================\n",
            "Total params: 101,770\n",
            "Trainable params: 101,770\n",
            "Non-trainable params: 0\n",
            "_________________________________________________________________\n",
            "Epoch 1/5\n",
            "1875/1875 [==============================] - 4s 2ms/step - loss: 0.3599 - acc: 0.8986\n",
            "Epoch 2/5\n",
            "1875/1875 [==============================] - 4s 2ms/step - loss: 0.3075 - acc: 0.9143\n",
            "Epoch 3/5\n",
            "1875/1875 [==============================] - 4s 2ms/step - loss: 0.2948 - acc: 0.9184\n",
            "Epoch 4/5\n",
            "1875/1875 [==============================] - 4s 2ms/step - loss: 0.2890 - acc: 0.9209\n",
            "Epoch 5/5\n",
            "1875/1875 [==============================] - 4s 2ms/step - loss: 0.2846 - acc: 0.9224\n",
            "313/313 [==============================] - 1s 2ms/step - loss: 0.2871 - acc: 0.9218\n"
          ],
          "name": "stdout"
        },
        {
          "output_type": "execute_result",
          "data": {
            "text/plain": [
              "[0.2871132791042328, 0.9218000173568726]"
            ]
          },
          "metadata": {
            "tags": []
          },
          "execution_count": 5
        }
      ]
    },
    {
      "cell_type": "code",
      "metadata": {
        "colab": {
          "base_uri": "https://localhost:8080/"
        },
        "id": "pdnRp2WhCgxl",
        "outputId": "5dbd5520-389a-4239-e577-001f3e2a95b4"
      },
      "source": [
        "model_lambda = tf.keras.models.Sequential([\n",
        "    tf.keras.layers.Flatten(input_shape=(28,28)),\n",
        "    tf.keras.layers.Dense(128),\n",
        "    tf.keras.layers.Lambda(lambda x : tf.abs(x)),\n",
        "    tf.keras.layers.Dense(10 , activation='softmax')\n",
        "])\n",
        "\n",
        "model_lambda.compile(optimizer = RMSprop() , loss = categorical_crossentropy , metrics = ['acc'])\n",
        "model_lambda.summary()\n",
        "model_lambda.fit(train_data , train_label , epochs=5)\n",
        "model_lambda.evaluate(test_data , test_label)"
      ],
      "execution_count": 6,
      "outputs": [
        {
          "output_type": "stream",
          "text": [
            "Model: \"sequential\"\n",
            "_________________________________________________________________\n",
            "Layer (type)                 Output Shape              Param #   \n",
            "=================================================================\n",
            "flatten (Flatten)            (None, 784)               0         \n",
            "_________________________________________________________________\n",
            "dense (Dense)                (None, 128)               100480    \n",
            "_________________________________________________________________\n",
            "lambda (Lambda)              (None, 128)               0         \n",
            "_________________________________________________________________\n",
            "dense_1 (Dense)              (None, 10)                1290      \n",
            "=================================================================\n",
            "Total params: 101,770\n",
            "Trainable params: 101,770\n",
            "Non-trainable params: 0\n",
            "_________________________________________________________________\n",
            "Epoch 1/5\n",
            "1875/1875 [==============================] - 4s 2ms/step - loss: 0.2102 - acc: 0.9393\n",
            "Epoch 2/5\n",
            "1875/1875 [==============================] - 4s 2ms/step - loss: 0.0923 - acc: 0.9725\n",
            "Epoch 3/5\n",
            "1875/1875 [==============================] - 4s 2ms/step - loss: 0.0669 - acc: 0.9802\n",
            "Epoch 4/5\n",
            "1875/1875 [==============================] - 4s 2ms/step - loss: 0.0535 - acc: 0.9838\n",
            "Epoch 5/5\n",
            "1875/1875 [==============================] - 4s 2ms/step - loss: 0.0418 - acc: 0.9876\n",
            "313/313 [==============================] - 1s 2ms/step - loss: 0.0893 - acc: 0.9766\n"
          ],
          "name": "stdout"
        },
        {
          "output_type": "execute_result",
          "data": {
            "text/plain": [
              "[0.0892840176820755, 0.9765999913215637]"
            ]
          },
          "metadata": {
            "tags": []
          },
          "execution_count": 6
        }
      ]
    },
    {
      "cell_type": "code",
      "metadata": {
        "id": "98IH6RtWCj7e"
      },
      "source": [
        "def myRelu(x):\n",
        "    return k.maximum(x , 0.0)"
      ],
      "execution_count": 8,
      "outputs": []
    },
    {
      "cell_type": "code",
      "metadata": {
        "colab": {
          "base_uri": "https://localhost:8080/"
        },
        "id": "0SSpUCylRRgc",
        "outputId": "8ca51d43-96a5-4861-9ff4-b41cd30cb031"
      },
      "source": [
        "model_lambda_func = tf.keras.models.Sequential([\n",
        "    tf.keras.layers.Flatten(input_shape=(28,28)),\n",
        "    tf.keras.layers.Dense(128),\n",
        "    tf.keras.layers.Lambda(myRelu),\n",
        "    tf.keras.layers.Dense(10 , activation='softmax')\n",
        "])\n",
        "\n",
        "model_lambda_func.compile(optimizer = RMSprop() , loss = categorical_crossentropy , metrics = ['acc'])\n",
        "model_lambda_func.summary()\n",
        "model_lambda_func.fit(train_data , train_label , epochs=5)\n",
        "model_lambda_func.evaluate(test_data , test_label)"
      ],
      "execution_count": 9,
      "outputs": [
        {
          "output_type": "stream",
          "text": [
            "Model: \"sequential_1\"\n",
            "_________________________________________________________________\n",
            "Layer (type)                 Output Shape              Param #   \n",
            "=================================================================\n",
            "flatten_1 (Flatten)          (None, 784)               0         \n",
            "_________________________________________________________________\n",
            "dense_2 (Dense)              (None, 128)               100480    \n",
            "_________________________________________________________________\n",
            "lambda_1 (Lambda)            (None, 128)               0         \n",
            "_________________________________________________________________\n",
            "dense_3 (Dense)              (None, 10)                1290      \n",
            "=================================================================\n",
            "Total params: 101,770\n",
            "Trainable params: 101,770\n",
            "Non-trainable params: 0\n",
            "_________________________________________________________________\n",
            "Epoch 1/5\n",
            "1875/1875 [==============================] - 4s 2ms/step - loss: 0.2563 - acc: 0.9263\n",
            "Epoch 2/5\n",
            "1875/1875 [==============================] - 4s 2ms/step - loss: 0.1200 - acc: 0.9651\n",
            "Epoch 3/5\n",
            "1875/1875 [==============================] - 4s 2ms/step - loss: 0.0889 - acc: 0.9752\n",
            "Epoch 4/5\n",
            "1875/1875 [==============================] - 4s 2ms/step - loss: 0.0713 - acc: 0.9796\n",
            "Epoch 5/5\n",
            "1875/1875 [==============================] - 4s 2ms/step - loss: 0.0598 - acc: 0.9834\n",
            "313/313 [==============================] - 1s 2ms/step - loss: 0.0915 - acc: 0.9750\n"
          ],
          "name": "stdout"
        },
        {
          "output_type": "execute_result",
          "data": {
            "text/plain": [
              "[0.09150034934282303, 0.9750000238418579]"
            ]
          },
          "metadata": {
            "tags": []
          },
          "execution_count": 9
        }
      ]
    }
  ]
}