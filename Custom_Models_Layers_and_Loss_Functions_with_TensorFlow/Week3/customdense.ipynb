{
  "nbformat": 4,
  "nbformat_minor": 0,
  "metadata": {
    "colab": {
      "name": "customdense.ipynb",
      "provenance": []
    },
    "kernelspec": {
      "name": "python3",
      "display_name": "Python 3"
    }
  },
  "cells": [
    {
      "cell_type": "code",
      "metadata": {
        "id": "Wa4AXXw-mvuZ"
      },
      "source": [
        "import tensorflow as tf\n",
        "import numpy as np"
      ],
      "execution_count": null,
      "outputs": []
    },
    {
      "cell_type": "code",
      "metadata": {
        "id": "7MiHa1kcoezd"
      },
      "source": [
        "class SimpleDense(tf.keras.layers.Layer):\n",
        "    def __init__(self , units):\n",
        "        super(SimpleDense , self).__init__()\n",
        "        self.units = units\n",
        "    def build(self , input_shape):\n",
        "        w_init = tf.random_normal_initializer()\n",
        "        self.w = tf.Variable(initial_value=w_init((input_shape[-1] , self.units)) , trainable=True , dtype=tf.float32 , name=\"kernal\")\n",
        "        b_init = tf.zeros_initializer()\n",
        "        self.b = tf.Variable(initial_value=b_init((self.units)) , trainable=True , dtype=tf.float32 , name=\"bias\")\n",
        "    def call(self , inputs):\n",
        "        return tf.multiply(inputs , self.w) + self.b"
      ],
      "execution_count": 18,
      "outputs": []
    },
    {
      "cell_type": "code",
      "metadata": {
        "colab": {
          "base_uri": "https://localhost:8080/"
        },
        "id": "3oddGL4Go2bD",
        "outputId": "67bbc660-f78b-4f55-aed8-45c336ce3133"
      },
      "source": [
        "dense = SimpleDense(units = 1)\n",
        "x = tf.zeros((1,1))\n",
        "y = dense(x)\n",
        "dense.variables"
      ],
      "execution_count": 21,
      "outputs": [
        {
          "output_type": "execute_result",
          "data": {
            "text/plain": [
              "[<tf.Variable 'simple_dense_8/kernal:0' shape=(1, 1) dtype=float32, numpy=array([[0.0854066]], dtype=float32)>,\n",
              " <tf.Variable 'simple_dense_8/bias:0' shape=(1,) dtype=float32, numpy=array([0.], dtype=float32)>]"
            ]
          },
          "metadata": {
            "tags": []
          },
          "execution_count": 21
        }
      ]
    },
    {
      "cell_type": "code",
      "metadata": {
        "colab": {
          "base_uri": "https://localhost:8080/"
        },
        "id": "YgEu8Zarp2l9",
        "outputId": "4dbc457c-8b29-437a-97e9-e98b5dfb4365"
      },
      "source": [
        "dense = SimpleDense(units = 4)\n",
        "x = tf.zeros((4,4))\n",
        "y = dense(x)\n",
        "dense.variables"
      ],
      "execution_count": 28,
      "outputs": [
        {
          "output_type": "execute_result",
          "data": {
            "text/plain": [
              "[<tf.Variable 'simple_dense_15/kernal:0' shape=(4, 4) dtype=float32, numpy=\n",
              " array([[ 0.02171886,  0.02688427, -0.02691352, -0.0242421 ],\n",
              "        [ 0.07603128,  0.02845065, -0.06020697,  0.03228346],\n",
              "        [-0.01537105, -0.04279642,  0.02321936,  0.0312901 ],\n",
              "        [-0.01489764, -0.07232852,  0.02085378, -0.08890822]],\n",
              "       dtype=float32)>,\n",
              " <tf.Variable 'simple_dense_15/bias:0' shape=(4,) dtype=float32, numpy=array([0., 0., 0., 0.], dtype=float32)>]"
            ]
          },
          "metadata": {
            "tags": []
          },
          "execution_count": 28
        }
      ]
    }
  ]
}