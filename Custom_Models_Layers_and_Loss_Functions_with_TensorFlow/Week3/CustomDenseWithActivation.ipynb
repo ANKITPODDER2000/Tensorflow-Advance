{
  "nbformat": 4,
  "nbformat_minor": 0,
  "metadata": {
    "colab": {
      "name": "CustomDenseWithActivation.ipynb",
      "provenance": [],
      "collapsed_sections": []
    },
    "kernelspec": {
      "name": "python3",
      "display_name": "Python 3"
    },
    "accelerator": "GPU"
  },
  "cells": [
    {
      "cell_type": "code",
      "metadata": {
        "id": "2d-3H7rb0at0"
      },
      "source": [
        "import tensorflow as tf\n",
        "print(\"Version of tensorflow is : \",tf.__version__)\n",
        "from tensorflow.keras.layers import Layer , Dense , Flatten\n",
        "from tensorflow.keras.models import Sequential\n",
        "from tensorflow.keras.datasets import mnist\n",
        "from tensorflow.keras.losses import categorical_crossentropy\n",
        "from tensorflow.keras.optimizers import RMSprop\n",
        "from tensorflow.nn import softmax , relu"
      ],
      "execution_count": null,
      "outputs": []
    },
    {
      "cell_type": "code",
      "metadata": {
        "id": "DMoFoFEO0o6b"
      },
      "source": [
        "(train_data , train_label) , (test_data , test_label) = mnist.load_data()\n",
        "\n",
        "train_data = train_data / 255.0\n",
        "test_data  = test_data  / 255.0\n",
        "\n",
        "train_label = tf.keras.utils.to_categorical(train_label)\n",
        "test_label  = tf.keras.utils.to_categorical(test_label)"
      ],
      "execution_count": 5,
      "outputs": []
    },
    {
      "cell_type": "markdown",
      "metadata": {
        "id": "7UBm5gbU10eI"
      },
      "source": [
        "---\n",
        "\n",
        "Define Class for **custom Dense layer**\n",
        "\n",
        "---"
      ]
    },
    {
      "cell_type": "code",
      "metadata": {
        "id": "_QEjVS9r1y9P"
      },
      "source": [
        "class MyDenseLayer(Layer):\n",
        "    def __init__(self , units = 32 ):\n",
        "        super(MyDenseLayer , self).__init__()\n",
        "        self.units = units\n",
        "\n",
        "    def build(self , input_shape):\n",
        "        w_init = tf.random_normal_initializer()\n",
        "        b_init = tf.zeros_initializer()\n",
        "\n",
        "        self.w = tf.Variable(initial_value=w_init(shape=(input_shape[-1] , self.units) , dtype=\"float32\") , trainable=True , name=\"kernal\")\n",
        "        self.b = tf.Variable(initial_value=b_init(shape=(self.units , ) , dtype=\"float32\") , trainable=True , name=\"bias\")\n",
        "    def call(self , inputs):\n",
        "        return tf.matmul(inputs , self.w) + self.b"
      ],
      "execution_count": 6,
      "outputs": []
    },
    {
      "cell_type": "code",
      "metadata": {
        "colab": {
          "base_uri": "https://localhost:8080/"
        },
        "id": "BMsZsLfa84Zu",
        "outputId": "c264e743-c1ab-4ed0-8247-717a7ca0bf88"
      },
      "source": [
        "model_simpledense = Sequential([\n",
        "    Flatten(input_shape=(28,28)),\n",
        "    MyDenseLayer(128),\n",
        "    Dense(10 , activation = softmax)\n",
        "])\n",
        "model_simpledense.compile(loss = categorical_crossentropy , optimizer = RMSprop() , metrics = ['acc'])\n",
        "model_simpledense.fit(train_data , train_label , epochs = 5)\n",
        "model_simpledense.evaluate(test_data , test_label)"
      ],
      "execution_count": 9,
      "outputs": [
        {
          "output_type": "stream",
          "text": [
            "Epoch 1/5\n",
            "1875/1875 [==============================] - 4s 2ms/step - loss: 0.3588 - acc: 0.8976\n",
            "Epoch 2/5\n",
            "1875/1875 [==============================] - 4s 2ms/step - loss: 0.3058 - acc: 0.9151\n",
            "Epoch 3/5\n",
            "1875/1875 [==============================] - 4s 2ms/step - loss: 0.2944 - acc: 0.9189\n",
            "Epoch 4/5\n",
            "1875/1875 [==============================] - 4s 2ms/step - loss: 0.2886 - acc: 0.9202\n",
            "Epoch 5/5\n",
            "1875/1875 [==============================] - 4s 2ms/step - loss: 0.2840 - acc: 0.9221\n",
            "313/313 [==============================] - 1s 2ms/step - loss: 0.2955 - acc: 0.9179\n"
          ],
          "name": "stdout"
        },
        {
          "output_type": "execute_result",
          "data": {
            "text/plain": [
              "[0.29549700021743774, 0.917900025844574]"
            ]
          },
          "metadata": {
            "tags": []
          },
          "execution_count": 9
        }
      ]
    },
    {
      "cell_type": "markdown",
      "metadata": {
        "id": "tz-kfIJl-2Eu"
      },
      "source": [
        "**Custom Dense Layer class with activation parameter**\n",
        "\n",
        "---\n",
        "\n",
        "```pyhton \n",
        "def __init__(self , units = 32 ,activation = None):\n",
        "```\n",
        "\n",
        "\n",
        "*   units  -> No of nurons in the dense layer\n",
        "*   activation -> Activation type(```string | instance of any object```) **Default (None)**\n",
        "\n",
        "\n"
      ]
    },
    {
      "cell_type": "code",
      "metadata": {
        "id": "Sx1FXz559rFs"
      },
      "source": [
        "class MyDenseLayerwithActivation(Layer):\n",
        "    def __init__(self , units = 32 ,activation = None):\n",
        "        super(MyDenseLayerwithActivation , self).__init__()\n",
        "        self.units = units\n",
        "        self.activation = activation\n",
        "\n",
        "    def build(self , input_shape):\n",
        "        w_init = tf.random_normal_initializer()\n",
        "        b_init = tf.zeros_initializer()\n",
        "\n",
        "        self.w = tf.Variable(initial_value=w_init(shape=(input_shape[-1] , self.units) , dtype=\"float32\") , trainable=True , name=\"kernal\")\n",
        "        self.b = tf.Variable(initial_value=b_init(shape=(self.units , ) , dtype=\"float32\") , trainable=True , name=\"bias\")\n",
        "    def call(self , inputs):\n",
        "        return self.activation( tf.matmul(inputs , self.w) + self.b )"
      ],
      "execution_count": 10,
      "outputs": []
    },
    {
      "cell_type": "code",
      "metadata": {
        "colab": {
          "base_uri": "https://localhost:8080/"
        },
        "id": "Vr2Jud9H-x_V",
        "outputId": "3cd86622-3f61-444e-80a5-60feba1420de"
      },
      "source": [
        "model_simpledense_activation = Sequential([\n",
        "    Flatten(input_shape=(28,28)),\n",
        "    MyDenseLayerwithActivation(units = 128 , activation=relu),\n",
        "    MyDenseLayerwithActivation(10 , activation = softmax)\n",
        "])\n",
        "model_simpledense_activation.compile(loss = categorical_crossentropy , optimizer = RMSprop() , metrics = ['acc'])\n",
        "model_simpledense_activation.fit(train_data , train_label , epochs = 5)\n",
        "model_simpledense_activation.evaluate(test_data , test_label)"
      ],
      "execution_count": 13,
      "outputs": [
        {
          "output_type": "stream",
          "text": [
            "Epoch 1/5\n",
            "1875/1875 [==============================] - 4s 2ms/step - loss: 0.2915 - acc: 0.9189\n",
            "Epoch 2/5\n",
            "1875/1875 [==============================] - 4s 2ms/step - loss: 0.1336 - acc: 0.9618\n",
            "Epoch 3/5\n",
            "1875/1875 [==============================] - 4s 2ms/step - loss: 0.0965 - acc: 0.9723\n",
            "Epoch 4/5\n",
            "1875/1875 [==============================] - 4s 2ms/step - loss: 0.0773 - acc: 0.9778\n",
            "Epoch 5/5\n",
            "1875/1875 [==============================] - 4s 2ms/step - loss: 0.0645 - acc: 0.9818\n",
            "313/313 [==============================] - 1s 2ms/step - loss: 0.1046 - acc: 0.9722\n"
          ],
          "name": "stdout"
        },
        {
          "output_type": "execute_result",
          "data": {
            "text/plain": [
              "[0.10457959026098251, 0.9721999764442444]"
            ]
          },
          "metadata": {
            "tags": []
          },
          "execution_count": 13
        }
      ]
    }
  ]
}