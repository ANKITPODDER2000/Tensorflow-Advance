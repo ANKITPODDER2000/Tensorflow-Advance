{
  "nbformat": 4,
  "nbformat_minor": 0,
  "metadata": {
    "colab": {
      "name": "resnet.ipynb",
      "provenance": []
    },
    "kernelspec": {
      "name": "python3",
      "display_name": "Python 3"
    }
  },
  "cells": [
    {
      "cell_type": "code",
      "metadata": {
        "id": "j3rZ78_veaiL"
      },
      "source": [
        "import tensorflow as tf\n",
        "from tensorflow.keras.layers import Layer , Conv2D , Dense\n",
        "from tensorflow.keras.models import Model\n",
        "from tensorflow.nn import relu\n",
        "print(\"Version of tensorflow is : \",tf.__version__)"
      ],
      "execution_count": null,
      "outputs": []
    },
    {
      "cell_type": "code",
      "metadata": {
        "id": "Xf7Hmr97ek5R"
      },
      "source": [
        "class CNNResidual(Layer):\n",
        "    def __init__(self , filter , layers , *kwarg):\n",
        "        super().__init__()\n",
        "        self.convBlock = [Conv2D(filter , (3,3) , activation=relu) for _ in range(layers)]\n",
        "    def call(self , inputs):\n",
        "        x = inputs\n",
        "        for layer in self.convBlock:\n",
        "            x = layer(x)\n",
        "        return inputs + x"
      ],
      "execution_count": 4,
      "outputs": []
    },
    {
      "cell_type": "code",
      "metadata": {
        "id": "AKUOY_PagxIX"
      },
      "source": [
        "class DNNResidual(Layer):\n",
        "    def __init__(self , neurons , layers , *kwarg):\n",
        "        super().__init__()\n",
        "        self.denseBlock = [Dense(neurons , activation=relu) for _ in range(layers)]\n",
        "    def call(self , inputs):\n",
        "        x = inputs\n",
        "        for layer in self.denseBlock:\n",
        "            x = layer(x)\n",
        "        return inputs + x"
      ],
      "execution_count": 5,
      "outputs": []
    },
    {
      "cell_type": "code",
      "metadata": {
        "id": "K-ZmedAPhEWG"
      },
      "source": [
        "class MyComplexModel(Model):\n",
        "    def __init__(self , **kwargs):\n",
        "        super().__init__(kwargs)\n",
        "        self.cnnBlock  = CNNResidual(32 , 2)\n",
        "        self.dnnBlock  = DNNResidual(64 , 2)\n",
        "        self.hiden1    = Dense(32 , activation=relu) \n",
        "        self.output    = Dense(1) \n",
        "    def call(self , input):\n",
        "        x = self.hidden1(input)\n",
        "        x = self.cnnBlock(x)\n",
        "        for _ in range(3):\n",
        "            x = self.dnnBlock(x)\n",
        "        x = self.output(x)\n",
        "\n",
        "        return x"
      ],
      "execution_count": 6,
      "outputs": []
    }
  ]
}