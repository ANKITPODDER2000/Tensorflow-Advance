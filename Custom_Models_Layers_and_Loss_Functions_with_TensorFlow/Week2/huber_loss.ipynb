{
  "nbformat": 4,
  "nbformat_minor": 0,
  "metadata": {
    "colab": {
      "name": "huber_loss.ipynb",
      "provenance": []
    },
    "kernelspec": {
      "name": "python3",
      "display_name": "Python 3"
    },
    "accelerator": "GPU"
  },
  "cells": [
    {
      "cell_type": "code",
      "metadata": {
        "id": "bSbMsPKxn7-y"
      },
      "source": [
        "import tensorflow as tf\n",
        "from tensorflow.keras.layers import Dense , Input\n",
        "import numpy as np\n",
        "print(\"Version of tensorflow is : \",tf.__version__)\n",
        "from tensorflow.python.keras.utils.vis_utils import plot_model\n",
        "\n",
        "import matplotlib.pyplot as plt\n",
        "%matplotlib inline\n",
        "import seaborn as sns\n",
        "sns.set_style(\"darkgrid\")"
      ],
      "execution_count": null,
      "outputs": []
    },
    {
      "cell_type": "code",
      "metadata": {
        "colab": {
          "base_uri": "https://localhost:8080/",
          "height": 282
        },
        "id": "bL-zb4EIpGcJ",
        "outputId": "d7f362e8-9572-4b52-a927-96e819c85dbf"
      },
      "source": [
        "xs = np.arange(-5,5,1).astype('float32')\n",
        "ys = xs * 2 - 1\n",
        "plt.plot(xs , ys,'o--')"
      ],
      "execution_count": 4,
      "outputs": [
        {
          "output_type": "execute_result",
          "data": {
            "text/plain": [
              "[<matplotlib.lines.Line2D at 0x7f938ed168d0>]"
            ]
          },
          "metadata": {
            "tags": []
          },
          "execution_count": 4
        },
        {
          "output_type": "display_data",
          "data": {
            "image/png": "[encoded data removed]",
            "text/plain": [
              "<Figure size 432x288 with 1 Axes>"
            ]
          },
          "metadata": {
            "tags": []
          }
        }
      ]
    },
    {
      "cell_type": "markdown",
      "metadata": {
        "id": "HSN33W29plH0"
      },
      "source": [
        "Model using **MSE** loss"
      ]
    },
    {
      "cell_type": "code",
      "metadata": {
        "colab": {
          "base_uri": "https://localhost:8080/"
        },
        "id": "3WN27Tnmpe4m",
        "outputId": "b446f4a1-ab97-46a9-9b92-b1a6f1af696c"
      },
      "source": [
        "input = Input(shape=(1,) , name=\"input_layer\")\n",
        "output_layer = Dense(1 , name=\"output_layer\")(input)\n",
        "model_mse_loss = tf.keras.models.Model(inputs=input , outputs=output_layer)\n",
        "model_mse_loss.compile(optimizer=\"sgd\" , loss=\"mse\")\n",
        "model_mse_loss.fit(xs,ys,epochs=500,verbose=0)\n",
        "model_mse_loss.predict([[10.0]])"
      ],
      "execution_count": 7,
      "outputs": [
        {
          "output_type": "execute_result",
          "data": {
            "text/plain": [
              "array([[19.000095]], dtype=float32)"
            ]
          },
          "metadata": {
            "tags": []
          },
          "execution_count": 7
        }
      ]
    },
    {
      "cell_type": "code",
      "metadata": {
        "colab": {
          "base_uri": "https://localhost:8080/"
        },
        "id": "hXSSJejBsS9c",
        "outputId": "c89d3107-bbe8-45dd-ac30-034b3a794386"
      },
      "source": [
        "model_mse_loss.get_weights()"
      ],
      "execution_count": 13,
      "outputs": [
        {
          "output_type": "execute_result",
          "data": {
            "text/plain": [
              "[array([[2.000004]], dtype=float32), array([-0.9999439], dtype=float32)]"
            ]
          },
          "metadata": {
            "tags": []
          },
          "execution_count": 13
        }
      ]
    },
    {
      "cell_type": "code",
      "metadata": {
        "colab": {
          "base_uri": "https://localhost:8080/",
          "height": 201
        },
        "id": "zOxJIMZutUzv",
        "outputId": "3d2a5512-29f4-4a09-b50e-68f3f2a9d28f"
      },
      "source": [
        "plot_model(model_mse_loss , to_file=\"mse_loss_model.png\" , show_layer_names=True , show_shapes=True)"
      ],
      "execution_count": 16,
      "outputs": [
        {
          "output_type": "execute_result",
          "data": {
            "image/png": "[encoded data removed]",
            "text/plain": [
              "<IPython.core.display.Image object>"
            ]
          },
          "metadata": {
            "tags": []
          },
          "execution_count": 16
        }
      ]
    },
    {
      "cell_type": "markdown",
      "metadata": {
        "id": "FLRjO-dOq5nC"
      },
      "source": [
        "Model with **Huber** Loss"
      ]
    },
    {
      "cell_type": "code",
      "metadata": {
        "id": "GREo7_zoqc2Q"
      },
      "source": [
        "def huber_loss(y_true , y_pred):\n",
        "    thresold = 1\n",
        "    error = y_true - y_pred\n",
        "    return_type = tf.abs(error) <= thresold\n",
        "    r1 = 0.5 * tf.square(error)\n",
        "    r2 = thresold * (tf.abs(error) - (0.5*thresold))\n",
        "    return tf.where(return_type , r1 , r2)"
      ],
      "execution_count": 10,
      "outputs": []
    },
    {
      "cell_type": "code",
      "metadata": {
        "colab": {
          "base_uri": "https://localhost:8080/"
        },
        "id": "AZFAtDY9r4Cx",
        "outputId": "daf1cc74-7f8b-4e2d-eb31-558ff6763704"
      },
      "source": [
        "input = Input(shape=(1,) , name=\"input_layer\")\n",
        "output_layer = Dense(1 , name=\"output_layer\")(input)\n",
        "model_huber_loss = tf.keras.models.Model(inputs=input , outputs=output_layer)\n",
        "model_huber_loss.compile(optimizer=\"sgd\" , loss=huber_loss)\n",
        "model_huber_loss.fit(xs,ys,epochs=500,verbose=0)\n",
        "model_huber_loss.predict([[10.0]])"
      ],
      "execution_count": 11,
      "outputs": [
        {
          "output_type": "execute_result",
          "data": {
            "text/plain": [
              "array([[19.019892]], dtype=float32)"
            ]
          },
          "metadata": {
            "tags": []
          },
          "execution_count": 11
        }
      ]
    },
    {
      "cell_type": "code",
      "metadata": {
        "colab": {
          "base_uri": "https://localhost:8080/"
        },
        "id": "PpxgHgaAsAmW",
        "outputId": "a8535602-11b5-4b15-e66c-c46e1de8bc8e"
      },
      "source": [
        "model_huber_loss.get_weights()"
      ],
      "execution_count": 12,
      "outputs": [
        {
          "output_type": "execute_result",
          "data": {
            "text/plain": [
              "[array([[2.0007935]], dtype=float32), array([-0.98804367], dtype=float32)]"
            ]
          },
          "metadata": {
            "tags": []
          },
          "execution_count": 12
        }
      ]
    },
    {
      "cell_type": "code",
      "metadata": {
        "colab": {
          "base_uri": "https://localhost:8080/",
          "height": 201
        },
        "id": "VWm5FDBAtEqJ",
        "outputId": "b506a0f7-d089-4b54-dfec-b2aade0a0a24"
      },
      "source": [
        "plot_model(model_huber_loss , to_file=\"huber_loss_model.png\" , show_layer_names=True , show_shapes=True)"
      ],
      "execution_count": 15,
      "outputs": [
        {
          "output_type": "execute_result",
          "data": {
            "image/png": "[encoded data removed]",
            "text/plain": [
              "<IPython.core.display.Image object>"
            ]
          },
          "metadata": {
            "tags": []
          },
          "execution_count": 15
        }
      ]
    }
  ]
}